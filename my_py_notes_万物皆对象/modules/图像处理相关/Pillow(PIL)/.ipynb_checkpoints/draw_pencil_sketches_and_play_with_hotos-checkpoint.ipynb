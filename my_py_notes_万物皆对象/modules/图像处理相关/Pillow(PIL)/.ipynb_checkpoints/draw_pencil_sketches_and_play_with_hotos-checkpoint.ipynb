{
 "cells": [
  {
   "cell_type": "code",
   "execution_count": 15,
   "metadata": {
    "collapsed": true
   },
   "outputs": [],
   "source": [
    "# 使用PIL中的ImageFilter来素描\n",
    "from PIL import Image\n",
    "from PIL import ImageFilter\n",
    "im=Image.open(\"./RMB.jpg\")\n",
    "imout=im.filter(ImageFilter.CONTOUR)\n",
    "imout.show()"
   ]
  },
  {
   "cell_type": "code",
   "execution_count": 16,
   "metadata": {},
   "outputs": [],
   "source": [
    "# 转换为黑白照片\n",
    "from PIL import Image\n",
    "image_file = Image.open(\"./Varanasi.jpg\") # Path of your image\n",
    "image_file = image_file.convert('L') # convert image to black and white\n",
    "image_file.show()"
   ]
  },
  {
   "cell_type": "code",
   "execution_count": 17,
   "metadata": {},
   "outputs": [],
   "source": [
    "# 在照片上写字\n",
    "from PIL import (Image, ImageFont, ImageDraw, ImageEnhance)\n",
    "font = ImageFont.truetype(\"/Library/Fonts/AmericanTypewriter.ttc\", 45)\n",
    "source_img = Image.open('./Varanasi.jpg').convert('RGBA')  # 图片路径\n",
    "draw = ImageDraw.Draw(source_img)      # 绘制图片\n",
    "draw.text((1000, 20), \"afa here\", font=font, fill=(0, 0, 0, 0)) # 在照片上写字\n",
    "source_img.show()"
   ]
  },
  {
   "cell_type": "code",
   "execution_count": 18,
   "metadata": {
    "collapsed": true
   },
   "outputs": [],
   "source": [
    "# 提高照片质量-差异, 明亮度, 颜色\n",
    "from PIL import ImageEnhance\n",
    "image = Image.open('./Varanasi.jpg')\n",
    "enhancer = ImageEnhance.Brightness(image) # Enhancing Brightness of the Image\n",
    "factor = 1.3\n",
    "enhancer.enhance(factor).show(\"Sharpness %f\" % factor)"
   ]
  }
 ],
 "metadata": {
  "kernelspec": {
   "display_name": "Python 3",
   "language": "python",
   "name": "python3"
  },
  "language_info": {
   "codemirror_mode": {
    "name": "ipython",
    "version": 3
   },
   "file_extension": ".py",
   "mimetype": "text/x-python",
   "name": "python",
   "nbconvert_exporter": "python",
   "pygments_lexer": "ipython3",
   "version": "3.6.2"
  }
 },
 "nbformat": 4,
 "nbformat_minor": 2
}
