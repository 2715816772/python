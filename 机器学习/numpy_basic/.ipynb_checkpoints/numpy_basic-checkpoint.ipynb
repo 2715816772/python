{
 "cells": [
  {
   "cell_type": "code",
   "execution_count": 1,
   "metadata": {},
   "outputs": [
    {
     "name": "stdout",
     "output_type": "stream",
     "text": [
      "[[1 2 3]\n",
      " [2 3 4]]\n",
      "2 (2, 3) 6\n"
     ]
    }
   ],
   "source": [
    "#numpy基础属性\n",
    "\n",
    "import numpy as np\n",
    "\n",
    "array  = np.array([[1,2,3],[2,3,4]])  # array(object, dtype=None, copy=True, order='K', subok=False, ndmin=0) -> Create an array.\n",
    "\n",
    "print(array)\n",
    "\n",
    "#维数，形状-几行几列，大小\n",
    "print(array.ndim, array.shape, array.size)\n"
   ]
  },
  {
   "cell_type": "code",
   "execution_count": 2,
   "metadata": {},
   "outputs": [
    {
     "name": "stdout",
     "output_type": "stream",
     "text": [
      "float32\n"
     ]
    }
   ],
   "source": [
    "a = np.array([2,23,4],dtype=np.float32) #类型精确 可以减小内存占用\n",
    "print(a.dtype)"
   ]
  },
  {
   "cell_type": "code",
   "execution_count": 3,
   "metadata": {},
   "outputs": [
    {
     "name": "stdout",
     "output_type": "stream",
     "text": [
      "[[ 0.  0.  0.  0.]\n",
      " [ 0.  0.  0.  0.]\n",
      " [ 0.  0.  0.  0.]] float64\n"
     ]
    }
   ],
   "source": [
    "a = np.zeros((3,4))  # zeros(shape, dtype=float, order='C') -> Return a new array of given shape and type, filled with zeros.\n",
    "print(a, a.dtype)"
   ]
  },
  {
   "cell_type": "code",
   "execution_count": 3,
   "metadata": {},
   "outputs": [
    {
     "name": "stdout",
     "output_type": "stream",
     "text": [
      "[[1 1 1 1]\n",
      " [1 1 1 1]\n",
      " [1 1 1 1]] int16\n"
     ]
    }
   ],
   "source": [
    "a = np.ones((3,4), dtype=np.int16)  # Return a new array of given shape and type, filled with ones.\n",
    "print(a, a.dtype)"
   ]
  },
  {
   "cell_type": "code",
   "execution_count": 5,
   "metadata": {},
   "outputs": [
    {
     "name": "stdout",
     "output_type": "stream",
     "text": [
      "[[  2.68156159e+154   4.33122285e-311   2.96439388e-323   0.00000000e+000]\n",
      " [  2.12199579e-314   4.47032019e-038   7.48611375e-091   1.69175750e-052]\n",
      " [  4.31935833e-038   2.72687356e-056   3.99910963e+252   8.34402697e-309]] float64\n"
     ]
    }
   ],
   "source": [
    "a = np.empty((3,4))  # empty(shape, dtype=float, order='C') -> Return a new array of given shape and type, without initializing entries.\n",
    "print(a, a.dtype)"
   ]
  },
  {
   "cell_type": "code",
   "execution_count": 6,
   "metadata": {},
   "outputs": [
    {
     "name": "stdout",
     "output_type": "stream",
     "text": [
      "[10 12 14 16 18]\n"
     ]
    }
   ],
   "source": [
    "a = np.arange(10,20,2)  # arange([start,] stop[, step,], dtype=None) -> Return evenly spaced values within a given interval.\n",
    "print(a)"
   ]
  },
  {
   "cell_type": "code",
   "execution_count": 7,
   "metadata": {},
   "outputs": [
    {
     "name": "stdout",
     "output_type": "stream",
     "text": [
      "[[ 0  1  2  3]\n",
      " [ 4  5  6  7]\n",
      " [ 8  9 10 11]]\n"
     ]
    }
   ],
   "source": [
    "a = np.arange(12).reshape((3,4))  # reshape() -> Gives a new shape to an array without changing its data.\n",
    "print(a)"
   ]
  },
  {
   "cell_type": "code",
   "execution_count": 8,
   "metadata": {},
   "outputs": [
    {
     "name": "stdout",
     "output_type": "stream",
     "text": [
      "[[  1.   2.   3.   4.   5.]\n",
      " [  6.   7.   8.   9.  10.]\n",
      " [ 11.  12.  13.  14.  15.]\n",
      " [ 16.  17.  18.  19.  20.]]\n"
     ]
    }
   ],
   "source": [
    "a = np.linspace(1, 20, 20).reshape((4, 5)) # 等间距\n",
    "print(a)"
   ]
  },
  {
   "cell_type": "code",
   "execution_count": 21,
   "metadata": {},
   "outputs": [
    {
     "name": "stdout",
     "output_type": "stream",
     "text": [
      "[10 20 30 40] [0 1 2 3]\n",
      "[  -54.40211109   365.17810029  -889.22846168  1192.18105677]\n",
      "[ True  True False False]\n"
     ]
    }
   ],
   "source": [
    "# 基本的运算\n",
    "a = np.array([10, 20, 30, 40])\n",
    "b = np.arange(4)\n",
    "print(a, b)\n",
    "c = a**2 * np.sin(a)\n",
    "print(c)\n",
    "\n",
    "print(a < 25)"
   ]
  },
  {
   "cell_type": "code",
   "execution_count": 11,
   "metadata": {},
   "outputs": [
    {
     "name": "stdout",
     "output_type": "stream",
     "text": [
      "[[1 1]\n",
      " [0 1]]\n",
      "[[0 1]\n",
      " [2 3]]\n",
      "-----------------a * b------------------\n",
      "[[0 1]\n",
      " [0 3]]\n",
      "------------------矩阵乘法------------------\n",
      "[[2 4]\n",
      " [2 3]]\n",
      "[[2 4]\n",
      " [2 3]]\n"
     ]
    }
   ],
   "source": [
    "# 矩阵的基本运算\n",
    "a = np.array([[1, 1], [0, 1]])\n",
    "\n",
    "b = np.arange(4).reshape((2, 2))  # 重整成2行2列\n",
    "\n",
    "print(a)\n",
    "print(b)\n",
    "\n",
    "print('a * b'.center(40, '-'))\n",
    "print(a * b) # 逐个相乘\n",
    "\n",
    "print('矩阵乘法'.center(40, '-'))\n",
    "print(np.dot(a,b)) # 矩阵乘法  矩阵乘法法则: 左行乘以右列\n",
    "print(a.dot(b))  # 上面等同于下面的矩阵乘法运算"
   ]
  },
  {
   "cell_type": "code",
   "execution_count": 32,
   "metadata": {},
   "outputs": [
    {
     "name": "stdout",
     "output_type": "stream",
     "text": [
      "[[ 0.06890363  0.73578109  0.39092708  0.90929877]\n",
      " [ 0.73815665  0.42756335  0.31625096  0.87633901]]\n",
      "[ 2.10491057  2.35830996]\n",
      "[ 0.06890363  0.42756335  0.31625096  0.87633901]\n"
     ]
    }
   ],
   "source": [
    "# 矩阵的基本运算\n",
    "a = np.random.random((2, 4))  # random() == random_sample(size=None) -> Return random floats in the half-open interval [0.0, 1.0).\n",
    "print(a)\n",
    "\n",
    "print(np.sum(a, axis=1))     # numpy.sum() ->  Sum of array elements over a given axis.  # axis: 坐标轴\n",
    "print(np.min(a, axis=0))     # numpy.min() -> Return the minimum of an array or minimum along an axis.\n",
    "                             # axis=0 表示纵轴， axis=1  表示横轴"
   ]
  },
  {
   "cell_type": "code",
   "execution_count": 45,
   "metadata": {
    "scrolled": false
   },
   "outputs": [
    {
     "name": "stdout",
     "output_type": "stream",
     "text": [
      "[[ 2  3  4  5]\n",
      " [ 6  7  8  9]\n",
      " [10 11 12 13]]\n",
      "-----------------最小值索引------------------\n",
      "0\n",
      "-----------------最大值索引------------------\n",
      "11\n",
      "------------------平均值-------------------\n",
      "7.5 7.5\n",
      "----------------矩阵纵轴的平均值----------------\n",
      "[ 6.  7.  8.  9.]\n",
      "7.5\n",
      "-----------------矩阵的中位数-----------------\n",
      "7.5\n",
      "--------累加 2  2+3 2+3+4 2+3+4+5---------\n",
      "[ 2  5  9 14 20 27 35 44 54 65 77 90]\n",
      "-------------累差 3-2 4-3 5-4-------------\n",
      "[[1 1 1]\n",
      " [1 1 1]\n",
      " [1 1 1]]\n",
      "------------------输出非0------------------\n",
      "(array([0, 0, 0, 0, 1, 1, 1, 1, 2, 2, 2]), array([0, 1, 2, 3, 0, 1, 2, 3, 0, 1, 2]))\n",
      "------------------打印a-------------------\n",
      "[[ 2  3  4  5]\n",
      " [ 6  7  8  9]\n",
      " [10 11 12  0]]\n",
      "------------------矩阵排序------------------\n",
      "[[ 2  3  4  5]\n",
      " [ 6  7  8  9]\n",
      " [ 0 10 11 12]]\n",
      "------------------矩阵转置------------------\n",
      "[[ 2  6 10]\n",
      " [ 3  7 11]\n",
      " [ 4  8 12]\n",
      " [ 5  9  0]]\n",
      "------------------矩阵乘法------------------\n",
      "[[140 158 176  64]\n",
      " [158 179 200  78]\n",
      " [176 200 224  92]\n",
      " [ 64  78  92 106]]\n",
      "-------矩阵值替换 所有小于5的 变为5  大于9的 变为9-------\n",
      "[[5 5 5 5]\n",
      " [6 7 8 9]\n",
      " [9 9 9 5]]\n"
     ]
    }
   ],
   "source": [
    "# 矩阵的基本运算\n",
    "a = np.arange(2, 14).reshape((3, 4))   # 产生一个2到14之间 且3行4列的矩阵\n",
    "print(a)\n",
    "\n",
    "print('最小值索引'.center(40, '-'))\n",
    "print(np.argmin(a)) # 最小值索引\n",
    "print('最大值索引'.center(40, '-'))\n",
    "print(np.argmax(a)) \n",
    "\n",
    "print('平均值'.center(40, '-'))\n",
    "print(np.mean(a), a.mean()) # 平均值\n",
    "print('矩阵纵轴的平均值'.center(40, '-'))\n",
    "print(np.mean(a, axis=0))\n",
    "\n",
    "print('加权平均值'.center(40, '-'))\n",
    "print(np.average(a)) \n",
    "print('矩阵的中位数'.center(40, '-'))\n",
    "print( np.median(a)) #中位数\n",
    "print('累加 2  2+3 2+3+4 2+3+4+5'.center(40, '-'))\n",
    "print( np.cumsum(a)) # 累加 2  2+3 2+3+4 2+3+4+5 \n",
    "print('累差 3-2 4-3 5-4'.center(40, '-'))\n",
    "print( np.diff(a)) # 累差 3-2 4-3 5-4\n",
    "\n",
    "a[2][3]=0\n",
    "print('输出非0'.center(40, '-'))\n",
    "print(np.nonzero(a)) # 输出非零\n",
    "\n",
    "print('打印a'.center(40, '-'))\n",
    "print(a)\n",
    "\n",
    "print('矩阵排序'.center(40, '-'))\n",
    "print(np.sort(a)) # 排序\n",
    "\n",
    "print('矩阵转置'.center(40, '-'))\n",
    "print(np.transpose(a)) #矩阵转置\n",
    "\n",
    "print('矩阵乘法'.center(40, '-'))\n",
    "print(a.T.dot(a))   # a.T -> return array(a) 表示返回一个矩阵转置\n",
    "\n",
    "print('矩阵值替换 所有小于5的 变为5  大于9的 变为9'.center(40, '-'))\n",
    "print(np.clip(a,5,9)) #所有小于5的 变为5  大于9的 变为9"
   ]
  },
  {
   "cell_type": "code",
   "execution_count": 49,
   "metadata": {},
   "outputs": [
    {
     "name": "stdout",
     "output_type": "stream",
     "text": [
      "------------------打印a-------------------\n",
      "[[ 3  4  5  6]\n",
      " [ 7  8  9 10]\n",
      " [11 12 13 14]]\n",
      "----------------------------------------\n",
      "12\n",
      "12\n",
      "[11 12 13 14]\n",
      "[ 4  8 12]\n",
      "------------------逐行打印------------------\n",
      "[3 4 5 6]\n",
      "[ 7  8  9 10]\n",
      "[11 12 13 14]\n",
      "------------------逐列打印------------------\n",
      "[ 3  7 11]\n",
      "[ 4  8 12]\n",
      "[ 5  9 13]\n",
      "[ 6 10 14]\n",
      "-----------------单个元素打印-----------------\n",
      "3\n",
      "4\n",
      "5\n",
      "6\n",
      "7\n",
      "8\n",
      "9\n",
      "10\n",
      "11\n",
      "12\n",
      "13\n",
      "14\n"
     ]
    }
   ],
   "source": [
    "# numpy索引\n",
    "a = np.arange(3, 15).reshape((3, 4))\n",
    "\n",
    "print('打印a'.center(40, '-'))\n",
    "print(a)\n",
    "print(''.center(40, '-'))\n",
    "print(a[2][1])\n",
    "print(a[2,1])\n",
    "print(a[2,:])\n",
    "print(a[:,1])\n",
    "\n",
    "print('逐行打印'.center(40, '-'))\n",
    "for row in a: # 行\n",
    "    print(row)\n",
    "\n",
    "print('逐列打印'.center(40, '-'))\n",
    "for column in a.T: # 列\n",
    "    print(column)\n",
    "\n",
    "print('单个元素打印'.center(40, '-'))\n",
    "for item in a.flat: # 单个元素\n",
    "    print(item)"
   ]
  },
  {
   "cell_type": "code",
   "execution_count": 51,
   "metadata": {},
   "outputs": [
    {
     "name": "stdout",
     "output_type": "stream",
     "text": [
      "------------------行合并-------------------\n",
      "[[1 1 1]\n",
      " [2 2 2]]\n",
      "------------------列合并-------------------\n",
      "[1 1 1 2 2 2]\n",
      "-----------------增加一个维度-----------------\n",
      "(3, 1)\n",
      "-----------------指定维度合并-----------------\n",
      "[1 1 1 2 2 2 2 2 2]\n"
     ]
    }
   ],
   "source": [
    "# 矩阵的合并\n",
    "a = np.array([1,1,1])\n",
    "b = np.array([2,2,2])\n",
    "\n",
    "print('行合并'.center(40, '-'))\n",
    "print(np.vstack((a,b))) # 行合并\n",
    "\n",
    "print('列合并'.center(40, '-'))\n",
    "print(np.hstack((a,b))) # 列合并\n",
    "\n",
    "print('增加一个维度'.center(40, '-'))\n",
    "print(a[:, np.newaxis].shape) # 增加一个维度\n",
    "\n",
    "print('指定维度合并'.center(40, '-'))\n",
    "c = np.concatenate((a, b, b), axis=0)  # 指定维度的合并\n",
    "print(c)"
   ]
  },
  {
   "cell_type": "code",
   "execution_count": 56,
   "metadata": {},
   "outputs": [
    {
     "name": "stdout",
     "output_type": "stream",
     "text": [
      "------------------打印a-------------------\n",
      "[[ 0  1  2  3]\n",
      " [ 4  5  6  7]\n",
      " [ 8  9 10 11]]\n",
      "----------横向拆分a, 2表示拆分为2个array----------\n",
      "[array([[0, 1],\n",
      "       [4, 5],\n",
      "       [8, 9]]), array([[ 2,  3],\n",
      "       [ 6,  7],\n",
      "       [10, 11]])]\n",
      "----------横向拆分a, 3表示拆分为3个array----------\n",
      "[array([[0, 1],\n",
      "       [4, 5],\n",
      "       [8, 9]]), array([[ 2],\n",
      "       [ 6],\n",
      "       [10]]), array([[ 3],\n",
      "       [ 7],\n",
      "       [11]])]\n",
      "--------------水平拆分为3个array--------------\n",
      "[array([[0, 1, 2, 3]]), array([[4, 5, 6, 7]]), array([[ 8,  9, 10, 11]])]\n",
      "--------------垂直拆分为2个array--------------\n",
      "[array([[0, 1],\n",
      "       [4, 5],\n",
      "       [8, 9]]), array([[ 2,  3],\n",
      "       [ 6,  7],\n",
      "       [10, 11]])]\n"
     ]
    }
   ],
   "source": [
    "# 矩阵的拆分\n",
    "a = np.arange(12).reshape((3, 4))\n",
    "\n",
    "print('打印a'.center(40, '-'))\n",
    "print(a)\n",
    "\n",
    "print('横向拆分a, 2表示拆分为2个array'.center(40, '-'))\n",
    "print(np.split(a, 2, axis=1))    # numpy.split() -> Split an array into multiple sub-arrays.\n",
    "\n",
    "print('横向拆分a, 3表示拆分为3个array'.center(40, '-'))\n",
    "print(np.array_split(a, 3, axis=1)) \n",
    "\n",
    "print('水平拆分为3个array'.center(40, '-'))\n",
    "print(np.vsplit(a, 3))\n",
    "\n",
    "print('垂直拆分为2个array'.center(40, '-'))\n",
    "print(np.hsplit(a, 2))"
   ]
  },
  {
   "cell_type": "code",
   "execution_count": 105,
   "metadata": {},
   "outputs": [
    {
     "name": "stdout",
     "output_type": "stream",
     "text": [
      "[0 1 2 3]\n",
      "[11  1  2  3]\n",
      "[0 1 2 3]\n",
      "[11  1  2  3]\n"
     ]
    }
   ],
   "source": [
    "# 矩阵的copy\n",
    "a = np.arange(4)\n",
    "print(a)\n",
    "\n",
    "b = a\n",
    "\n",
    "a[0]=11\n",
    "\n",
    "b is a\n",
    "\n",
    "print(b)\n",
    "\n",
    "\n",
    "d = a.copy()\n",
    "\n",
    "a[0]=0\n",
    "\n",
    "print(a)\n",
    "print(d)\n",
    "\n"
   ]
  }
 ],
 "metadata": {
  "kernelspec": {
   "display_name": "Python 3",
   "language": "python",
   "name": "python3"
  },
  "language_info": {
   "codemirror_mode": {
    "name": "ipython",
    "version": 3
   },
   "file_extension": ".py",
   "mimetype": "text/x-python",
   "name": "python",
   "nbconvert_exporter": "python",
   "pygments_lexer": "ipython3",
   "version": "3.6.2"
  }
 },
 "nbformat": 4,
 "nbformat_minor": 1
}
