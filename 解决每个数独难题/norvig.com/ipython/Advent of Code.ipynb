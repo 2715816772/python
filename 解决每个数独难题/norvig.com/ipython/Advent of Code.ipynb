{
 "cells": [
  {
   "cell_type": "markdown",
   "metadata": {},
   "source": [
    "# December 2016: Advent of Code Solutions\n",
    "\n",
    "## Peter Norvig\n",
    "\n",
    "From Dec. 1 to Dec. 25, [I](http://norvig.com) will be solving the puzzles that appear each day at *[Advent of Code](http://adventofcode.com/)*. The two-part puzzles are released at midnight EST (9:00PM my time); points are awarded to the first 100 people to solve the day's puzzles. The code shown here basically represents what I did to solve the problem, but slightly cleaned up:\n",
    "- On days when I start at 9:00PM and am competing against the clock, I take shortcuts. I use shorter names, because I'm not a fast typer. I run test cases in the Jupyter Notebook, but don't make them into `assert` statements. Even then, I'm not really competitive with the fastest solvers.\n",
    "- On days when I don't start until all the points are gone, what you see here is pretty much exactly what I did, or at least what I ended up with after correcting typos and other errors. \n",
    "\n",
    "To understand the problems completely, you will have to read the full description in the **\"[Day 1](http://adventofcode.com/2016/day/1):\"** link in each day's section header.\n",
    "\n",
    "# Day 0: Getting Ready\n",
    "\n",
    "On November 30th, I spent some time preparing: \n",
    "\n",
    "- I'll import my favorite modules and functions, so I don't have to do it each day.\n",
    "\n",
    "- From  looking at [last year's](http://adventofcode.com/2015) puzzles, I knew that there would be a data file on many days, so I defined `Input` to open the file (and for those using this notebook on a remote machine, to fetch the file from the web). My data files are at [http://norvig.com/ipython/advent2016/](http://norvig.com/ipython/advent2016/).\n",
    "\n",
    "- From working on another puzzle site, [Project Euler](https://projecteuler.net/), I had built up a collection of utility functions, shown below:"
   ]
  },
  {
   "cell_type": "code",
   "execution_count": 1,
   "metadata": {
    "collapsed": false
   },
   "outputs": [],
   "source": [
    "# Python 3.x\n",
    "import re\n",
    "import numpy as np\n",
    "import math\n",
    "import urllib.request\n",
    "\n",
    "from collections import Counter, defaultdict, namedtuple, deque\n",
    "from functools   import lru_cache\n",
    "from itertools   import permutations, combinations, chain, cycle, product, islice\n",
    "from heapq       import heappop, heappush\n",
    "\n",
    "def Input(day):\n",
    "    \"Open this day's input file.\"\n",
    "    filename = 'advent2016/input{}.txt'.format(day)\n",
    "    try:\n",
    "        return open(filename)\n",
    "    except FileNotFoundError:\n",
    "        return urllib.request.urlopen(\"http://norvig.com/ipython/\" + filename)\n",
    "\n",
    "def transpose(matrix): return zip(*matrix)\n",
    "\n",
    "def first(iterable): return next(iter(iterable))\n",
    "\n",
    "def nth(iterable, n, default=None):\n",
    "    \"Returns the nth item of iterable, or a default value\"\n",
    "    return next(islice(iterable, n, None), default)\n",
    "\n",
    "cat = ''.join\n",
    "\n",
    "Ø   = frozenset() # Empty set\n",
    "inf = float('inf')\n",
    "BIG = 10 ** 999\n",
    "\n",
    "def grep(pattern, lines):\n",
    "    \"Print lines that match pattern.\"\n",
    "    for line in lines:\n",
    "        if re.search(pattern, line):\n",
    "            print(line)\n",
    "\n",
    "def groupby(iterable, key=lambda it: it):\n",
    "    \"Return a dic whose keys are key(it) and whose values are all the elements of iterable with that key.\"\n",
    "    dic = defaultdict(list)\n",
    "    for it in iterable:\n",
    "        dic[key(it)].append(it)\n",
    "    return dic\n",
    "\n",
    "def powerset(iterable):\n",
    "    \"Yield all subsets of items.\"\n",
    "    items = list(iterable)\n",
    "    for r in range(len(items)+1):\n",
    "        for c in combinations(items, r):\n",
    "            yield c\n",
    "\n",
    "# 2-D points implemented using (x, y) tuples\n",
    "def X(point): return point[0]\n",
    "def Y(point): return point[1]\n",
    "\n",
    "def neighbors4(point): \n",
    "    \"The four neighbors (without diagonals).\"\n",
    "    x, y = point\n",
    "    return ((x+1, y), (x-1, y), (x, y+1), (x, y-1))\n",
    "\n",
    "def neighbors8(point): \n",
    "    \"The eight neighbors (with diagonals).\"\n",
    "    x, y = point \n",
    "    return ((x+1, y), (x-1, y), (x, y+1), (x, y-1),\n",
    "            (X+1, y+1), (x-1, y-1), (x+1, y-1), (x-1, y+1))\n",
    "\n",
    "def cityblock_distance(p, q=(0, 0)): \n",
    "    \"City block distance between two points.\"\n",
    "    return abs(X(p) - X(q)) + abs(Y(p) - Y(q))\n",
    "\n",
    "def euclidean_distance(p, q=(0, 0)): \n",
    "    \"Euclidean (hypotenuse) distance between two points.\"\n",
    "    return math.hypot(X(p) - X(q), Y(p) - Y(q))\n",
    "\n",
    "def trace1(f):\n",
    "    \"Print a trace of the input and output of a function on one line.\"\n",
    "    def traced_f(*args):\n",
    "        result = f(*args)\n",
    "        print('{}({}) = {}'.format(f.__name__, ', '.join(map(str, args)), result))\n",
    "        return result\n",
    "    return traced_f\n",
    "\n",
    "def astar_search(start, h_func, moves_func):\n",
    "    \"Find a shortest sequence of states from start to a goal state (a state s with h_func(s) == 0).\"\n",
    "    frontier  = [(h_func(start), start)] # A priority queue, ordered by path length, f = g + h\n",
    "    previous  = {start: None}  # start state has no previous state; other states will\n",
    "    path_cost = {start: 0}     # The cost of the best path to a state.\n",
    "    while frontier:\n",
    "        (f, s) = heappop(frontier)\n",
    "        if h_func(s) == 0:\n",
    "            return Path(previous, s)\n",
    "        for s2 in moves_func(s):\n",
    "            new_cost = path_cost[s] + 1\n",
    "            if s2 not in path_cost or new_cost < path_cost[s2]:\n",
    "                heappush(frontier, (new_cost + h_func(s2), s2))\n",
    "                path_cost[s2] = new_cost\n",
    "                previous[s2] = s\n",
    "    return dict(fail=True, front=len(frontier), prev=len(previous))\n",
    "                \n",
    "def Path(previous, s): \n",
    "    \"Return a list of states that lead to state s, according to the previous dict.\"\n",
    "    return ([] if (s is None) else Path(previous, previous[s]) + [s])"
   ]
  },
  {
   "cell_type": "markdown",
   "metadata": {},
   "source": [
    "Some tests/examples for these:"
   ]
  },
  {
   "cell_type": "code",
   "execution_count": 2,
   "metadata": {
    "collapsed": false
   },
   "outputs": [],
   "source": [
    "assert tuple(transpose(((1, 2, 3), (4, 5, 6)))) == ((1, 4), (2, 5), (3, 6))\n",
    "assert first('abc') == first(['a', 'b', 'c']) == 'a'\n",
    "assert cat(['a', 'b', 'c']) == 'abc'\n",
    "assert (groupby(['test', 'one', 'two', 'three', 'four'], key=len) \n",
    "        == {3: ['one', 'two'], 4: ['test', 'four'], 5: ['three']})"
   ]
  },
  {
   "cell_type": "markdown",
   "metadata": {},
   "source": [
    "# [Day 1](http://adventofcode.com/2016/day/1): No Time for a Taxicab\n",
    "\n",
    "Given a sequence of moves, such as `\"R2, L3\"`, which means turn 90&deg; to the right and go forward 2 blocks, then turn 90&deg; left and go 3 blocks, how many blocks do we end up away from the start? I make the following choices:\n",
    "* **Intersection Points** in the city grid will be represented as points on the complex plane. \n",
    "* **Headings and turns** can be represented by unit vectors in the complex plane: if you are heading east (along the positive real axis), then a left turn means you head north, and a right turn means you head south, and [in general](https://betterexplained.com/articles/understanding-why-complex-multiplication-works/) a left or right turn is a multiplication of your current heading by the `North` or `South` unit vectors, respectively.  \n",
    "* **Moves** of the form `\"R53\"` will be parsed into a `(turn, distance)` pair, e.g. `(South, 53)`.\n",
    "\n",
    "To solve the puzzle with the function `how_far(moves)`, I initialize the starting location as the origin and the starting heading as North, and follow the list of moves, updating the heading and location on each step, before returning the distance from the final location to the origin."
   ]
  },
  {
   "cell_type": "code",
   "execution_count": 3,
   "metadata": {
    "collapsed": false
   },
   "outputs": [
    {
     "data": {
      "text/plain": [
       "250.0"
      ]
     },
     "execution_count": 3,
     "metadata": {},
     "output_type": "execute_result"
    }
   ],
   "source": [
    "Point = complex             \n",
    "N, S, E, W = 1j, -1j, 1, -1 # Unit vectors for headings\n",
    "\n",
    "def distance(point): \n",
    "    \"City block distance between point and the origin.\"\n",
    "    return abs(point.real) + abs(point.imag)\n",
    "\n",
    "def how_far(moves):\n",
    "    \"After following moves, how far away from the origin do we end up?\"\n",
    "    loc, heading = 0, N # Begin at origin, heading North\n",
    "    for (turn, dist) in parse(moves):\n",
    "        heading *= turn\n",
    "        loc += heading * dist\n",
    "    return distance(loc)\n",
    "\n",
    "def parse(text):\n",
    "    \"Return a list of (turn, distance) pairs from text of form 'R2, L42, ...'\"\n",
    "    turns = dict(L=N, R=S)\n",
    "    return [(turns[RL], int(d))\n",
    "           for (RL, d) in re.findall(r'(R|L)(\\d+)', text)]\n",
    "\n",
    "assert distance(Point(3, 4)) == 7 # City block distance; Euclidean distance would be 5\n",
    "assert parse('R2, L42') == [(S, 2), (N, 42)]\n",
    "assert how_far(\"R2, L3\") == 5\n",
    "assert how_far(\"R2, R2, R2\") == 2\n",
    "assert how_far(\"R5, L5, R5, R3\") == 12\n",
    "\n",
    "how_far(Input(1).read())"
   ]
  },
  {
   "cell_type": "markdown",
   "metadata": {},
   "source": [
    "In **part two** of this puzzle, I have to find the first point that is visited twice. To support that, I keep track of the set of visited points. My first submission was wrong, because I didn't consider that the first point visited twice might be in the middle of a move, not the end, so I added the \"`for i`\" loop to iterate over the path of a move, one point at a time."
   ]
  },
  {
   "cell_type": "code",
   "execution_count": 4,
   "metadata": {
    "collapsed": false
   },
   "outputs": [
    {
     "data": {
      "text/plain": [
       "151.0"
      ]
     },
     "execution_count": 4,
     "metadata": {},
     "output_type": "execute_result"
    }
   ],
   "source": [
    "def visited_twice(text):\n",
    "    \"Following moves in text, find the first location we visit twice, and return the distance to it.\"\n",
    "    loc, heading = 0, N # Begin at origin, heading North\n",
    "    visited = {loc}\n",
    "    for (turn, dist) in parse(text):\n",
    "        heading *= turn\n",
    "        for i in range(dist):\n",
    "            loc += heading\n",
    "            if loc in visited:\n",
    "                return distance(loc)\n",
    "            visited.add(loc)\n",
    "\n",
    "assert visited_twice(\"R8, R4, R4, R8\") == 4\n",
    "assert visited_twice(\"R8, R4, R4, L8\") == None\n",
    "assert visited_twice(\"R8, R0, R1\") == 7\n",
    "\n",
    "visited_twice(Input(1).read())"
   ]
  },
  {
   "cell_type": "markdown",
   "metadata": {},
   "source": [
    "# [Day 2](http://adventofcode.com/2016/day/2): Bathroom Security\n",
    "\n",
    "Given instructions in the form of a sequence of Up/Down/Right/Left moves, such as `'ULL'`, output the keys on the bathroom lock keypad that the instructions correspond to. Start at the 5 key. Representation choices:\n",
    "* **Keypad**: a keypad is an array of strings: `keypad[y][x]` is a key. The character `'.'` indicates a location that is `off` the keypad; by surrounding the keys with a border of `off` characters, I avoid having to write code that checks to see if we hit the edge.\n",
    "* **Key**: A key is a character other than `'.'`.\n",
    "* **Instructions**: A sequence of lines of `\"UDRL\"` characters, where each line leads to the output of one key."
   ]
  },
  {
   "cell_type": "code",
   "execution_count": 5,
   "metadata": {
    "collapsed": false
   },
   "outputs": [
    {
     "data": {
      "text/plain": [
       "'97289'"
      ]
     },
     "execution_count": 5,
     "metadata": {},
     "output_type": "execute_result"
    }
   ],
   "source": [
    "Keypad = str.split\n",
    "\n",
    "keypad = Keypad(\"\"\"\n",
    ".....\n",
    ".123.\n",
    ".456.\n",
    ".789.\n",
    ".....\n",
    "\"\"\")\n",
    "\n",
    "assert keypad[2][2] == '5'\n",
    "\n",
    "off = '.'\n",
    "\n",
    "def decode(instructions, x=2, y=2):\n",
    "    \"\"\"Follow instructions, keeping track of x, y position, and\n",
    "    yielding the key at the end of each line of instructions.\"\"\"\n",
    "    for line in instructions:\n",
    "        for C in line:\n",
    "            x, y = move(C, x, y)\n",
    "        yield keypad[y][x]\n",
    "\n",
    "def move(C, x, y):\n",
    "    \"Make the move corresponding to this character (L/R/U/D)\"\n",
    "    if   C == 'L' and keypad[y][x-1] is not off: x -= 1\n",
    "    elif C == 'R' and keypad[y][x+1] is not off: x += 1\n",
    "    elif C == 'U' and keypad[y-1][x] is not off: y -= 1\n",
    "    elif C == 'D' and keypad[y+1][x] is not off: y += 1\n",
    "    return x, y\n",
    "\n",
    "assert move('U', 2, 2) == (2, 1)\n",
    "assert move('U', 2, 1) == (2, 1)\n",
    "assert cat(decode(\"ULL RRDDD LURDL UUUUD\".split())) == '1985'\n",
    "\n",
    "cat(decode(Input(2)))"
   ]
  },
  {
   "cell_type": "markdown",
   "metadata": {},
  