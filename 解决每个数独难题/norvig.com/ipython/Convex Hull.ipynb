{
 "cells": [
  {
   "cell_type": "markdown",
   "metadata": {
    "button": false,
    "deletable": true,
    "new_sheet": false,
    "run_control": {
     "read_only": false
    }
   },
   "source": [
    "# The Convex Hull Problem"
   ]
  },
  {
   "cell_type": "markdown",
   "metadata": {
    "button": false,
    "deletable": true,
    "new_sheet": false,
    "run_control": {
     "read_only": false
    }
   },
   "source": [
    "Pound a bunch of nails into a board, then stretch a rubber band around them and let the rubber band snap taut, like this:\n",
    "\n",
    "<img src=\"http://www.personal.kent.edu/~rmuhamma/Compgeometry/MyCG/Gifs-CompGeometry/ch2.gif\">\n",
    "\n",
    "The rubber band has traced out the *convex hull* of the set of nails. It turns out this is an important problem with applications in computer graphics, robot motion planning, geographical information systems, ethology, and other areas.\n",
    "More formally, we say that:\n",
    "\n",
    "*Given a finite set, **P**, of points in a plane, the convex hull of **P** is a polygon, **H**, such 