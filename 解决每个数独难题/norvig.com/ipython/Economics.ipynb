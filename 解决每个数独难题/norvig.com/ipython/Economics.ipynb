{
 "cells": [
  {
   "cell_type": "markdown",
   "metadata": {},
   "source": [
    "# Economics Simulation"
   ]
  },
  {
   "cell_type": "markdown",
   "metadata": {},
   "source": [
    "This is a simulation of an economic marketplace in which there is a *population* of actors, each of which has a level of wealth.  On each time step two actors (chosen by an *interaction function*) engage in a transaction that exchanges wealth between them (according to a *transaction function*).  The idea is to understand the evolution of the population's wealth over time.  I heard about the problem when I visited the Bard College Computer Science Department. \n",
    "\n",
    "<img src=\"money.png\" width=200>\n",
    "\n",
    "Why is this interesting? \n",
    "- It is an example of using simulation to model the world. The model is simple but captures some aspects of a complex world.\n",
    "- Many students will have preconceptions about how economies work that will be challenged by the results shown here.\n",
    "- It reveals subtle differences between computational thinking, mathematical thinking, and statistical thinking."
   ]
  },
  {
   "cell_type": "markdown",
   "metadata": {},
   "source": [
    "# Population Distributions"
   ]
  },
  {
   "cell_type": "markdown",
   "metadata": {},
   "source": [
    "We will model a population as a list of `N` numbers, each number being one actor's wealth. We'll start with a Gaussian distribution (also known as a *normal* distribution or *bell-shaped curve*), with a mean wealth of 100 [simoleons](http://en.wiktionary.org/wiki/simoleon) and a standard deviation of 1/5 the mean:"
   ]
  },
  {
   "cell_type": "code",
   "execution_count": 1,
   "metadata": {
    "collapsed": true
   },
   "outputs": [],
   "source": [
    "import random\n",
    "\n",
    "N  = 5000 # Default size of the population\n",
    "MU = 100. # Default mean of the population\n",
    "\n",
    "population = [random.gauss(mu=MU, sigma=MU/5) for actor in range(N)]"
   ]
  },
  {
   "cell_type": "markdown",
   "metadata": {},
   "source": [
    "# Population Statistics and Visualization\n",
    "\n",
    "How evenly is the wealth in a population distributed?  The traditional measure is the [Gini coefficient](http://en.wikipedia.org/wiki/Gini_coefficient), which Wikipedia says is computed by this formula (which assumes the *y* values are sorted):\n",
    "\n",
    "![Gini](https://upload.wikimedia.org/math/b/b/5/bb50601acc135c45a24bb0493f7555b4.png)\n",
    "\n",
    "A Gini index of 0 means total equality (everyone has the same amount), and values closer to 1 mean more inequality (most of the money in the hands of a few individuals).  Here's a table of Gini coefficients for several countries:\n",
    "\n",
    "<table>\n",
    "<tr><td>Sweden <td> 0.250\n",
    "<tr><td>Canada <td> 0.326\n",
    "<tr><td>Switzerland <td> 0.337\n",
    "<tr><td>United States<td> 0.408\n",
    "<tr><td>Chile <td> 0.521\n",
    "<tr><td>South Africe <td> 0.631\n",
    "</table>\n",
    "\n",
    "\n",
    "The Gini coefficient is traditionally computed over *income*, but we will be dealing with *wealth*. Here is the computation:"
   ]
  },
  {
   "cell_type": "code",
   "execution_count": 2,
   "metadata": {
    "collapsed": false
   },
   "outputs": [],
   "source": [
    "def gini(y):\n",
    "    \"Compute the Gini coefficient (a measure of equality/inequality) in a population, y.\"\n",
    "    y = sorted(y)\n",
    "    n = len(y)\n",
    "    numer = 2 * sum((i+1) * y[i] for i in range(n))\n",
    "    denom = n * sum(y)\n",
    "    return (numer / denom) - (n + 1) / n"
   ]
  },
  {
   "cell_type": "markdown",
   "metadata": {},
   "source": [
    "We'll define the function `hist` to plot a histogram of a population. Our `hist` wraps `plt.hist`, but with some specific keyword values:"
   ]
  },
  {
   "cell_type": "code",
   "execution_count": 3,
   "metadata": {
    "collapsed": true
   },
   "outputs": [],
   "source": [
    "%matplotlib inline\n",
    "import matplotlib.pyplot as plt\n",
    "\n",
    "def hist(population, label='pop', **kwargs):\n",
    "    \"A custom version of `hist` with better defaults.\"\n",
    "    label = label + ': G=' + str(round(gini(population), 2))\n",
    "    h = plt.hist(list(population), bins=30, alpha=0.5, label=label, **kwargs)\n",
    "    plt.xlabel('wealth'); plt.ylabel('count'); plt.grid(True)\n",
    "    plt.legend()"
   ]
  },
  {
   "cell_type": "code",
   "execution_count": 4,
   "metadata": {
    "collapsed": false
   },
   "outputs": [
    {
     "data": {
      "image/png": "iVBORw0KGgoAAAANSUhEUgAAAYwAAAEPCAYAAABRHfM8AAAABHNCSVQICAgIfAhkiAAAAAlwSFlz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\nRWYbDVH2zY6SM8JxA6CceYqybkbJmZWO9BYRkVRUMA