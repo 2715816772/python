{
 "metadata": {
  "name": "",
  "signature": "sha256:d0203b0f622d317f1ef81956dd65a2cba91aa9cf994a926eaebcc4c4eb7ee1c6"
 },
 "nbformat": 3,
 "nbformat_minor": 0,
 "worksheets": [
  {
   "cells": [
    {
     "cell_type": "heading",
     "level": 1,
     "metadata": {},
     "source": [
      "Sol Golomb\u2019s Rectangle Puzzle"
     ]
    },
    {
     "cell_type": "markdown",
     "metadata": {},
     "source": [
      "This problem was presented by Gary Antonik in his 14/4/14 New York Times [Numberplay column](http://wordplay.blogs.nytimes.com/2014/04/14/rectangle). \n",
      "\n",
      ">Say you\u2019re given the following challenge: create a set of five rectangles that have sides of length 1, 2, 3, 4, 5, 6, 7, 8, 9 and 10 units. You can combine sides in a variety of ways: for example, you could create a set of rectangles with dimensions 1 x 3, 2 x 4, 5 x 7, 6 x 8 and 9 x 10.\n",
      ">\n",
      ">1. How many different sets of five rectangles are possible?\n",
      ">\n",
      ">2. What are the maximum and minimum values for the total areas of the five rectangles?\n",
      "<p><b>Bonus Challenges</b><p>\n",
      ">\n",
      ">3. What other values for the total areas of the five rectangles are possible?\n",
      ">\n",
      ">4. Which sets of rectangles may be assembled to form a square?\n",
      "\n",
      "To me, these are interesting questions because, first, I have a (slight) personal connection to Solomon Golomb (my former colleague at USC) and to Nelson Blachman (the father of my colleague Nancy Blachman), who presented the problem to  Antonik, and second, I find it interesting that the problems span the range from mathematical to computational. I wonder how the way I look at the problems compares to others who have a different mix of these two disciplines."
     ]
    },
    {
     "cell_type": "heading",
     "level": 2,
     "metadata": {},
     "source": [
      "1. How many different sets of five rectangles are possible?"
     ]
    },
    {
     "cell_type": "markdown",
     "metadata": {},
     "source": [
      "This is a basic [combinatorics](http://en.wikipedia.org/wiki/Combinatorics) or counting problem. I will present *three* methods to count the sets. (Hopefully they will give the same answer.) The example set given in the problem was\n",
      "\n",
      "> {1 &times; 3, 2 &times; 4, 5 &times; 7, 6 &times; 8, 9 &times; 10}\n",
      "    \n",
      "and in general it would be\n",
      "\n",
      "> {A &times; B, C &times; D, E &times; F, G &times; H, I &times; J}\n",
      "\n",
      "The question is: how many distinct ways can we assign values to the variables A through J?\n",
      "    \n",
      "**Method 1: Count all permutations and divide by repetitions:** There are 10 variables to be filled, so there are 10! = 3628800 permutations.  But if we fill the first two variables with 1 &times; 3, that is the same rectangle as 3 &times; 1. So divide 10! by 2<sup>5</sup> to account for the fact that each of 5 rectangles can appear 2 ways.  Similarly, if we fill A and B with 1 &times; 3, that yields the same set as if we filled C and D with 1 &times; 3.  So divide again by 5! (the number of permutations of 5 things) to account for this.\n",
      "That gives us <a href=\"https://www.google.com/search?ie=UTF-8#q=10!+%2F+2%5E5+/+5!\">10! / 2<sup>5</sup> / 5!</a> = 945.  (It is always gratifying when this \"count and divide\" method comes out to a whole number.)\n",
      "\n",
      "**Method 2: Count without repetitions**: The example set is presented in [lexicographical order](http://en.wikipedia.org/wiki/Lexicographical_order): in each rectangle the smaller component is listed first, and in the set, the rectangles with smaller first components are listed first.  An alternate to \"count and divide\" is to count directly how many sets there are in lexicographical order.  We'll work from left to right.  How many choices are there for variable A?  Only on