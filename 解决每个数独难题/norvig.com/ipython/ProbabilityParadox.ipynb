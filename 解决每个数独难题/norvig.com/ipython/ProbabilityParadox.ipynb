{
 "cells": [
  {
   "cell_type": "markdown",
   "metadata": {
    "button": false,
    "deletable": true,
    "new_sheet": false,
    "run_control": {
     "read_only": false
    }
   },
   "source": [
    "<div style=\"text-align: right\">Peter Norvig, 3 Oct 2015, revised 8 Jan 2017</div> \n",
    "\n",
    "# Probability, Paradox, and the Reasonable Person Principle\n",
    "\n",
    "In [another notebook](http://nbviewer.jupyter.org/url/norvig.com/ipython/Probability.ipynb), I introduced the basics of probability theory.  A quick glossary of terms:\n",
    "\n",
    "* **P(E, D)**: the probability of event E, given probability distribution D describing the complete sample space of possible outcomes.\n",
    "* **outcome**: What actually happens (like a die rolling a 6). Also called an **atomic event**.\n",
    "* **event**: A description of possibly several atomic events (like rolling an even number).\n",
    "* **sample space**: The set of possible outcomes.\n",
    "* **probability distribution**: A mapping from every possible outcome to a number in the range 0 to 1 saying how likely the outcome is.\n",
    "* **uniform distribution**: A probability distribution in which every outcome is equally probable.\n",
    "\n",
    "Here I refactor the earlier code, keeping only the parts that are most important for this notebook, which will show how to solve some particularly perplexing paradoxical probability problems."
   ]
  },
  {
   "cell_type": "code",
   "execution_count": 1,
   "metadata": {
    "button": false,
    "collapsed": false,
    "deletable": true,
    "new_sheet": false,
    "run_control": {
     "read_only": false
    }
   },
   "outputs": [],
   "source": [
    "from fractions import Fraction\n",
    "\n",
    "def P(predicate, dist): \n",
    "    \"The probability that `predicate` is true, given the probability distribution `dist`.\"\n",
    "    return sum(dist[e] for e in dist if predicate(e))\n",
    "\n",
    "class ProbDist(dict):\n",
    "    \"A Probability Distribution; an {outcome: probability} mapping where probabilities sum to 1.\"\n",
    "    def __init__(self, mapping=(), **kwargs):\n",
    "        self.update(mapping, **kwargs)\n",
    "        total = sum(self.values())\n",
    "        if isinstance(total, int): \n",
    "            total = Fraction(total, 1)\n",
    "        for key in self: # Make probabilities sum to 1.\n",
    "            self[key] = self[key] / total\n",
    "            \n",
    "    def __and__(self, predicate): # Call this method by writing `probdist & predicate`\n",
    "        \"A new ProbDist, restricted to the outcomes of this ProbDist for which the predicate is true.\"\n",
    "        return ProbDist({e:self[e] for e in self if predicate(e)})\n",
    "\n",
    "def Uniform(outcomes): return ProbDist({e: 1 for e in outcomes})\n",
    "\n",
    "def joint(A, B, sep=''):\n",
    "    \"\"\"The joint distribution of two independent probability distributions. \n",
    "    Result is all entries of the form {a+sep+b: P(a)*P(b)}\"\"\"\n",
    "    return ProbDist({a + sep + b: A[a] * B[b]\n",
    "                    for a in A\n",
    "                    for b in B})"
   ]
  },
  {
   "cell_type": "markdown",
   "metadata": {
    "button": false,
    "deletable": true,
    "new_sheet": false,
    "run_control": {
     "read_only": false
    }
   },
   "source": [
    "# Child Paradoxes\n",
    "\n",
    "In 1959, [Martin Gardner]() [posed](https://en.wikipedia.org/wiki/Boy_or_Girl_paradox) these two problems:\n",
    "\n",
    "- **Child Problem 1.** Mr. Jones has two children. The older child is a boy. What is the\n",
    "probability that both children are boys?\n",
    "\n",
    "- **Child Problem 2.** Mr. Smith has two children. At least one of them is a boy. What is\n",
    "the probability that both children are boys? \n",
    "\n",
    "Then in 2006, Mike & Tom Starbird came up with a variant, which Gary Foshee introduced to Gardner fans in 2010:\n",
    "\n",
    "- **Child Problem 3.** I have two children. At least one of them is a boy born on Tuesday. What is\n",
    "the probability that both children are boys? \n",
    "\n",
    "Problems 2 and 3 are considered *paradoxes* because they have surprising answers that people\n",
    "argue about. \n",
    "\n",
    "(Assume the probability of a boy is exactly 1/2, and is independent of any siblings.)\n",
    "\n",
    "![Martin Gardner](https://upload.wikimedia.org/wikipedia/commons/0/04/Martin_Gardner.jpeg)\n",
    "<center>Martin Gardner</center>"
   ]
  },
  {
   "cell_type": "markdown",
   "metadata": {
    "button": false,
    "deletable": true,
    "new_sheet": false,
    "run_control": {
     "read_only": false
    }
   },
   "source": [
    "### Child Problem 1: Older child is a boy. What is the probability both are boys?\n",
    "\n",
    "We use `'BG'` to denote the outcome in which the older child is a boy and the younger a girl. The prior probability distribution, `two_kids`, has four equi-probable outcomes:"
   ]
  },
  {
   "cell_type": "code",
   "execution_count": 2,
   "metadata": {
    "button": false,
    "collapsed": false,
    "deletable": true,
    "new_sheet": false,
    "run_control": {
     "read_only": false
    }
   },
   "outputs": [],
   "source": [
    "two_kids = Uniform({'BG', 'BB', 'GB', 'GG'})"
   ]
  },
  {
   "cell_type": "markdown",
   "metadata": {
    "button": false,
    "collapsed": false,
    "deletable": true,
    "new_sheet": false,
    "run_control": {
     "read_only": false
    }
   },
   "source": [
    "Let's define predicates for the conditions of having two boys, and of the older child being a boy:"
   ]
  },
  {
   "cell_type": "code",
   "execution_count": 3,
   "metadata": {
    "button": false,
    "collapsed": false,
    "deletable": true,
    "new_sheet": false,
    "run_control": {
     "read_only": false
    }
   },
   "outputs": [],
   "source": [
    "def two_boys(outcome): return outcome.count('B') == 2\n",
    "\n",
    "def older_is_a_boy(outcome): return outcome.startswith('B')"
   ]
  },
  {
   "cell_type": "markdown",
   "metadata": {
    "button": false,
    "deletable": true,
    "new_sheet": false,
    "run_control": {
     "read_only": false
    }
   },
   "source": [
    "Now we can answer Problem 1: \"What is the probability of two boys, given two kids of which the older is a boy?\""
   ]
  },
  {
   "cell_type": "code",
   "execution_count": 4,
   "metadata": {
    "collapsed": false
   },
   "outputs": [
    {
     "data": {
      "text/plain": [
       "Fraction(1, 2)"
      ]
     },
     "execution_count": 4,
     "metadata": {},
     "output_type": "execute_result"
    }
   ],
   "source": [
    "P(two_boys, two_kids & older_is_a_boy)"
   ]
  },
  {
   "cell_type": "markdown",
   "metadata": {
    "button": false,
    "deletable": true,
    "new_sheet": false,
    "run_control": {
     "read_only": false
    }
   },
   "source": [
    "You're probably thinking that was a lot of mechanism just to get the obvious answer. But in the next problems, what is obvious becomes less obvious.\n",
    "\n",
    "### Child Problem 2: At least one is a boy. What is the probability both are boys? \n",
    "\n",
    "Implementing this problem and finding the answer is easy:"
   ]
  },
  {
   "cell_type": "code",
   "execution_count": 5,
   "metadata": {
    "button": false,
    "collapsed": false,
    "deletable": true,
    "new_sheet": false,
    "run_control": {
     "read_only": false
    }
   },
   "outputs": [],
   "source": [
    "def at_least_one_boy(outcome): return 'B' in outcome"
   ]
  },
  {
   "cell_type": "code",
   "execution_count": 6,
   "metadata": {
    "button": false,
    "collapsed": false,
    "deletable": true,
    "new_sheet": false,
    "run_control": {
     "read_only": false
    }
   },
   "outputs": [
    {
     "data": {
      "text/plain": [
       "Fraction(1, 3)"
      ]
     },
     "execution_count": 6,
     "metadata": {},
     "output_type": "execute_result"
    }
   ],
   "source": [
    "P(two_boys, two_kids & at_least_one_boy)"
   ]
  },
  {
   "cell_type": "markdown",
   "metadata": {
    "button": false,
    "deletable": true,
    "new_sheet": false,
    "run_control": {
     "read_only": false
    }
   },
   "source": [
    "Understanding the answer is tougher. Some people think the answer should be 1/2. Can we justify the answer 1/3?  We can see there are three equiprobable outcomes in which there is at least one boy:"
   ]
  },
  {
   "cell_type": "code",
   "execution_count": 7,
   "metadata": {
    "button": false,
    "collapsed": false,
    "deletable": true,
    "new_sheet": false,
    "run_control": {
     "read_only": false
    }
   },
   "outputs": [
    {
     "data": {
      "text/plain": [
       "{'BB': Fraction(1, 3), 'BG': Fraction(1, 3), 'GB': Fraction(1, 3)}"
      ]
     },
     "execution_count": 7,
     "metadata": {},
     "output_type": "execute_result"
    }
   ],
   "source": [
    "two_kids & at_least_one_boy"
   ]
  },
  {
   "cell_type": "markdown",
   "metadata": {
    "button": false,
    "collapsed": false,
    "deletable": true,
    "new_sheet": false,
    "run_control": {
     "read_only": false
    }
   },
   "source": [
    "Of those three outcomes, only one has two boys, so the answer of 1/3 is indeed justified. \n",
    "\n",
    "But some people *still* think the answer should be 1/2.\n",
    "Their reasoning is *\"If one child is a boy, then there are two equiprobable outcomes for the other child, so the probability that the other child is a boy, and thus that there are two boys, is 1/2.\"* \n",
    "\n",
    "When two methods of reasoning give two different answers, we have a [paradox](https://en.wikipedia.org/wiki/Paradox). Here are three responses to a paradox:\n",
    "\n",
    "1. The very fundamentals of mathematics must be incomplete, and this problem reveals it!!!\n",
    "2. I'm right, and anyone who disagrees with me is an idiot!!!\n",
    "3. I have the right answer for one interpretation of the problem, and you have the right answer\n",
    "for a different interpretation of the problem.\n",
    "\n",
    "If you're [Bertrand Russell](https://en.wikipedia.org/wiki/Russell%27s_paradox) or [Georg Cantor](https://en.wikipedia.org/wiki/Cantor%27s_paradox), you might very well uncover a fundamental flaw in mathematics; for the rest of us, I recommend Response 3. When I believe the answer is 1/3, and I hear someone say the answer is 1/2, my response is not *\"You're wrong!\"*, rather it is *\"How interesting! You must have a different interpretation of the problem; I should try to discover what your interpretation is, and why your answer is correct for your interpretation.\"* The first step is to be more precise in *my* wording of the experiment:\n",
    "\n",
    "- **Child Experiment 2a.** Mr. Smith is chosen at random from families with two children. He is asked if at least one of his children is a boy. He replies \"yes.\"\n",
    "\n",
    "The next step is to envision another possible interpretation of the experiment:\n",
    "\n",
    "- **Child Experiment 2b.** Mr. Smith is chosen at random from families with two children. He is observed at a time when he is accompanied by one of his children, chosen at random. The child is observed to be a boy.  \n",
    "\n",
    "Experiment 2b needs a different sample space, which we will call `two_kids_b`.  It consists of 8 outcomes, not just 4; for each of the 4 outcomes in `two_kids`, we have a choice of observing either the older child or the younger child.  We will use the notation `'GB/g?'` to mean that the older child is a girl, the younger a boy, the older child was observed to be a girl, and the younger was not observed. So we have:"
   ]
  },
  {
   "cell_type": "code",
   "execution_count": 8,
   "metadata": {
    "button": false,
    "collapsed": false,
    "deletable": true,
    "new_sheet": false,
    "run_control": {
     "read_only": false
    }
   },
   "outputs": [],
   "source": [
    "two_kids_b = Uniform({'BB/b?', 'BB/?b', \n",
    "                      'BG/b?', 'BG/?g', \n",
    "                      'GB/g?', 'GB/?b', \n",
    "                      'GG/g?', 'GG/?g'})"
   ]
  },
  {
   "cell_type": "markdown",
   "metadata": {
    "button": false,
    "deletable": true,
    "new_sheet": false,
    "run_control": {
     "read_only": false
    }
   },
   "source": [
    "Now we can restrict ourselves to outcomes in which we observe Mr. Smith with a boy:"
   ]
  },
  {
   "cell_type": "code",
   "execution_count": 9,
   "metadata": {
    "button": false,
    "collapsed": false,
    "deletable": true,
    "new_sheet": false,
    "run_control": {
     "read_only": false
    }
   },
   "outputs": [
    {
     "data": {
      "text/plain": [
       "{'BB/?b': Fraction(1, 4),\n",
       " 'BB/b?': Fraction(1, 4),\n",
       " 'BG/b?': Fraction(1, 4),\n",
       " 'GB/?b': Fraction(1, 4)}"
      ]
     },
     "execution_count": 9,
     "metadata": {},
     "output_type": "execute_result"
    }
   ],
   "source": [
    "def observed_boy(outcome): return 'b' in outcome\n",
    "\n",
    "two_kids_b & observed_boy"
   ]
  },
  {
   "cell_type": "markdown",
   "metadata": {
    "button": false,
    "deletable": true,
    "new_sheet": false,
    "run_control": {
     "read_only": false
    }
   },
   "source": [
    "And finally we can determine the probability that he has two boys, given that we observed him with a boy:"
   ]
  },
  {
   "cell_type": "code",
   "execution_count": 10,
   "metadata": {
    "button": false,
    "collapsed": false,
    "deletable": true,
    "new_sheet": false,
    "run_control": {
     "read_only": false
    }
   },
   "outputs": [
    {
     "data": {
      "text/plain": [
       "Fraction(1, 2)"
      ]
     },
     "execution_count": 10,
     "metadata": {},
     "output_type": "execute_result"
    }
   ],
   "source": [
    "P(two_boys, two_kids_b & observed_boy)"
   ]
  },
  {
   "cell_type": "markdown",
   "metadata": {
    "button": false,
    "deletable": true,
    "new_sheet": false,
    "run_control": {
     "read_only": false
    }
   },
   "source": [
    "The paradox is resolved. Two reasonable people can have different interpretations of the problem, and can each reason flawlessly to reach different conclusions, 1/3 for Experiment 2a, or 1/2 for Experiment 2b. \n",
    "\n",
    "Which interpretation of the problem is \"better?\"  We could debate that, or we could just agree to use unambiguous wording (that is, use the language of Experiment 2a or Experiment 2b, not the ambiguous language of Problem 2). \n",
    "\n",
    "## The Reasonable Person Principle\n",
    "\n",
    "It is an unfortunate fact of human nature that we often assume the other person is an idiot. As [George Carlin puts it](https://www.youtube.com/watch?v=XWPCE2tTLZQ) *\"Have you ever noticed when you're driving that anybody driving slower than you is an idiot, and anyone going faster than you is a maniac?\"*\n",
    "\n",
    "<img src=\"https://upload.wikimedia.org/wikipedia/commons/thumb/2/2e/Jesus_is_coming.._Look_Busy_%28George_Carlin%29.jpg/192px-Jesus_is_coming.._Look_Busy_%28George_Carlin%29.jpg\">\n",
    "<center>George Carlin</center>\n",
    "\n",
    "The opposite assumption&mdash;that other people are more likely to be **reasonable** rather than **idiots** is known as the **[reasonable person principle](http://www.cs.cmu.edu/~weigand/staff/)**. It is a guiding principle at Carnegie Mellon University's School of Computer Science, and is a principle I try to live by as well: when I see people reason to a different conclusion than mine, I assume it is most likely that they are reasonably and rationally solving a different problem, not that they are idiots.\n",
    "\n",
    "Now let's return to an even more paradoxical problem.\n",
    "\n",
    "### Child Problem 3. One is a boy born on Tuesday. What's the probability  both are boys?\n",
    "\n",
    "Most people can not imagine how the boy's birth-day-of-week could be relevant, and feel the answer should be the same as Problem 2.  But to be sure, we need to clearly describe the experiment, define the sample space, and calculate.  First:\n",
    "\n",
    "- **Child Experiment 3a.** A parent is chosen at random from families with two children. She is asked if at least one of her children is a boy born on Tuesday. She replies \"yes.\"\n",
    "\n",
    "Next we'll define a sample space. We'll use the notation \"`G1B3`\" to mean the older child is a girl born on the first day of the week (Sunday) and the younger a boy born on the third day of the week (Tuesday). We'll call the resulting distribution over all such outcomes `two_kids_w`."
   ]
  },
  {
   "cell_type": "code",
   "execution_count": 11,
   "metadata": {
    "button": false,
    "collapsed": false,
    "deletable": true,
    "new_sheet": false,
    "run_control": {
     "read_only": false
    }
   },
   "outputs": [
    {
     "data": {
      "text/plain": [
       "196"
      ]
     },
     "execution_count": 11,
     "metadata": {},
     "output_type": "execute_result"
    }
   ],
   "source": [
    "one_kid_w  = joint(Uniform('BG'), Uniform('1234567'))\n",
    "two_kids_w = joint(one_kid_w, one_kid_w)\n",
    "len(two_kids_w)"
   ]
  },
  {
   "cell_type": "markdown",
   "metadata": {
    "run_control": {}
   },
   "source": [
    "That's too many to print, but we can sample them:"
   ]
  },
  {
   "cell_type": "code",
   "execution_count": 12,
   "metadata": {
    "collapsed": false
   },
   "outputs": [
    {
     "data": {
      "text/plain": [
       "['B2G4', 'G3B4', 'G2B6', 'B4B5', 'B4G6', 'B5B2', 'G7B7', 'B5B3']"
      ]
     },
     "execution_count": 12,
     "metadata": {},
     "output_type": "execute_result"
    }
   ],
   "source": [
    "import random\n",
    "random.sample(list(two_kids_w), 8)"
   ]
  },
  {
   "cell_type": "markdown",
   "metadata": {
    "button": false,
    "deletable": true,
    "new_sheet": false,
    "run_control": {
     "read_only": false
    }
   },
   "source": [
    "We determine below that the probability of having at least one boy is 3/4, both in `two_kids_w` (where we keep track of the birth day of week) and in `two_kids` (where we don't):"
   ]
  },
  {
   "cell_type": "code",
   "execution_count": 13,
   "metadata": {
    "button": false,
    "collapsed": false,
    "deletable": true,
    "new_sheet": false,
    "run_control": {
     "read_only": false
    }
   },
   "outputs": [
    {
     "data": {
      "text/plain": [
       "Fraction(3, 4)"
      ]
     },
     "execution_count": 13,
     "metadata": {},
     "output_type": "execute_result"
    }
   ],
   "source": [
    "P(at_least_one_boy, two_kids_w)"
   ]
  },
  {
   "cell_type": "code",
   "execution_count": 14,
   "metadata": {
    "button": false,
    "collapsed": false,
    "deletable": true,
    "new_sheet": false,
    "run_control": {
     "read_only": false
    }
   },
   "outputs": [
    {
     "data": {
      "text/plain": [
       "Fraction(3, 4)"
      ]
     },
     "execution_count": 14,
     "metadata": {},
     "output_type": "execute_result"
    }
   ],
   "source": [
    "P(at_least_one_boy, two_kids)"
   ]
  },
  {
   "cell_type": "markdown",
   "metadata": {
    "button": false,
    "deletable": true,
    "new_sheet": false,
    "run_control": {
     "read_only": false
    }
   },
   "source": [
    "The probability of two boys is 1/4 in either sample space:"
   ]
  },
  {
   "cell_type": "code",
   "execution_count": 15,
   "metadata": {
    "button": false,
    "collapsed": false,
    "deletable": true,
    "new_sheet": false,
    "run_control": {
     "read_only": false
    }
   },
   "outputs": [
    {
     "data": {
      "text/plain": [
       "Fraction(1, 4)"
      ]
     },
     "execution_count": 15,
     "metadata": {},
     "output_type": "execute_result"
    }
   ],
   "source": [
    "P(two_boys, two_kids_w)"
   ]
  },
  {
   "cell_type": "code",
   "execution_count": 16,
   "metadata": {
    "button": false,
    "collapsed": false,
    "deletable": true,
    "new_sheet": false,
    "run_control": {
     "read_only": false
    }
   },
   "outputs": [
    {
     "data": {
      "text/plain": [
       "Fraction(1, 4)"
      ]
     },
     "execution_count": 16,
     "metadata": {},
     "output_type": "execute_result"
    }
   ],
   "source": [
    "P(two_boys, two_kids)"
   ]
  },
  {
   "cell_type": "markdown",
   "metadata": {
    "button": false,
    "deletable": true,
    "new_sheet": false,
    "run_control": {
     "read_only": false
    }
   },
   "source": [
    "And the probability of two boys given at least one boy is 1/3 in either sample space:"
   ]
  },
  {
   "cell_type": "code",
   "execution_count": 17,
   "metadata": {
    "button": false,
    "collapsed": false,
    "deletable": true,
    "new_sheet": false,
    "run_control": {
     "read_only": false
    }
   },
   "outputs": [
    {
     "data": {
      "text/plain": [
       "Fraction(1, 3)"
      ]
     },
     "execution_count": 17,
     "metadata": {},
     "output_type": "execute_result"
    }
   ],
   "source": [
    "P(two_boys, two_kids_w & at_least_one_boy)"
   ]
  },
  {
   "cell_type": "code",
   "execution_count": 18,
   "metadata": {
    "button": false,
    "collapsed": false,
    "deletable": true,
    "new_sheet": false,
    "run_control": {
     "read_only": false
    }
   },
   "outputs": [
    {
     "data": {
      "text/plain": [
       "Fraction(1, 3)"
      ]
     },
     "execution_count": 18,
     "metadata": {},
     "output_type": "execute_result"
    }
   ],
   "source": [
    "P(two_boys, two_kids & at_least_one_boy)"
   ]
  },
  {
   "cell_type": "markdown",
   "metadata": {
    "button": false,
    "deletable": true,
    "new_sheet": false,
    "run_control": {
     "read_only": false
    }
   },
   "source": [
    "We will define a predicate for the event of at least one boy born on Tuesday: "
   ]
  },
  {
   "cell_type": "code",
   "execution_count": 19,
   "metadata": {
    "button": false,
    "collapsed": false,
    "deletable": true,
    "new_sheet": false,
    "run_control": {
     "read_only": false
    }
   },
   "outputs": [],
   "source": [
    "def at_least_one_boy_tues(outcome): return 'B3' in outcome"
   ]
  },
  {
   "cell_type": "markdown",
   "metadata": {
    "button": false,
    "deletable": true,
    "new_sheet": false,
    "run_control": {
     "read_only": false
    }
   },
   "source": [
    "We are now ready to answer Problem 3:"
   ]
  },
  {
   "cell_type": "code",
   "execution_count": 20,
   "metadata": {
    "button": false,
    "collapsed": false,
    "deletable": true,
    "new_sheet": false,
    "run_control": {
     "read_only": false
    }
   },
   "outputs": [
    {
     "data": {
      "text/plain": [
       "Fraction(13, 27)"
      ]
     },
     "execution_count": 20,
     "metadata": {},
     "output_type": "execute_result"
    }
   ],
   "source": [
    "P(two_boys, two_kids_w & at_least_one_boy_tues)"
   ]
  },
  {
   "cell_type": "markdown",
   "metadata": {
    "button": false,
    "deletable": true,
    "new_sheet": false,
    "run_control": {
     "read_only": false
    }
   },
   "source": [
    "*What?* The answer is 13/27? How many of you saw that coming? \n",
    "\n",
    "13/27 is quite different from 1/3, but rather close to 1/2. So \"at least one boy born on Tuesday\" is quite different from \"at least one boy.\" Are you surprised? Do you accept the answer, or do you think we did something wrong? Are there other interpretations of the experiment that lead to other answers?\n",
    "\n",
    "Here is one alternative interpretation:"
   ]
  },
  {
   "cell_type": "markdown",
   "metadata": {
    "button": false,
    "deletable": true,
    "new_sheet": false,
    "run_control": {
     "read_only": false
    }
   },
   "source": [
    "- **Child Experiment 3b.** A parent is chosen at random from families with two children. She is observed at a time when she is accompanied by one of her children, chosen at random. The child is observed to be a boy who reports that his birth day is Tuesday.\n",
    "\n",
    "We can represent outcomes in this sample space with the notation `G1B3/??b3`, meaning the older child is a girl born on Sunday, the younger a boy born on Tuesday, the older was not observed, and the younger was."
   ]
  },
  {
   "cell_type": "code",
   "execution_count": 21,
   "metadata": {
    "button": false,
    "collapsed": false,
    "deletable": true,
    "new_sheet": false,
    "run_control": {
     "read_only": false
    }
   },
   "outputs": [],
   "source": [
    "def observed_boy_tues(outcome): return 'b3' in outcome\n",
    "\n",
    "two_kids_wb = Uniform({children + '/' + observation\n",
    "                      for children in two_kids_w\n",
    "                      for observation in (children[:2].lower()+'??', '??'+children[-2:].lower())}   )                     "
   ]
  },
  {
   "cell_type": "code",
   "execution_count": 22,
   "metadata": {
    "button": false,
    "collapsed": false,
    "deletable": true,
    "new_sheet": false,
    "run_control": {
     "read_only": false
    }
   },
   "outputs": [
    {
     "data": {
      "text/plain": [
       "['G3G2/g3??', 'B6B2/b6??', 'B2G6/??g6', 'G6G7/g6??', 'B6B1/??b1']"
      ]
     },
     "execution_count": 22,
     "metadata": {},
     "output_type": "execute_result"
    }
   ],
   "source": [
    "random.sample(list(two_kids_wb), 5)"
   ]
  },
  {
   "cell_type": "markdown",
   "metadata": {
    "button": false,
    "deletable": true,
    "new_sheet": false,
    "run_control": {
     "read_only": false
    }
   },
   "source": [
    "Now we can answer this version of  Child Problem 3:"
   ]
  },
  {
   "cell_type": "code",
   "execution_count": 23,
   "metadata": {
    "button": false,
    "collapsed": false,
    "deletable": true,
    "new_sheet": false,
    "run_control": {
     "read_only": false
    }
   },
   "outputs": [
    {
     "data": {
      "text/plain": [
       "Fraction(1, 2)"
      ]
     },
     "execution_count": 23,
     "metadata": {},
     "output_type": "execute_result"
    }
   ],
   "source": [
    "P(two_boys, two_kids_wb & observed_boy_tues)"
   ]
  },
  {
   "cell_type": "markdown",
   "metadata": {
    "button": false,
    "deletable": true,
    "new_sheet": false,
    "run_control": {
     "read_only": false
    }
   },
   "source": [
    "So with the wording of Child Experiment 3b, the answer is the same as 2b.\n",
    "\n",
    "Still confused? Let's build a visualization tool to make things more concrete.\n",
    "\n",
    "# Visualization\n",
    "\n",
    "We'll display the results as a two dimensional grid of outcomes. An outcome will be colored white if it does not satisfy the condition stated in the problem; green if the outcome contains two boys; and yellow if it does satisfy the condition, but does not have two boys. Every cell in a row has the same older child, and every cell in a column has the same younger child. Here's the code to display a table:"
   ]
  },
  {
   "cell_type": "code",
   "execution_count": 24,
   "metadata": {
    "button": false,
    "collapsed": false,
    "deletable": true,
    "new_sheet": false,
    "run_control": {
     "read_only": false
    }
   },
   "outputs": [],
   "source": [
    "from IPython.display import HTML\n",
    "\n",
    "def Pgrid(event, dist, condition):\n",
    "    \"\"\"Display sample space in a grid, color-coded: green if event and condition is true; \n",
    "    yellow if only condition is true; white otherwise.\"\"\"\n",
    "    def first_half(s): return s[:len(s)//2]\n",
    "    olders = sorted(set(map(first_half, dist)))\n",
    "    return HTML('<table>' +\n",
    "                cat(row(older, event, dist, condition) for older in olders) +\n",
    "                '</table>' + \n",
    "                '<tt>P({} | {}) = {}</tt>'.format(\n",
    "                event.__name__, condition.__name__, \n",
    "                P(event, dist & condition)))\n",
    "\n",
    "def row(older, event, dist, condition):\n",
    "    \"Display a row where an older child is paired with each of the possible younger children.\"\n",
    "    thisrow = sorted(outcome for outcome in dist if outcome.startswith(older))\n",
    "    return '<tr>' + cat(cell(outcome, event, condition) for outcome in thisrow) + '</tr>'\n",
    "\n",
    "def cell(outcome, event, condition): \n",
    "    \"Display outcome in appropriate color.\"\n",
    "    color = ('lightgreen' if event(outcome) and condition(outcome) else\n",
    "             'yellow' if condition(outcome) else\n",
    "             'white')\n",
    "    return '<td style=\"background-color: {}\">{}</td>'.format(color, outcome)    \n",
    "\n",
    "cat = ''.join"
   ]
  },
  {
   "cell_type": "markdown",
   "metadata": {
    "button": false,
    "deletable": true,
    "new_sheet": false,
    "run_control": {
     "read_only": false
    }
   },
   "source": [
    "We can use this visualization tool to see that in Child Problem 1, there is one outcome with two boys (green) out of a total of two outcomes where the older is a boy (green and yellow) so the probability of two boys given that the older is a boy is 1/2."
   ]
  },
  {
   "cell_type": "code",
   "execution_count": 25,
   "metadata": {
    "button": false,
    "collapsed": false,
    "deletable": true,
    "new_sheet": false,
    "run_control": {
     "read_only": false
    }
   },
   "outputs": [
    {
     "data": {
      "text/html": [
       "<table><tr><td style=\"background-color: lightgreen\">BB</td><td style=\"background-color: yellow\">BG</td></tr><tr><td style=\"background-color: white\">GB</td><td style=\"background-color: white\">GG</td></tr></table><tt>P(two_boys | older_is_a_boy) = 1/2</tt>"
      ],
      "text/plain": [
       "<IPython.core.display.HTML object>"
      ]
     },
     "execution_count": 25,
     "metadata": {},
     "output_type": "execute_result"
    }
   ],
   "source": [
    "# Child Problem 1\n",
    "Pgrid(two_boys, two_kids, older_is_a_boy)"
   ]
  },
  {
   "cell_type": "markdown",
   "metadata": {
    "button": false,
    "deletable": true,
    "new_sheet": false,
    "run_control": {
     "read_only": false
    }
   },
   "source": [
    "For Child Problem 2, we see the probability of two boys (green) given at least one boy (green and yellow)  is 1/3. "
   ]
  },
  {
   "cell_type": "code",
   "execution_count": 26,
   "metadata": {
    "button": false,
    "collapsed": false,
    "deletable": true,
    "new_sheet": false,
    "run_control": {
     "read_only": false
    }
   },
   "outputs": [
    {
     "data": {
      "text/html": [
       "<table><tr><td style=\"background-color: lightgreen\">BB</td><td style=\"background-color: yellow\">BG</td></tr><tr><td style=\"background-color: yellow\">GB</td><td style=\"background-color: white\">GG</td></tr></table><tt>P(two_boys | at_least_one_boy) = 1/3</tt>"
      ],
      "text/plain": [
       "<IPython.core.display.HTML object>"
      ]
     },
     "execution_count": 26,
     "metadata": {},
     "output_type": "execute_result"
    }
   ],
   "source": [
    "# Child Problem 2\n",
    "Pgrid(two_boys, two_kids, at_least_one_boy)"
   ]
  },
  {
   "cell_type": "markdown",
   "metadata": {
    "button": false,
    "deletable": true,
    "new_sheet": false,
    "run_control": {
     "read_only": false
    }
   },
   "source": [
    "The answer is still 1/3 when we consider the day of the week of each birth. "
   ]
  },
  {
   "cell_type": "code",
   "execution_count": 27,
   "metadata": {
    "button": false,
    "collapsed": false,
    "deletable": true,
    "new_sheet": false,
    "run_control": {
     "read_only": false
    }
   },
   "outputs": [
    {
     "data": {
      "text/html": [
       "<table><tr><td style=\"background-color: lightgreen\">B1B1</td><td style=\"background-color: lightgreen\">B1B2</td><td style=\"background-color: lightgreen\">B1B3</td><td style=\"background-color: lightgreen\">B1B4</td><td style=\"background-color: lightgreen\">B1B5</td><td style=\"background-color: lightgreen\">B1B6</td><td style=\"background-color: lightgreen\">B1B7</td><td style=\"background-color: yellow\">B1G1</td><td style=\"background-color: yellow\">B1G2</td><td style=\"background-color: yellow\">B1G3</td><td style=\"background-color: yellow\">B1G4</td><td style=\"background-color: yellow\">B1G5</td><td style=\"background-color: yellow\">B1G6</td><td style=\"background-color: yellow\">B1G7</td></tr><tr><td style=\"background-color: lightgreen\">B2B1</td><td style=\"background-color: lightgreen\">B2B2</td><td style=\"background-color: lightgreen\">B2B3</td><td style=\"background-color: lightgreen\">B2B4</td><td style=\"background-color: lightgreen\">B2B5</td><td style=\"background-color: lightgreen\">B2B6</td><td style=\"background-color: lightgreen\">B2B7</td><td style=\"background-color: yellow\">B2G1</td><td style=\"background-color: yellow\">B2G2</td><td style=\"background-color: yellow\">B2G3</td><td style=\"background-color: yellow\">B2G4</td><td style=\"background-color: yellow\">B2G5</td><td style=\"background-color: yellow\">B2G6</td><td style=\"background-color: yellow\">B2G7</td></tr><tr><td style=\"background-color: lightgreen\">B3B1</td><td style=\"background-color: lightgreen\">B3B2</td><td style=\"background-color: lightgreen\">B3B3</td><td style=\"background-color: lightgreen\">B3B4</td><td style=\"background-color: lightgreen\">B3B5</td><td style=\"background-color: lightgreen\">B3B6</td><td style=\"background-color: lightgreen\">B3B7</td><td style=\"background-color: yellow\">B3G1</td><td style=\"background-color: yellow\">B3G2</td><td style=\"background-color: yellow\">B3G3</td><td style=\"background-color: yellow\">B3G4</td><td style=\"background-color: yellow\">B3G5</td><td style=\"background-color: yellow\">B3G6</td><td style=\"background-color: yellow\">B3G7</td></tr><tr><td style=\"background-color: lightgreen\">B4B1</td><td style=\"background-color: lightgreen\">B4B2</td><td style=\"background-color: lightgreen\">B4B3</td><td style=\"background-color: lightgreen\">B4B4</td><td style=\"background-color: lightgreen\">B4B5</td><td style=\"background-color: lightgreen\">B4B6</td><td style=\"background-color: lightgreen\">B4B7</td><td style=\"background-color: yellow\">B4G1</td><td style=\"background-color: yellow\">B4G2</td><td style=\"background-color: yellow\">B4G3</td><td style=\"background-color: yellow\">B4G4</td><td style=\"background-color: yellow\">B4G5</td><td style=\"background-color: yellow\">B4G6</td><td style=\"background-color: yellow\">B4G7</td></tr><tr><td style=\"background-color: lightgreen\">B5B1</td><td style=\"background-color: lightgreen\">B5B2</td><td style=\"background-color: lightgreen\">B5B3</td><td style=\"background-color: lightgreen\">B5B4</td><td style=\"background-color: lightgreen\">B5B5</td><td style=\"background-color: lightgreen\">B5B6</td><td style=\"background-color: lightgreen\">B5B7</td><td style=\"background-color: yellow\">B5G1</td><td style=\"background-color: yellow\">B5G2</td><td style=\"background-color: yellow\">B5G3</td><td style=\"background-color: yellow\">B5G4</td><td style=\"background-color: yellow\">B5G5</td><td style=\"background-color: yellow\">B5G6</td><td style=\"background-color: yellow\">B5G7</td></tr><tr><td style=\"background-color: lightgreen\">B6B1</td><td style=\"background-color: lightgreen\">B6B2</td><td style=\"background-color: lightgreen\">B6B3</td><td style=\"background-color: lightgreen\">B6B4</td><td style=\"background-color: lightgreen\">B6B5</td><td style=\"background-color: lightgreen\">B6B6</td><td style=\"background-color: lightgreen\">B6B7</td><td style=\"background-color: yellow\">B6G1</td><td style=\"background-color: yellow\">B6G2</td><td style=\"background-color: yellow\">B6G3</td><td style=\"background-color: yellow\">B6G4</td><td style=\"background-color: yellow\">B6G5</td><td style=\"background-color: yellow\">B6G6</td><td style=\"background-color: yellow\">B6G7</td></tr><tr><td style=\"background-color: lightgreen\">B7B1</td><td style=\"background-color: lightgreen\">B7B2</td><td style=\"background-color: lightgreen\">B7B3</td><td style=\"background-color: lightgreen\">B7B4</td><td style=\"background-color: lightgreen\">B7B5</td><td style=\"background-color: lightgreen\">B7B6</td><td style=\"background-color: lightgreen\">B7B7</td><td style=\"background-color: yellow\">B7G1</td><td style=\"background-color: yellow\">B7G2</td><td style=\"background-color: yellow\">B7G3</td><td style=\"background-color: yellow\">B7G4</td><td style=\"background-color: yellow\">B7G5</td><td style=\"background-color: yellow\">B7G6</td><td style=\"background-color: yellow\">B7G7</td></tr><tr><td style=\"background-color: yellow\">G1B1</td><td style=\"background-color: yellow\">G1B2</td><td style=\"background-color: yellow\">G1B3</td><td style=\"background-color: yellow\">G1B4</td><td style=\"background-color: yellow\">G1B5</td><td style=\"background-color: yellow\">G1B6</td><td style=\"background-color: yellow\">G1B7</td><td style=\"background-color: white\">G1G1</td><td style=\"background-color: white\">G1G2</td><td style=\"background-color: white\">G1G3</td><td style=\"background-color: white\">G1G4</td><td style=\"background-color: white\">G1G5</td><td style=\"background-color: white\">G1G6</td><td style=\"background-color: white\">G1G7</td></tr><tr><td style=\"background-color: yellow\">G2B1</td><td style=\"background-color: yellow\">G2B2</td><td style=\"background-color: yellow\">G2B3</td><td style=\"background-color: yellow\">G2B4</td><td style=\"background-color: yellow\">G2B5</td><td style=\"background-color: yellow\">G2B6</td><td style=\"background-color: yellow\">G2B7</td><td style=\"background-color: white\">G2G1</td><td style=\"background-color: white\">G2G2</td><td style=\"background-color: white\">G2G3</td><td style=\"background-color: white\">G2G4</td><td style=\"background-color: white\">G2G5</td><td style=\"background-color: white\">G2G6</td><td style=\"background-color: white\">G2G7</td></tr><tr><td style=\"background-color: yellow\">G3B1</td><td style=\"background-color: yellow\">G3B2</td><td style=\"background-color: yellow\">G3B3</td><td style=\"background-color: yellow\">G3B4</td><td style=\"background-color: yellow\">G3B5</td><td style=\"background-color: yellow\">G3B6</td><td style=\"background-color: yellow\">G3B7</td><td style=\"background-color: white\">G3G1</td><td style=\"background-color: white\">G3G2</td><td style=\"background-color: white\">G3G3</td><td style=\"background-color: white\">G3G4</td><td style=\"background-color: white\">G3G5</td><td style=\"background-color: white\">G3G6</td><td style=\"background-color: white\">G3G7</td></tr><tr><td style=\"background-color: yellow\">G4B1</td><td style=\"background-color: yellow\">G4B2</td><td style=\"background-color: yellow\">G4B3</td><td style=\"background-color: yellow\">G4B4</td><td style=\"background-color: yellow\">G4B5</td><td style=\"background-color: yellow\">G4B6</td><td style=\"background-color: yellow\">G4B7</td><td style=\"background-color: white\">G4G1</td><td style=\"background-color: white\">G4G2</td><td style=\"background-color: white\">G4G3</td><td style=\"background-color: white\">G4G4</td><td style=\"background-color: white\">G4G5</td><td style=\"background-color: white\">G4G6</td><td style=\"background-color: white\">G4G7</td></tr><tr><td style=\"background-color: yellow\">G5B1</td><td style=\"background-color: yellow\">G5B2</td><td style=\"background-color: yellow\">G5B3</td><td style=\"background-color: yellow\">G5B4</td><td style=\"background-color: yellow\">G5B5</td><td style=\"background-color: yellow\">G5B6</td><td style=\"background-color: yellow\">G5B7</td><td style=\"background-color: white\">G5G1</td><td style=\"background-color: white\">G5G2</td><td style=\"background-color: white\">G5G3</td><td style=\"background-color: white\">G5G4</td><td style=\"background-color: white\">G5G5</td><td style=\"background-color: white\">G5G6</td><td style=\"background-color: white\">G5G7</td></tr><tr><td style=\"background-color: yellow\">G6B1</td><td style=\"background-color: yellow\">G6B2</td><td style=\"background-color: yellow\">G6B3</td><td style=\"background-color: yellow\">G6B4</td><td style=\"background-color: yellow\">G6B5</td><td style=\"background-color: yellow\">G6B6</td><td style=\"background-color: yellow\">G6B7</td><td style=\"background-color: white\">G6G1</td><td style=\"background-color: white\">G6G2</td><td style=\"background-color: white\">G6G3</td><td style=\"background-color: white\">G6G4</td><td style=\"background-color: white\">G6G5</td><td style=\"background-color: white\">G6G6</td><td style=\"background-color: white\">G6G7</td></tr><tr><td style=\"background-color: yellow\">G7B1</td><td style=\"background-color: yellow\">G7B2</td><td style=\"background-color: yellow\">G7B3</td><td style=\"background-color: yellow\">G7B4</td><td style=\"background-color: yellow\">G7B5</td><td style=\"background-color: yellow\">G7B6</td><td style=\"background-color: yellow\">G7B7</td><td style=\"background-color: white\">G7G1</td><td style=\"background-color: white\">G7G2</td><td style=\"background-color: white\">G7G3</td><td style=\"background-color: white\">G7G4</td><td style=\"background-color: white\">G7G5</td><td style=\"background-color: white\">G7G6</td><td style=\"background-color: white\">G7G7</td></tr></table><tt>P(two_boys | at_least_one_boy) = 1/3</tt>"
      ],
      "text/plain": [
       "<IPython.core.display.HTML object>"
      ]
     },
     "execution_count": 27,
     "metadata": {},
     "output_type": "execute_result"
    }
   ],
   "source": [
    "# Child Problem 2, with days of week enumerated\n",
    "Pgrid(two_boys, two_kids_w, at_least_one_boy)"
   ]
  },
  {
   "cell_type": "markdown",
   "metadata": {
    "button": false,
    "deletable": true,
    "new_sheet": false,
    "run_control": {
     "read_only": false
    }
   },
   "source": [
    "Now for the \"paradox\" of Child Problem 3:"
   ]
  },
  {
   "cell_type": "code",
   "execution_count": 28,
   "metadata": {
    "button": false,
    "collapsed": false,
    "deletable": true,
    "new_sheet": false,
    "run_control": {
     "read_only": false
    }
   },
   "outputs": [
    {
     "data": {
      "text/html": [
       "<table><tr><td style=\"background-color: white\">B1B1</td><td style=\"background-color: white\">B1B2</td><td style=\"background-color: lightgreen\">B1B3</td><td style=\"background-color: white\">B1B4</td><td style=\"background-color: white\">B1B5</td><td style=\"background-color: white\">B1B6</td><td style=\"background-color: white\">B1B7</td><td style=\"background-color: white\">B1G1</td><td style=\"background-color: white\">B1G2</td><td style=\"background-color: white\">B1G3</td><td style=\"background-color: white\">B1G4</td><td style=\"background-color: white\">B1G5</td><td style=\"background-color: white\">B1G6</td><td style=\"background-color: white\">B1G7</td></tr><tr><td style=\"background-color: white\">B2B1</td><td style=\"background-color: white\">B2B2</td><td style=\"background-color: lightgreen\">B2B3</td><td style=\"background-color: white\">B2B4</td><td style=\"background-color: white\">B2B5</td><td style=\"background-color: white\">B2B6</td><td style=\"background-color: white\">B2B7</td><td style=\"background-color: white\">B2G1</td><td style=\"background-color: white\">B2G2</td><td style=\"background-color: white\">B2G3</td><td style=\"background-color: white\">B2G4</td><td style=\"background-color: white\">B2G5</td><td style=\"background-color: white\">B2G6</td><td style=\"background-color: white\">B2G7</td></tr><tr><td style=\"background-color: lightgreen\">B3B1</td><td style=\"background-color: lightgreen\">B3B2</td><td style=\"background-color: lightgreen\">B3B3</td><td style=\"background-color: lightgreen\">B3B4</td><td style=\"background-color: lightgreen\">B3B5</td><td style=\"background-color: lightgreen\">B3B6</td><td style=\"background-color: lightgreen\">B3B7</td><td style=\"background-color: yellow\">B3G1</td><td style=\"background-color: yellow\">B3G2</td><td style=\"background-color: yellow\">B3G3</td><td style=\"background-color: yellow\">B3G4</td><td style=\"background-color: yellow\">B3G5</td><td style=\"background-color: yellow\">B3G6</td><td style=\"background-color: yellow\">B3G7</td></tr><tr><td style=\"background-color: white\">B4B1</td><td style=\"background-color: white\">B4B2</td><td style=\"background-color: lightgreen\">B4B3</td><td style=\"background-color: white\">B4B4</td><td style=\"background-color: white\">B4B5</td><td style=\"background-color: white\">B4B6</td><td style=\"background-color: white\">B4B7</td><td style=\"background-color: white\">B4G1</td><td style=\"background-color: white\">B4G2</td><td style=\"background-color: white\">B4G3</td><td style=\"background-color: white\">B4G4</td><td style=\"background-color: white\">B4G5</td><td style=\"background-color: white\">B4G6</td><td style=\"background-color: white\">B4G7</td></tr><tr><td style=\"background-color: white\">B5B1</td><td style=\"background-color: white\">B5B2</td><td style=\"background-color: lightgreen\">B5B3</td><td style=\"background-color: white\">B5B4</td><td style=\"background-color: white\">B5B5</td><td style=\"background-color: white\">B5B6</td><td style=\"background-color: white\">B5B7</td><td style=\"background-color: white\">B5G1</td><td style=\"background-color: white\">B5G2</td><td style=\"background-color: white\">B5G3</td><td style=\"background-color: white\">B5G4</td><td style=\"background-color: white\">B5G5</td><td style=\"background-color: white\">B5G6</td><td style=\"background-color: white\">B5G7</td></tr><tr><td style=\"background-color: white\">B6B1</td><td style=\"background-color: white\">B6B2</td><td style=\"background-color: lightgreen\">B6B3</td><td style=\"background-color: white\">B6B4</td><td style=\"background-color: white\">B6B5</td><td style=\"background-color: white\">B6B6</td><td style=\"background-color: white\">B6B7</td><td style=\"background-color: white\">B6G1</td><td style=\"background-color: white\">B6G2</td><td style=\"background-color: white\">B6G3</td><td style=\"background-color: white\">B6G4</td><td style=\"background-color: white\">B6G5</td><td style=\"background-color: white\">B6G6</td><td style=\"background-color: white\">B6G7</td></tr><tr><td style=\"background-color: white\">B7B1</td><td style=\"background-color: white\">B7B2</td><td style=\"background-color: lightgreen\">B7B3</td><td style=\"background-color: white\">B7B4</td><td style=\"background-color: white\">B7B5</td><td style=\"background-color: white\">B7B6</td><td style=\"background-color: white\">B7B7</td><td style=\"background-color: white\">B7G1</td><td style=\"background-color: white\">B7G2</td><td style=\"background-color: white\">B7G3</td><td style=\"background-color: white\">B7G4</td><td style=\"background-color: white\">B7G5</td><td style=\"background-color: white\">B7G6</td><td style=\"background-color: white\">B7G7</td></tr><tr><td style=\"background-color: white\">G1B1</td><td style=\"background-color: white\">G1B2</td><td style=\"background-color: yellow\">G1B3</td><td style=\"background-color: white\">G1B4</td><td style=\"background-color: white\">G1B5</td><td style=\"background-color: white\">G1B6</td><td style=\"background-color: white\">G1B7</td><td style=\"background-color: white\">G1G1</td><td style=\"background-color: white\">G1G2</td><td style=\"background-color: white\">G1G3</td><td style=\"background-color: white\">G1G4</td><td style=\"background-color: white\">G1G5</td><td style=\"background-color: white\">G1G6</td><td style=\"background-color: white\">G1G7</td></tr><tr><td style=\"background-color: white\">G2B1</td><td style=\"background-color: white\">G2B2</td><td style=\"background-color: yellow\">G2B3</td><td style=\"background-color: white\">G2B4</td><td style=\"background-color: white\">G2B5</td><td style=\"background-color: white\">G2B6</td><td style=\"background-color: white\">G2B7</td><td style=\"background-color: white\">G2G1</td><td style=\"background-color: white\">G2G2</td><td style=\"background-color: white\">G2G3</td><td style=\"background-color: white\">G2G4</td><td style=\"background-color: white\">G2G5</td><td style=\"background-color: white\">G2G6</td><td style=\"background-color: white\">G2G7</td></tr><tr><td style=\"background-color: white\">G3B1</td><td style=\"background-color: white\">G3B2</td><td style=\"background-color: yellow\">G3B3</td><td style=\"background-color: white\">G3B4</td><td style=\"background-color: white\">G3B5</td><td style=\"background-color: white\">G3B6</td><td style=\"background-color: white\">G3B7</td><td style=\"background-color: white\">G3G1</td><td style=\"background-color: white\">G3G2</td><td style=\"background-color: white\">G3G3</td><td style=\"background-color: white\">G3G4</td><td style=\"background-color: white\">G3G5</td><td style=\"background-color: white\">G3G6</td><td style=\"background-color: white\">G3G7</td></tr><tr><td style=\"background-color: white\">G4B1</td><td style=\"background-color: white\">G4B2</td><td style=\"background-color: yellow\">G4B3</td><td style=\"background-color: white\">G4B4</td><td style=\"background-color: white\">G4B5</td><td style=\"background-color: white\">G4B6</td><td style=\"background-color: white\">G4B7</td><td style=\"background-color: white\">G4G1</td><td style=\"background-color: white\">G4G2</td><td style=\"background-color: white\">G4G3</td><td style=\"background-color: white\">G4G4</td><td style=\"background-color: white\">G4G5</td><td style=\"background-color: white\">G4G6</td><td style=\"background-color: white\">G4G7</td></tr><tr><td style=\"background-color: white\">G5B1</td><td style=\"background-color: white\">G5B2</td><td style=\"background-color: yellow\">G5B3</td><td style=\"background-color: white\">G5B4</td><td style=\"background-color: white\">G5B5</td><td style=\"background-color: white\">G5B6</td><td style=\"background-color: white\">G5B7</td><td style=\"background-color: white\">G5G1</td><td style=\"background-color: white\">G5G2</td><td style=\"background-color: white\">G5G3</td><td style=\"background-color: white\">G5G4</td><td style=\"background-color: white\">G5G5</td><td style=\"background-color: white\">G5G6</td><td style=\"background-color: white\">G5G7</td></tr><tr><td style=\"background-color: white\">G6B1</td><td style=\"background-color: white\">G6B2</td><td style=\"background-color: yellow\">G6B3</td><td style=\"background-color: white\">G6B4</td><td style=\"background-color: white\">G6B5</td><td style=\"background-color: white\">G6B6</td><td style=\"background-color: white\">G6B7</td><td style=\"background-color: white\">G6G1</td><td style=\"background-color: white\">G6G2</td><td style=\"background-color: white\">G6G3</td><td style=\"background-color: white\">G6G4</td><td style=\"background-color: white\">G6G5</td><td style=\"background-color: white\">G6G6</td><td style=\"background-color: white\">G6G7</td></tr><tr><td style=\"background-color: white\">G7B1</td><td style=\"background-color: white\">G7B2</td><td style=\"background-color: yellow\">G7B3</td><td style=\"background-color: white\">G7B4</td><td style=\"background-color: white\">G7B5</td><td style=\"background-color: white\">G7B6</td><td style=\"background-color: white\">G7B7</td><td style=\"background-color: white\">G7G1</td><td style=\"background-color: white\">G7G2</td><td style=\"background-color: white\">G7G3</td><td style=\"background-color: white\">G7G4</td><td style=\"background-color: white\">G7G5</td><td style=\"background-color: white\">G7G6</td><td style=\"background-color: white\">G7G7</td></tr></table><tt>P(two_boys | at_least_one_boy_tues) = 13/27</tt>"
      ],
      "text/plain": [
       "<IPython.core.display.HTML object>"
      ]
     },
     "execution_count": 28,
     "metadata": {},
     "output_type": "execute_result"
    }
   ],
   "source": [
    "# Child Problem 3\n",
    "Pgrid(two_boys, two_kids_w, at_least_one_boy_tues)"
   ]
  },
  {
   "cell_type": "markdown",
   "metadata": {
    "button": false,
    "deletable": true,
    "new_sheet": false,
    "run_control": {
     "read_only": false
    }
   },
   "source": [
    "We see there are 27 relevant outcomes, of which 13 are green. So 13/27 really does seem to be the right answer. This picture also gives us a way to think about why the answer is not 1/3. Think of the yellow-plus-green area as a horizontal stripe and a vertical stripe, with an overlap. Each stripe is half yellow and half green, so if there were no overlap at all, the probability of green would be 1/2.  When each stripe takes up half the sample space and the overlap is maximal, the probability is 1/3. And in the Problem 3 table, where the overlap is small, the probability is close to 1/2 (but slightly smaller).\n",
    "\n",
    "One way to look at it is that if I tell you very specific information (such as a boy born on Tuesday), it is unlikely that this applies to both children, so we have smaller overlap and a probability closer to 1/2, but if I give you broad information (a boy), this is more likely to apply to either child, resulting in a larger overlap, and a probability closer to 1/3.\n",
    "\n",
    "You can read some more discussions of the problem by (in alphabetical order) \n",
    "[Alex Bellos](https://www.newscientist.com/article/dn18950-magic-numbers-a-meeting-of-mathemagical-tricksters?full=true),\n",
    "[Alexander Bogomolny](http://www.cut-the-knot.org/Probability/BearBornOnTuesday.shtml),\n",
    "[Andrew Gelman](http://andrewgelman.com/2010/05/27/hype_about_cond/),\n",
    "[David Bigelow](https://web.viu.ca/bigelow2/Problem%201127%20Solution.pdf),\n",
    "[Julie Rehmeyer](https://www.sciencenews.org/article/when-intuition-and-math-probably-look-wrong),\n",
    "[Keith Devlin](https://www.maa.org/external_archive/devlin/devlin_05_10.html),\n",
    "[Peter Lynch](http://mathsci.ucd.ie/~plynch/Publications/BIMS-TwoChildParadox.pdf),\n",
    "[Tanya Khovanova](http://arxiv.org/pdf/1102.0173v1.pdf),\n",
    "and\n",
    "[Wendy Taylor &amp; Kaye Stacey](http://www.aamt.edu.au/Journals/Sample-articles/amt70_2_taylor.pdf)."
   ]
  },
  {
   "cell_type": "markdown",
   "metadata": {
    "button": false,
    "deletable": true,
    "new_sheet": false,
    "run_control": {
     "read_only": false
    }
   },
   "source": [
    "# The Sleeping Beauty Paradox\n",
    "\n",
    "The [Sleeping Beauty Paradox](https://en.wikipedia.org/wiki/Sleeping_Beauty_problem) is another tricky one:\n",
    "\n",
    ">Sleeping Beauty volunteers to undergo the following experiment and is told all of the following details: On Sunday she will be put to sleep. Then a fair coin will be tossed,\n",
    "to determine which experimental procedure to undertake:\n",
    "- Heads: Beauty will be awakened and interviewed on Monday only.\n",
    "- Tails: Beauty will be awakened and interviewed on Monday and Tuesday only.\n",
    "\n",
    ">In all cases she is put back to sleep with an amnesia-inducing drug that makes her forget that awakening and sleep until the next one. In any case, she will be awakened on Wednesday without interview and the experiment ends. Any time Beauty is awakened and interviewed, she is asked, \"What is your belief now for the proposition that the coin landed heads?\"\n",
    "\n",
    "What should Sleeping Beauty say when she is interviewed?  First, she should define the sample space.  She should realize that heads and tails are equally likely, and no matter which comes up, there will be a Monday and a Tuesday, so that gives 4 equally-probable checkpoints. We will say for each checkpoint whether she is interviewed, using the\n",
    "notation `'heads/Monday/interviewed'` to mean the situation where the coin flip came up heads, it is Monday, and she is interviewed. Here are the 4 equiprobable atomic events:"
   ]
  },
  {
   "cell_type": "code",
   "execution_count": 29,
   "metadata": {
    "button": false,
    "collapsed": true,
    "deletable": true,
    "new_sheet": false,
    "run_control": {
     "read_only": false
    }
   },
   "outputs": [],
   "source": [
    "beauty = Uniform({'heads/Monday/interviewed', 'heads/Tuesday/sleep',\n",
    "                  'tails/Monday/interviewed', 'tails/Tuesday/interviewed'})"
   ]
  },
  {
   "cell_type": "markdown",
   "metadata": {
    "button": false,
    "deletable": true,
    "new_sheet": false,
    "run_control": {
     "read_only": false
    }
   },
   "source": [
    "At this point, you're probably expecting me to define predicates like this:\n",
    "\n",
    "     def heads(outcome): return 'heads' in outcome\n",
    "     def interviewed(outcome): return 'interviewed' in outcome\n",
    "    \n",
    "We've seen a lot of predicates like this. I think it is time to heed the \"[don't repeat yourself](https://en.wikipedia.org/wiki/Don%27t_repeat_yourself)\" principle, so I will define a predicate-defining function, `t`. Think of \"`t`\" as standing for \"it is true that\":"
   ]
  },
  {
   "cell_type": "code",
   "execution_count": 30,
   "metadata": {
    "button": false,
    "collapsed": true,
    "deletable": true,
    "new_sheet": false,
    "run_control": {
     "read_only": false
    }
   },
   "outputs": [],
   "source": [
    "def t(property):\n",
    "    \"Return a predicate that is true of all outcomes that have 'property' as a substring.\"\n",
    "    return lambda outcome: property in outcome"
   ]
  },
  {
   "cell_type": "markdown",
   "metadata": {
    "button": false,
    "deletable": true,
    "new_sheet": false,
    "run_control": {
     "read_only": false
    }
   },
   "source": [
    "Now we can get the answer, thd probability of heads given that Beauty is interviewed:"
   ]
  },
  {
   "cell_type": "code",
   "execution_count": 31,
   "metadata": {
    "button": false,
    "collapsed": false,
    "deletable": true,
    "new_sheet": false,
    "run_control": {
     "read_only": false
    }
   },
   "outputs": [
    {
     "data": {
      "text/plain": [
       "Fraction(1, 3)"
      ]
     },
     "execution_count": 31,
     "metadata": {},
     "output_type": "execute_result"
    }
   ],
   "source": [
    "P(t(\"heads\"), beauty & t(\"interviewed\"))"
   ]
  },
  {
   "cell_type": "markdown",
   "metadata": {
    "button": false,
    "deletable": true,
    "new_sheet": false,
    "run_control": {
     "read_only": false
    }
   },
   "source": [
    "This problem is considered a paradox because there are people who argue that the answer should be 1/2, not 1/3. I admit I'm having difficulty coming up with an alternative interpretation that supports the \"halfer\" position. \n",
    "\n",
    "I do know of a question that has the answer 1/2:"
   ]
  },
  {
   "cell_type": "code",
   "execution_count": 32,
   "metadata": {
    "button": false,
    "collapsed": false,
    "deletable": true,
    "new_sheet": false,
    "run_control": {
     "read_only": false
    }
   },
   "outputs": [
    {
     "data": {
      "text/plain": [
       "Fraction(1, 2)"
      ]
     },
     "execution_count": 32,
     "metadata": {},
     "output_type": "execute_result"
    }
   ],
   "source": [
    "P(t(\"heads\"), beauty) "
   ]
  },
  {
   "cell_type": "markdown",
   "metadata": {
    "button": false,
    "deletable": true,
    "new_sheet": false,
    "run_control": {
     "read_only": false
    }
   },
   "source": [
    "But that seems like the wrong question; we want the probability of heads given that Sleeping Beauty was interviewed, not the unconditional probability of heads.\n",
    "\n",
    "The \"halfers\" argue that before Sleeping Beauty goes to sleep, her unconditional probability for heads should be 1/2. When she is interviewed, she doesn't know anything more than before she went to sleep, so nothing has changed, so the probability of heads should still be 1/2. I find two flaws with this argument. First, if you want to convince me, show me a sample space; don't just make philosophical arguments. (Although a philosophical argument can be employed to help you define the right sample space.) Second, while I agree that before she goes to sleep, Beauty's *unconditional* probability for heads should be 1/2, I would say that both before she goes to sleep and when she is awakened, her *conditional* probability of heads *given that she is being interviewed* should be 1/3, as shown by the sample space."
   ]
  },
  {
   "cell_type": "markdown",
   "metadata": {
    "button": false,
    "deletable": true,
    "new_sheet": false,
    "run_control": {
     "read_only": false
    }
   },
   "source": [
    "# The Monty Hall Paradox\n",
    "\n",
    "[This](https://en.wikipedia.org/wiki/Monty_Hall_problem) is one of the most famous probability paradoxes. It can be stated as follows:\n",
    "\n",
    "> Suppose you're on a game show, and you're given the choice of three doors: Behind one door is a car; behind the others, goats. You pick a door, say No. 1, and the host, who knows what's behind the doors, opens another door, say No. 3, which has a goat. He then says to you, \"Do you want to switch your choice to door No. 2?\" Is it to your advantage to switch your choice?\n",
    "\n",
    "<img src=\"http://retrothing.typepad.com/.a/6a00d83452989a69e20120a4cb10a2970b-800wi\">\n",
    "<center>Monty Hall</center>\n",
    "\n",
    "Much has been written about this problem, but to solve it all we have to do is be careful about how we understand the problem, and about defining our sample space.  I will define outcomes of the form `'Car1/Lo/Pick1/Open2'`, which means:\n",
    "* `Car1`: The producers of the show randomly placed the car behind door 1.\n",
    "* `Lo`: The host randomly commits to the strategy of opening the lowest-numbered allowable door. A door is allowable if it does not contain the car and was not picked by the contestant. Alternatively, the host could have chosen to open the highest-numbered allowable door (`Hi`).\n",
    "* `Pick1`: The contestant picks door 1.  Our sample space will only consider cases where the contestant picks door 1, but by symmetry, the same arguments could be used if the contestant picked door 2 or 3.\n",
    "* `Open2`: After hearing the contestant's choice, and following the strategy, the host opens a door; in this case door 2.\n",
    "\n",
    "We can see that the sample space has 6 equiprobable outcomes involving `Pick1`:"
   ]
  },
  {
   "cell_type": "code",
   "execution_count": 33,
   "metadata": {
    "button": false,
    "collapsed": true,
    "deletable": true,
    "new_sheet": false,
    "run_control": {
     "read_only": false
    }
   },
   "outputs": [],
   "source": [
    "monty = Uniform({'Car1/Lo/Pick1/Open2', 'Car1/Hi/Pick1/Open3',\n",
    "                 'Car2/Lo/Pick1/Open3', 'Car2/Hi/Pick1/Open3',\n",
    "                 'Car3/Lo/Pick1/Open2', 'Car3/Hi/Pick1/Open2'})"
   ]
  },
  {
   "cell_type": "markdown",
   "metadata": {
    "button": false,
    "deletable": true,
    "new_sheet": false,
    "run_control": {
     "read_only": false
    }
   },
   "source": [
    "Now, assuming the contestant picks door 1 and the host opens door 3, we can ask:\n",
    "- What are the possible outcomes remaining?\n",
    "- What is the probability that the car is behind door 1? \n",
    "- Or door 2?"
   ]
  },
  {
   "cell_type": "code",
   "execution_count": 34,
   "metadata": {
    "button": false,
    "collapsed": false,
    "deletable": true,
    "new_sheet": false,
    "run_control": {
     "read_only": false
    }
   },
   "outputs": [
    {
     "data": {
      "text/plain": [
       "{'Car1/Hi/Pick1/Open3': Fraction(1, 3),\n",
       " 'Car2/Hi/Pick1/Open3': Fraction(1, 3),\n",
       " 'Car2/Lo/Pick1/Open3': Fraction(1, 3)}"
      ]
     },
     "execution_count": 34,
     "metadata": {},
     "output_type": "execute_result"
    }
   ],
   "source": [
    "monty & t(\"Open3\")"
   ]
  },
  {
   "cell_type": "code",
   "execution_count": 35,
   "metadata": {
    "button": false,
    "collapsed": false,
    "deletable": true,
    "new_sheet": false,
    "run_control": {
     "read_only": false
    }
   },
   "outputs": [
    {
     "data": {
      "text/plain": [
       "Fraction(1, 3)"
      ]
     },
     "execution_count": 35,
     "metadata": {},
     "output_type": "execute_result"
    }
   ],
   "source": [
    "P(t(\"Car1\"), monty & t(\"Open3\"))"
   ]
  },
  {
   "cell_type": "code",
   "execution_count": 36,
   "metadata": {
    "button": false,
    "collapsed": false,
    "deletable": true,
    "new_sheet": false,
    "run_control": {
     "read_only": false
    }
   },
   "outputs": [
    {
     "data": {
      "text/plain": [
       "Fraction(2, 3)"
      ]
     },
     "execution_count": 36,
     "metadata": {},
     "output_type": "execute_result"
    }
   ],
   "source": [
    "P(t(\"Car2\"), monty & t(\"Open3\"))"
   ]
  },
  {
   "cell_type": "markdown",
   "metadata": {
    "button": false,
    "deletable": true,
    "new_sheet": false,
    "run_control": {
     "read_only": false
    }
   },
   "source": [
    "We see that the car is behund door 1 only 1/3 of the time, and behind door 2 for 2/3 of the time, so the strategy of **switching** to door 2 is better than **sticking** with door 1. But don't feel bad if you got this one wrong; it turns out that Monty Hall himself, who opened many doors while hosting *Let's Make a Deal* for 13 years, didn't know the answer either, as revealed in this letter from Monty to Prof. Lawrence Denenberg, when Denenberg asked for permission to use the problem in his textbook:\n",
    "<img src=\"http://norvig.com/monty-hall-letter.jpg\">\n",
    "\n",
    "If you were Denenberg, how would you answer Monty, in non-mathematical terms?  I would try something like this:\n",
    "\n",
    "> When the contestant makes her initial pick, she has 1/3 chance of picking the car, and there is a 2/3 chance the car is behind one of the other doors. That's still true after you open a door, but now the 2/3 chance for *either* other door becomes concentrated as 2/3 behind *one* other door, so the contestant should switch.\n",
    "\n",
    "But that type of argument was not persuasive to everyone. [Marilyn vos Savant](http://marilynvossavant.com/game-show-problem/) reports that many of her readers (including, she is pleased to point out, many Ph.D.s) still insist the answer is that it doesn't matter if the contestant switches; the odds are 1/2 either way. Let's try to discover what problem and what sample space those people are dealing with. Perhaps they are reasoning like this:\n",
    "\n",
    "They define outcomes of the form `'Car1/Pick1/Open2/Goat'`, which means:\n",
    "* `Car1`: First the car is randomly placed behind door 1.\n",
    "* `Pick1`: The contestant picks door 1.  \n",
    "* `Open2`: The host opens one of the two other doors at random (so the host might open the door with the car).\n",
    "* `Goat`: We observe there is a goat behind the opened door.\n",
    "\n",
    "Under this interpretation, the sample space of all outcomes involving `Pick1` is:"
   ]
  },
  {
   "cell_type": "code",
   "execution_count": 37,
   "metadata": {
    "button": false,
    "collapsed": true,
    "deletable": true,
    "new_sheet": false,
    "run_control": {
     "read_only": false
    }
   },
   "outputs": [],
   "source": [
    "monty2 = Uniform({'Car1/Pick1/Open2/Goat', 'Car1/Pick1/Open3/Goat',\n",
    "                  'Car2/Pick1/Open2/Car',  'Car2/Pick1/Open3/Goat',\n",
    "                  'Car3/Pick1/Open2/Goat', 'Car3/Pick1/Open3/Car'})"
   ]
  },
  {
   "cell_type": "markdown",
   "metadata": {
    "button": false,
    "deletable": true,
    "new_sheet": false,
    "run_control": {
     "read_only": false
    }
   },
   "source": [
    "And we can calculate the probability of the car being behind each door, given that the contestant picks door 1 and the host opens door 3 to reveal a goat:"
   ]
  },
  {
   "cell_type": "code",
   "execution_count": 38,
   "metadata": {
    "button": false,
    "collapsed": false,
    "deletable": true,
    "new_sheet": false,
    "run_control": {
     "read_only": false
    }
   },
   "outputs": [
    {
     "data": {
      "text/plain": [
       "Fraction(1, 2)"
      ]
     },
     "execution_count": 38,
     "metadata": {},
     "output_type": "execute_result"
    }
   ],
   "source": [
    "P(t(\"Car1\"), monty2 & t(\"Open3/Goat\"))"
   ]
  },
  {
   "cell_type": "code",
   "execution_count": 39,
   "metadata": {
    "button": false,
    "collapsed": false,
    "deletable": true,
    "new_sheet": false,
    "run_control": {
     "read_only": false
    }
   },
   "outputs": [
    {
     "data": {
      "text/plain": [
       "Fraction(1, 2)"
      ]
     },
     "execution_count": 39,
     "metadata": {},
     "output_type": "execute_result"
    }
   ],
   "source": [
    "P(t(\"Car2\"), monty2 & t(\"Open3/Goat\"))"
   ]
  },
  {
   "cell_type": "code",
   "execution_count": 40,
   "metadata": {
    "collapsed": false
   },
   "outputs": [
    {
     "data": {
      "text/plain": [
       "0"
      ]
     },
     "execution_count": 40,
     "metadata": {},
     "output_type": "execute_result"
    }
   ],
   "source": [
    "P(t(\"Car3\"), monty2 & t(\"Open3/Goat\"))"
   ]
  },
  {
   "cell_type": "markdown",
   "metadata": {
    "button": false,
    "deletable": true,
    "new_sheet": false,
    "run_control": {
     "read_only": false
    }
   },
   "source": [
    "So we see that under this interpretation it doesn't matter if you switch or not: either way you win half the time (just don't switch to door 3, unless you really like goats).\n",
    "\n",
    "Is this a valid interpretation? I agree that the wording of the problem can be seen as being ambiguous. However, this interpretation has a serious problem: in all the history of *Let's Make a Deal*, it was never the case that the host opened up a door with the grand prize.  This strongly suggests (but does not prove) that `M`  is the correct interpretation, not `M2`"
   ]
  },
  {
   "cell_type": "markdown",
   "metadata": {
    "run_control": {}
   },
   "source": [
    "# Simulating the Monty Hall Problem\n",
    "\n",
    "Some people might be more convinced by a simulation than by a probability argument. Here is code for a simulation which goes through this sequence of events:\n",
    "\n",
    "   1. The host randomly chooses a door for the 'car'\n",
    "   2. The contestant randomly makes a 'pick' of one of the doors\n",
    "   3. The host randomly selects a non-car, non-pick door to be 'opened.' \n",
    "   4. If strategy == 'switch', contestant changes 'pick' to the other unopened door\n",
    "   5. Return true if the pick is the door with the car."
   ]
  },
  {
   "cell_type": "code",
   "execution_count": 41,
   "metadata": {
    "button": false,
    "collapsed": false,
    "deletable": true,
    "new_sheet": false,
    "run_control": {
     "read_only": false
    }
   },
   "outputs": [],
   "source": [
    "import random\n",
    "\n",
    "def simulate_monty(strategy, doors=(1, 2, 3)):\n",
    "    \"Randomly place car, and given a strategy of 'switch' or 'stick', return True iff the strategy wins.\"\n",
    "    car    = random.choice(doors)\n",
    "    pick   = random.choice(doors)\n",
    "    opened = random.choice([d for d in doors if d != car and d != pick])\n",
    "    if strategy == 'switch':\n",
    "        pick = next(d for d in doors if d != pick and d != opened)\n",
    "    return (pick == car)"
   ]
  },
  {
   "cell_type": "markdown",
   "metadata": {
    "button": false,
    "deletable": true,
    "new_sheet": false,
    "run_control": {
     "read_only": false
    }
   },
   "source": [
    "We can confirm that the contestant wins about 2/3 of the time with the `switch` strategy, and only wins about 1/3 of the time with the `stick` strategy:"
   ]
  },
  {
   "cell_type": "code",
   "execution_count": 42,
   "metadata": {
    "button": false,
    "collapsed": false,
    "deletable": true,
    "new_sheet": false,
    "run_control": {
     "read_only": false
    }
   },
   "outputs": [
    {
     "data": {
      "text/plain": [
       "Counter({False: 33595, True: 66405})"
      ]
     },
     "execution_count": 42,
     "metadata": {},
     "output_type": "execute_result"
    }
   ],
   "source": [
    "from collections import Counter\n",
    "\n",
    "Counter(simulate_monty('switch') for _ in range(10 ** 5))"
   ]
  },
  {
   "cell_type": "code",
   "execution_count": 43,
   "metadata": {
    "button": false,
    "collapsed": false,
    "deletable": true,
    "new_sheet": false,
    "run_control": {
     "read_only": false
    }
   },
   "outputs": [
    {
     "data": {
      "text/plain": [
       "Counter({False: 66871, True: 33129})"
      ]
     },
     "execution_count": 43,
     "metadata": {},
     "output_type": "execute_result"
    }
   ],
   "source": [
    "Counter(simulate_monty('stick') for _ in range(10 ** 5))"
   ]
  },
  {
   "cell_type": "markdown",
   "metadata": {
    "button": false,
    "deletable": true,
    "new_sheet": false,
    "run_control": {
     "read_only": false
    }
   },
   "source": [
    "# Reasoning with Non-Uniform Probability Distributions\n",
    "\n",
    "In all our \"children\" problems so far, the probability of a child being a girl is not exactly 1/2. That's not quite right. An [article](http://people.kzoo.edu/barth/math105/moreboys.pdf) gives the following counts for a sample of two-child families in Denmark:\n",
    "\n",
    "    GG: 121801    GB: 126840\n",
    "    BG: 127123    BB: 135138\n",
    "\n",
    "Let's implement that:"
   ]
  },
  {
   "cell_type": "code",
   "execution_count": 44,
   "metadata": {
    "button": false,
    "collapsed": false,
    "deletable": true,
    "new_sheet": false,
    "run_control": {
     "read_only": false
    }
   },
   "outputs": [
    {
     "data": {
      "text/plain": [
       "{'BB': 0.2645086533229465,\n",
       " 'BG': 0.24882071317004043,\n",
       " 'GB': 0.24826679089140383,\n",
       " 'GG': 0.23840384261560926}"
      ]
     },
     "execution_count": 44,
     "metadata": {},
     "output_type": "execute_result"
    }
   ],
   "source": [
    "DK = ProbDist(GG=121801., GB=126840.,\n",
    "              BG=127123., BB=135138.)\n",
    "DK"
   ]
  },
  {
   "cell_type": "markdown",
   "metadata": {
    "button": false,
    "deletable": true,
    "new_sheet": false,
    "run_control": {
     "read_only": false
    }
   },
   "source": [
    "Now let's try the first two Child Problems with the probability distribution `DK`. Since boys are slightly more probable than girls, we expect a little over 1/2 for Problem 1, and a little over 1/3 for problem 2:"
   ]
  },
  {
   "cell_type": "code",
   "execution_count": 45,
   "metadata": {
    "button": false,
    "collapsed": false,
    "deletable": true,
    "new_sheet": false,
    "run_control": {
     "read_only": false
    }
   },
   "outputs": [
    {
     "data": {
      "text/plain": [
       "0.5152805792702689"
      ]
     },
     "execution_count": 45,
     "metadata": {},
     "output_type": "execute_result"
    }
   ],
   "source": [
    "# Child Problem 1 in DK\n",
    "P(two_boys, DK & older_is_a_boy)"
   ]
  },
  {
   "cell_type": "code",
   "execution_count": 46,
   "metadata": {
    "button": false,
    "collapsed": false,
    "deletable": true,
    "new_sheet": false,
    "run_control": {
     "read_only": false
    }
   },
   "outputs": [
    {
     "data": {
      "text/plain": [
       "0.3473082824253857"
      ]
     },
     "execution_count": 46,
     "metadata": {},
     "output_type": "execute_result"
    }
   ],
   "source": [
    "# Child Problem 2 in DK\n",
    "P(two_boys, DK & at_least_one_boy)"
   ]
  },
  {
   "cell_type": "markdown",
   "metadata": {
    "button": false,
    "deletable": true,
    "new_sheet": false,
    "run_control": {
     "read_only": false
    }
   },
   "source": [
    "It all looks good. Now let's leave Denmark behind and try a new problem:\n",
    "\n",
    "### Child Problem 4. One is a boy born on Feb. 29. What is the probability both are boys?\n",
    "\n",
    "* **Child Problem 4.** I have two children. At least one of them is a boy born on leap day, February 29. What is the probability that both children are boys? Assume that 51.5% of births are boys and that birth days are distributed evenly across the 4&times;365 + 1 days in a 4-year cycle.\n",
    "\n",
    "We will use the notation `GLBN` to mean an older girl born on leap day (`L`) and a younger boy born on a non-leap day (`N`). "
   ]
  },
  {
   "cell_type": "code",
   "execution_count": 47,
   "metadata": {
    "button": false,
    "collapsed": false,
    "deletable": true,
    "new_sheet": false,
    "run_control": {
     "read_only": false
    }
   },
   "outputs": [],
   "source": [
    "sexes      = ProbDist(B=51.5, G=48.5)   # Probability distribution over sexes\n",
    "days       = ProbDist(L=1, N=4*365)     # Probability distribution over Leap days and Non-leap days\n",
    "child      = joint(sexes, days)         # Probability distribution for one child family\n",
    "two_kids_L = joint(child, child)        # Probability distribution for two-child family"
   ]
  },
  {
   "cell_type": "markdown",
   "metadata": {
    "button": false,
    "deletable": true,
    "new_sheet": false,
    "run_control": {
     "read_only": false
    }
   },
   "source": [
    "Let's check out these last two probability distributions:"
   ]
  },
  {
   "cell_type": "code",
   "execution_count": 48,
   "metadata": {
    "button": false,
    "collapsed": false,
    "deletable": true,
    "new_sheet": false,
    "run_control": {
     "read_only": false
    }
   },
   "outputs": [
    {
     "data": {
      "text/plain": [
       "{'BL': 0.00035249828884325804,\n",
       " 'BN': 0.5146475017111568,\n",
       " 'GL': 0.0003319644079397673,\n",
       " 'GN': 0.48466803559206023}"
      ]
     },
     "execution_count": 48,
     "metadata": {},
     "output_type": "execute_result"
    }
   ],
   "source": [
    "child"
   ]
  },
  {
   "cell_type": "code",
   "execution_count": 49,
   "metadata": {
    "button": false,
    "collapsed": false,
    "deletable": true,
    "new_sheet": false,
    "run_control": {
     "read_only": false
    }
   },
   "outputs": [
    {
     "data": {
      "text/plain": [
       "{'BLBL': 1.2425504363742495e-07,\n",
       " 'BLBN': 0.00018141236371064045,\n",
       " 'BLGL': 1.170168857556332e-07,\n",
       " 'BLGN': 0.0001708446532032245,\n",
       " 'BNBL': 0.00018141236371064045,\n",
       " 'BNBN': 0.26486205101753507,\n",
       " 'BNGL': 0.00017084465320322452,\n",
       " 'BNGN': 0.24943319367670777,\n",
       " 'GLBL': 1.170168857556332e-07,\n",
       " 'GLBN': 0.00017084465320322452,\n",
       " 'GLGL': 1.102003681388002e-07,\n",
       " 'GLGN': 0.0001608925374826483,\n",
       " 'GNBL': 0.0001708446532032245,\n",
       " 'GNBN': 0.24943319367670777,\n",
       " 'GNGL': 0.0001608925374826483,\n",
       " 'GNGN': 0.2349031047246665}"
      ]
     },
     "execution_count": 49,
     "metadata": {},
     "output_type": "execute_result"
    }
   ],
   "source": [
    "two_kids_L"
   ]
  },
  {
   "cell_type": "markdown",
   "metadata": {
    "button": false,
    "deletable": true,
    "new_sheet": false,
    "run_control": {
     "read_only": false
    }
   },
   "source": [
    "Now we can solve the problem. Since \"boy born on a leap day\" applies to so few children, we expect the probability of two boys to be just ever so slightly below the baseline rate for boys, 51.5%."
   ]
  },
  {
   "cell_type": "code",
   "execution_count": 50,
   "metadata": {
    "button": false,
    "collapsed": false,
    "deletable": true,
    "new_sheet": false,
    "run_control": {
     "read_only": false
    }
   },
   "outputs": [
    {
     "data": {
      "text/plain": [
       "0.5149145040963756"
      ]
     },
     "execution_count": 50,
     "metadata": {},
     "output_type": "execute_result"
    }
   ],
   "source": [
    "# Child Problem 4: Probability of 2 boys, given two kids, one of which is born on leap day.\n",
    "\n",
    "P(two_boys, two_kids_L & t('BL'))"
   ]
  },
  {
   "cell_type": "markdown",
   "metadata": {
    "button": false,
    "deletable": true,
    "new_sheet": false,
    "run_control": {
     "read_only": false
    }
   },
   "source": [
    "# The St. Petersburg Paradox\n",
    "\n",
    "The [St. Petersburg paradox](https://en.wikipedia.org/wiki/St._Petersburg_paradox) was invented in 1713, named for the home town of the [Bernoullis](http://www.storyofmathematics.com/18th_bernoulli.html), and introduced by [Daniel Bernoulli](), the nephew of Jacob Bernoulli (the urn guy):\n",
    "\n",
    "> *A casino offers a game of chance for a single player in which a fair coin is tossed at each stage. The pot starts at 2 dollars and is doubled every time a head appears. The first time a tail appears, the game ends and the player wins whatever is in the pot. Thus the player wins 2 dollars if a tail appears on the first toss, 4 dollars if a head appears on the first toss and a tail on the second, etc. What is the expected value of this game to the player?*\n",
    "\n",
    "To calculate the expected value, we see there is a 1/2 chance of a tail on the first toss (yielding a pot of \\$2) and if not that, a 1/2 &times; 1/2 = 1/4 chance of a tail on the second toss (yielding a pot of \\$4), and so on. So in total, the expected value is:\n",
    "\n",
    "$$\\frac{1}{2}\\cdot 2 + \\frac{1}{4}\\cdot 4 + \\frac{1}{8}\\cdot 8 + \\frac{1}{16} \\cdot 16 + \\cdots = 1 + 1 + 1 + 1 + \\cdots = \\infty$$\n",
    "\n",
    "The expected value is infinite! But anyone playing the game would not expect to win an infinite amount; thus the paradox. How can we resolve the paradox?\n",
    "\n",
    "## Response 1: Limited Resources\n",
    "\n",
    "The first major response to the paradox is that the casino's resources are limited. Once you break their bank, they can't pay out any more, and thus the expected return is finite. Let's create a probability distribution that reflects this reality. We keep doubling the pot and halving the probability of winning the amount in the pot (half because you get the pot on a tail but not a head), until we reach the bank's limit:"
   ]
  },
  {
   "cell_type": "code",
   "execution_count": 51,
   "metadata": {
    "button": false,
    "collapsed": false,
    "deletable": true,
    "new_sheet": false,
    "run_control": {
     "read_only": false
    }
   },
   "outputs": [],
   "source": [
    "def st_pete(limit):\n",
    "    \"Return the probability distribution for the St. Petersburg Paradox with a limited bank.\"\n",
    "    P = {}     # The probability distribution\n",
    "    pot = 2    # Amount of money in the pot\n",
    "    pr  = 1/2. # Probability that you end up with the amount in pot\n",
    "    while pot < limit:\n",
    "        P[pot] = pr\n",
    "        pot    = pot * 2\n",
    "        pr     = pr / 2\n",
    "    P[limit] = pr * 2     # pr * 2 because you get limit for heads or tails\n",
    "    return ProbDist(P)"
   ]
  },
  {
   "cell_type": "markdown",
   "metadata": {
    "button": false,
    "deletable": true,
    "new_sheet": false,
    "run_control": {
     "read_only": false
    }
   },
   "source": [
    "Let's try with the casino limited to 100 million dollars:"
   ]
  },
  {
   "cell_type": "code",
   "execution_count": 52,
   "metadata": {
    "button": false,
    "collapsed": false,
    "deletable": true,
    "new_sheet": false,
    "run_control": {
     "read_only": false
    }
   },
   "outputs": [
    {
     "data": {
      "text/plain": [
       "{2: 0.5,\n",
       " 4: 0.25,\n",
       " 8: 0.125,\n",
       " 16: 0.0625,\n",
       " 32: 0.03125,\n",
       " 64: 0.015625,\n",
       " 128: 0.0078125,\n",
       " 256: 0.00390625,\n",
       " 512: 0.001953125,\n",
       " 1024: 0.0009765625,\n",
       " 2048: 0.00048828125,\n",
       " 4096: 0.000244140625,\n",
       " 8192: 0.0001220703125,\n",
       " 16384: 6.103515625e-05,\n",
       " 32768: 3.0517578125e-05,\n",
       " 65536: 1.52587890625e-05,\n",
       " 131072: 7.62939453125e-06,\n",
       " 262144: 3.814697265625e-06,\n",
       " 524288: 1.9073486328125e-06,\n",
       " 1048576: 9.5367431640625e-07,\n",
       " 2097152: 4.76837158203125e-07,\n",
       " 4194304: 2.384185791015625e-07,\n",
       " 8388608: 1.1920928955078125e-07,\n",
       " 16777216: 5.960464477539063e-08,\n",
       " 33554432: 2.9802322387695312e-08,\n",
       " 67108864: 1.4901161193847656e-08,\n",
       " 100000000: 1.4901161193847656e-08}"
      ]
     },
     "execution_count": 52,
     "metadata": {},
     "output_type": "execute_result"
    }
   ],
   "source": [
    "StP = st_pete(limit=10**8)\n",
    "StP"
   ]
  },
  {
   "cell_type": "markdown",
   "metadata": {
    "button": false,
    "deletable": true,
    "new_sheet": false,
    "run_control": {
     "read_only": false
    }
   },
   "source": [
    "Now we define the function `EV` to compute the [expected value](https://en.wikipedia.org/wiki/Expected_value) of a probability distribution: "
   ]
  },
  {
   "cell_type": "code",
   "execution_count": 53,
   "metadata": {
    "button": false,
    "collapsed": false,
    "deletable": true,
    "new_sheet": false,
    "run_control": {
     "read_only": false
    }
   },
   "outputs": [],
   "source": [
    "def EV(P):\n",
    "    \"The expected value of a probability distribution.\"\n",
    "    return sum(P[v] * v \n",
    "               for v in P)"
   ]
  },
  {
   "cell_type": "code",
   "execution_count": 54,
   "metadata": {
    "button": false,
    "collapsed": false,
    "deletable": true,
    "new_sheet": false,
    "run_control": {
     "read_only": false
    }
   },
   "outputs": [
    {
     "data": {
      "text/plain": [
       "27.490116119384766"
      ]
     },
     "execution_count": 54,
     "metadata": {},
     "output_type": "execute_result"
    }
   ],
   "source": [
    "EV(StP)"
   ]
  },
  {
   "cell_type": "markdown",
   "metadata": {
    "button": false,
    "deletable": true,
    "new_sheet": false,
    "run_control": {
     "read_only": false
    }
   },
   "source": [
    "This says that for a casino with a bankroll of 100 million dollars, if you want to maximize your expected value, you should be willing to pay up to \\$27.49 to play the game. Would you pay that much? I wouldn't, and neither would Daniel Bernoulli. \n",
    "\n",
    "## Response 2: Value of Money\n",
    "\n",
    "Daniel Bernoulli came up with a second response to the paradox based on the idea that if you have a lot of money, then additional money becomes less valuable to you. If I had nothing, and I won \\$1000, I would be very happy. But if I already had a million dollars and I won \\$1000, it would be less valuable. How much less valuable? Bernoulli proposed, and [experiments confirm](https://books.google.com/books?id=1oEa-BiARWUC&pg=PA205&lpg=PA205&dq=mr+beard+oil+wildcatter+value+of+money+utility&source=bl&ots=cBDIX-rkTz&sig=GHB8-inorWrU39vA8JYV_sCtqB8&hl=en&sa=X&ved=0CCAQ6AEwAGoVChMI5fu-p8qlyAIViKWICh0XAAz5#v=onepage&q=mr%20beard%20oil%20wildcatter%20value%20of%20money%20utility&f=false), that *the value of money is roughly logarithmic.* That is, rational bettors don't try to maximize their expected monetary value, they try to maximize their *expected utility*: the amount of \"happiness\" that the money is worth.\n",
    "I'll write the function `util` to describe what a dollar amount is worth to a hypothetical gambler. `util` says that a dollar is worth a dollar, until the amount is \"enough\" money. After that point, each additional dollar is worth half as much (only brings half as much happiness). Value keeps accumulating at this rate until we reach the next threshold of \"enough,\" when the utility of additional dollars is halfed again. The exact details of `util` are not critical; what matters is that overall money becomes less valuable after we have won a lot of it."
   ]
  },
  {
   "cell_type": "code",
   "execution_count": 55,
   "metadata": {
    "button": false,
    "collapsed": false,
    "deletable": true,
    "new_sheet": false,
    "run_control": {
     "read_only": false
    }
   },
   "outputs": [],
   "source": [
    "def util(dollars, enough=1000): \n",
    "    \"The value of money: only half as valuable after you already have enough.\"\n",
    "    if dollars < enough:\n",
    "        return dollars\n",
    "    else:\n",
    "        additional = dollars-enough\n",
    "        return enough + util(additional / 2, enough * 2)"
   ]
  },
  {
   "cell_type": "markdown",
   "metadata": {
    "button": false,
    "deletable": true,
    "new_sheet": false,
    "run_control": {
     "read_only": false
    }
   },
   "source": [
    "A table and a plot will give a feel for the `util` function. Notice the characterisitc concave-down shape of the plot."
   ]
  },
  {
   "cell_type": "code",
   "execution_count": 56,
   "metadata": {
    "button": false,
    "collapsed": false,
    "deletable": true,
    "new_sheet": false,
    "run_control": {
     "read_only": false
    }
   },
   "outputs": [
    {
     "name": "stdout",
     "output_type": "stream",
     "text": [
      "            100 $ =    100 util\n",
      "          1,000 $ =  1,000 util\n",
      "         10,000 $ =  4,250 util\n",
      "        100,000 $ = 15,937 util\n",
      "      1,000,000 $ = 51,593 util\n"
     ]
    }
   ],
   "source": [
    "for d in range(2, 7):\n",
    "    m = 10 ** d\n",
    "    print('{:15,d} $ = {:6,d} util'.format(m, int(util(m))))"
   ]
  },
  {
   "cell_type": "code",
   "execution_count": 57,
   "metadata": {
    "button": false,
    "collapsed": false,
    "deletable": true,
    "new_sheet": false,
    "run_control": {
     "read_only": false
    }
   },
   "outputs": [
    {
     "name": "stdout",
     "output_type": "stream",
     "text": [
      "Y axis is util(x); x axis is in thousands of dollars.\n"
     ]
    },
    {
     "data": {
      "image/png": "iVBORw0KGgoAAAANSUhEUgAAAZcAAAEACAYAAAB/BTv2AAAABHNCSVQICAgIfAhkiAAAAAlwSFlz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\nzCrO4WJmZhXncDEzs4r7/4Ft1mlX2Ik+AAAAAElFTkSuQmCC\n",
      "text/plain": [
       "<matplotlib.figure.Figure at 0x105dbb5f8>"
      ]
     },
     "metadata": {},
     "output_type": "display_data"
    }
   ],
   "source": [
    "%matplotlib inline \n",
    "import matplotlib.pyplot as plt\n",
    "\n",
    "X = list(range(1000, 1000000, 10000))\n",
    "plt.plot(X, [util(x) for x in X])\n",
    "print('Y axis is util(x); x axis is in thousands of dollars.')"
   ]
  },
  {
   "cell_type": "markdown",
   "metadata": {
    "button": false,
    "deletable": true,
    "new_sheet": false,
    "run_control": {
     "read_only": false
    }
   },
   "source": [
    "Now I will define the function `EU`, which computes the [expected utility](http://wiki.lesswrong.com/wiki/Expected_utility) of the game:"
   ]
  },
  {
   "cell_type": "code",
   "execution_count": 58,
   "metadata": {
    "button": false,
    "collapsed": false,
    "deletable": true,
    "new_sheet": false,
    "run_control": {
     "read_only": false
    }
   },
   "outputs": [],
   "source": [
    "def EU(P, U):\n",
    "    \"The expected utility of a probability distribution, given a utility function.\"\n",
    "    return sum(P[e] * U(e) \n",
    "               for e in P)"
   ]
  },
  {
   "cell_type": "code",
   "execution_count": 59,
   "metadata": {
    "button": false,
    "collapsed": false,
    "deletable": true,
    "new_sheet": false,
    "run_control": {
     "read_only": false
    }
   },
   "outputs": [
    {
     "data": {
      "text/plain": [
       "13.096907431492582"
      ]
     },
     "execution_count": 59,
     "metadata": {},
     "output_type": "execute_result"
    }
   ],
   "source": [
    "EU(StP, util)"
   ]
  },
  {
   "cell_type": "markdown",
   "metadata": {
    "button": false,
    "deletable": true,
    "new_sheet": false,
    "run_control": {
     "read_only": false
    }
   },
   "source": [
    "That says we should pay up to \\$13.10 to play the game, which sounds more reasonable than \\$27.49.\n",
    "\n",
    "# Understanding St. Petersburg  through Simulation\n",
    "\n",
    "Before I plunk down my \\$13, I'd like to understand the game better. I'll write a simulation of the game:"
   ]
  },
  {
   "cell_type": "code",
   "execution_count": 60,
   "metadata": {
    "button": false,
    "collapsed": true,
    "deletable": true,
    "new_sheet": false,
    "run_control": {
     "read_only": false
    }
   },
   "outputs": [],
   "source": [
    "def flip(): return random.choice(('head', 'tail'))\n",
    "\n",
    "def simulate_st_pete(limit=10**9):\n",
    "    \"Simulate one round of the St. Petersburg game, and return the payoff.\"\n",
    "    pot = 2\n",
    "    while flip() == 'head':\n",
    "        pot = pot * 2\n",
    "        if pot > limit:\n",
    "            return limit\n",
    "    return pot"
   ]
  },
  {
   "cell_type": "markdown",
   "metadata": {
    "button": false,
    "deletable": true,
    "new_sheet": false,
    "run_control": {
     "read_only": false
    }
   },
   "source": [
    "I will run the simulation 100,000 times (with a random seed specified for reproducability):"
   ]
  },
  {
   "cell_type": "code",
   "execution_count": 61,
   "metadata": {
    "button": false,
    "collapsed": false,
    "deletable": true,
    "new_sheet": false,
    "run_control": {
     "read_only": false
    }
   },
   "outputs": [
    {
     "data": {
      "text/plain": [
       "Counter({2: 49755,\n",
       "         4: 25060,\n",
       "         8: 12590,\n",
       "         16: 6322,\n",
       "         32: 3151,\n",
       "         64: 1607,\n",
       "         128: 751,\n",
       "         256: 370,\n",
       "         512: 191,\n",
       "         1024: 106,\n",
       "         2048: 45,\n",
       "         4096: 29,\n",
       "         8192: 10,\n",
       "         16384: 6,\n",
       "         32768: 5,\n",
       "         65536: 1,\n",
       "         1048576: 1})"
      ]
     },
     "execution_count": 61,
     "metadata": {},
     "output_type": "execute_result"
    }
   ],
   "source": [
    "from collections import Counter\n",
    "\n",
    "random.seed(123456)\n",
    "\n",
    "c = Counter(simulate_st_pete() for _ in range(100000))\n",
    "c"
   ]
  },
  {
   "cell_type": "markdown",
   "metadata": {
    "button": false,
    "deletable": true,
    "new_sheet": false,
    "run_control": {
     "read_only": false
    }
   },
   "source": [
    "The results are about what you would expect: about half the pots are 2, a quarter are 4, an eighth are 8, and higher pots are more and more unlikely.  Let's check expected utility and expected value:"
   ]
  },
  {
   "cell_type": "code",
   "execution_count": 62,
   "metadata": {
    "button": false,
    "collapsed": false,
    "deletable": true,
    "new_sheet": false,
    "run_control": {
     "read_only": false
    }
   },
   "outputs": [
    {
     "data": {
      "text/plain": [
       "(13.2477575, 26.71606)"
      ]
     },
     "execution_count": 62,
     "metadata": {},
     "output_type": "execute_result"
    }
   ],
   "source": [
    "results = ProbDist(c)\n",
    "\n",
    "EU(results, util), float(EV(results))"
   ]
  },
  {
   "cell_type": "markdown",
   "metadata": {
    "button": false,
    "deletable": true,
    "new_sheet": false,
    "run_control": {
     "read_only": false
    }
   },
   "source": [
    "These are not too far off from the theoretial values.\n",
    "\n",
    "To see better how things unfold, I will define a function to plot the running average of repeated rounds:"
   ]
  },
  {
   "cell_type": "code",
   "execution_count": 63,
   "metadata": {
    "button": false,
    "collapsed": false,
    "deletable": true,
    "new_sheet": false,
    "run_control": {
     "read_only": false
    }
   },
   "outputs": [],
   "source": [
    "def running_averages(iterable):\n",
    "    \"For each element in the iterable, yield the mean of all elements seen so far.\" \n",
    "    total, n = 0, 0\n",
    "    for x in iterable:\n",
    "        total, n = total + x, n + 1\n",
    "        yield total / n\n",
    "\n",
    "def plot_running_averages(fn, n):\n",
    "    \"Plot the running average of calling the function n times.\"\n",
    "    plt.plot(list(running_averages(fn() for _ in range(n))))"
   ]
  },
  {
   "cell_type": "markdown",
   "metadata": {
    "button": false,
    "deletable": true,
    "new_sheet": false,
    "run_control": {
     "read_only": false
    }
   },
   "source": [
    "Let's do ten repetitions of plotting the running averages of 100,000 rounds:"
   ]
  },
  {
   "cell_type": "code",
   "execution_count": 64,
   "metadata": {
    "button": false,
    "collapsed": false,
    "deletable": true,
    "new_sheet": false,
    "run_control": {
     "read_only": false
    }
   },
   "outputs": [
    {
     "data": {
      "image/png": "iVBORw0KGgoAAAANSUhEUgAAAYcAAAEACAYAAABYq7oeAAAABHNCSVQICAgIfAhkiAAAAAlwSFlz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