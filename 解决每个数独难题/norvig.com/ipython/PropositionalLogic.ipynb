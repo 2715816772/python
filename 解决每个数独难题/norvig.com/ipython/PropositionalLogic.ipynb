{
 "cells": [
  {
   "cell_type": "markdown",
   "metadata": {},
   "source": [
    "# Translating English Sentences into Propositional Logic Statements\n",
    "\n",
    "In a Logic course, one exercise is to turn an English sentence like this:\n",
    "\n",
    "> *Sieglinde will survive, and either her son will gain the Ring and Wotan’s plan will be fulfilled or else Valhalla will be destroyed.*\n",
    "\n",
    "Into a formal Propositional Logic statement: \n",
    "\n",
    "    P ⋀ ((Q ⋀ R) ∨ S)\n",
    "    \n",
    "along with definitions of the propositions:\n",
    "\n",
    "    P: Sieglinde will survive\n",
    "    Q: Sieglinde’s son will gain the Ring\n",
    "    R: Wotan’s plan will be fulfilled\n",
    "    S: Valhalla will be destroyed\n",
    "\n",
    "For some sentences, it takes detailed knowledge to get a good translation. The following two sentences are ambiguous, with different prefered interpretations, and translating them correctly requires knowledge of eating habits:\n",
    "\n",
    "    I will eat salad or I will eat bread and I wi