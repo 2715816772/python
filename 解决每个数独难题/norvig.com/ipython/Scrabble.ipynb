{
 "cells": [
  {
   "cell_type": "markdown",
   "metadata": {},
   "source": [
    "<div style=\"float:right\"><i>Peter Norvig<br>29 December 2015</i></div>\n",
    "\n",
    "# Refactoring a Crossword Game Program\n",
    "\n",
    "In my [CS 212 class](https://www.udacity.com/course/design-of-computer-programs--cs212) on Udacity, the [most complex lesson](https://www.udacity.com/course/viewer#!/c-cs212/l-48634860) involved a crossword game program (for games such as Scrabble&reg; and Words with Friends&reg;). The program was developed *incrementally*. First I asked \"what words can be made with a rack of seven letters?\", then I asked \"how can you place words onto a single row?\", and finally, I, with the help of the students, developed a program to find the highest scoring play anywhere on the board. This approach made for a good sequence of exercises, each building on the previous one.  But the code ended up being overly complicated&mdash;it accumlated [technical debt](https://en.wikipedia.org/wiki/Technical_debt)&mdash;because it kept around ideas from each iteration.\n",
    "\n",
    "In this notebook I will refactor the program to pay off the debt.\n",
    "\n",
    "# Vocabulary\n",
    "\n",
    "Our program uses these concepts:\n",
    "\n",
    "* **Dictionary**: A set of all legal words.\n",
    "* **Word**: a string of letters. Words in the dictionary are all uppercase.\n",
    "* **Tile**: a letter (or a blank) that can be played on the board to form words. \n",
    "* **Blank**: a tile with no letter on it; the player who places it on the board gets to choose which letter it will represent. \n",
    "* **Rack**: a collection of up to seven tiles that a player may use to make words.\n",
    "* **Board**: a grid of squares onto which players play tiles to make words. \n",
    "* **Square**: a location on the board; a square can hold one tile. (The variable `s` will stand for a square number, and `sq` for the contents of a square.)\n",
    "* **Bonus**: some squares give you bonus scores: double or triple letter or word scores.\n",
    "* **Play**: a play consists of placing some tiles on the board to form a continuous string of letters in one direction (across or down), such that only valid words are formed, and such that one of the letters is placed on an anchor square.\n",
    "* **Anchor square**: Every play must place a letter on an anchor square: either the center start square or a square that is adjacent to a tile previously played on the board. \n",
    "* **Direction:** Every play must be in either the `ACROSS` or `DOWN` direction. (The variable `dir`  stands for a direction.)\n",
    "* **Cross word**: a word formed in the other direction from a play. For example, a play forms a word in the across direction, and in doing so, places a letter that extends a word in the down direction. This new extended *cross word* must be in the dictionary.\n",
    "* **Score**: the points awarded for a play, consisting of the sum of the word scores for each word made (the main word and possibly any cross words), plus a bingo bonus if all seven letters are used. \n",
    "* **Word score**: Each word scores the sum of the letter scores for each tile (either placed by the player or already on the board but part of the word) times the word bonus score. The word bonus score starts at 1, and is multiplied by 2 for each double word square and 3 for each triple word square covered by a tile on this play.\n",
    "* **Letter score**: The letter score is the value on the letter tile (for example, 1 for `A` and 10 for `Q`) times the letter bonus score. The letter bonus is 2 when a tile is first placed on a double letter square (or the center star) and 3 when first placed on a triple letter square; it is 1 for a tile already on the board, or for a new tile played on a non-letter-bonus square. The letter score for a blank tile is always zero.\n",
    "* **Bingo**: a bonus gained by using all seven tiles in one play. In Words with Friends&reg; the bingo bonus is 35; in Scrabble&reg; it is 50.\n",
    "* **Game**: players take turns making plays until one player has no more tiles. After making a play, the player's\n",
    "rack is replenished with tiles until the player has 7 tiles or until the bag of tiles is empty.\n",
    "* **Prefix**: a string of zero or more letters that starts some word in the dictionary. Not a concept that has to do\n",
    "with the *rules* of the game; it will be important in our *algorithm* that finds valid plays.\n",
    "\n",
    "This notebook uses these imports:\n",
    "\n"
   ]
  },
  {
   "cell_type": "code",
   "execution_count": 1,
   "metadata": {
    "collapsed": false
   },
   "outputs": [],
   "source": [
    "from __future__  import division, print_function\n",
    "from collections import defaultdict, namedtuple\n",
    "from IPython.display import HTML, display\n",
    "import random"
   ]
  },
  {
   "cell_type": "markdown",
   "metadata": {},
   "source": [
    "\n",
    "# Dictionary and Words\n",
    "\n",
    "We will represent the dictionary as a set of words. A word is an uppercase string of letters, like `'WORD'`. There are several standard dictionaries used by different communities of players; we will use the ENABLE dictionary&mdash;we can cache a local copy with this shell command:"
   ]
  },
  {
   "cell_type": "code",
   "execution_count": 2,
   "metadata": {
    "collapsed": false
   },
   "outputs": [],
   "source": [
    "! [ -e enable1.txt ] || curl -O http://norvig.com/ngrams/enable1.txt"
   ]
  },
  {
   "cell_type": "markdown",
   "metadata": {},
   "source": [
    "Now we can define a word and load the dictionary:"
   ]
  },
  {
   "cell_type": "code",
   "execution_count": 3,
   "metadata": {
    "collapsed": false
   },
   "outputs": [],
   "source": [
    "def Word(w) -> str: return w.strip().upper()\n",
    "\n",
    "DICTIONARY = {Word(w) for w in open('enable1.txt')}\n",
    "\n",
    "def is_word(word) -> bool: \n",
    "    \"Is this a legal word in the dictionary?\"\n",
    "    return word.upper() in DICTIONARY"
   ]
  },
  {
   "cell_type": "code",
   "execution_count": 4,
   "metadata": {
    "collapsed": false
   },
   "outputs": [
    {
     "data": {
      "text/plain": [
       "172820"
      ]
     },
     "execution_count": 4,
     "metadata": {},
     "output_type": "execute_result"
    }
   ],
   "source": [
    "len(DICTIONARY)"
   ]
  },
  {
   "cell_type": "code",
   "execution_count": 5,
   "metadata": {
    "collapsed": false
   },
   "outputs": [
    {
     "data": {
      "text/plain": [
       "['DECIPHER',\n",
       " 'ROUGHLY',\n",
       " 'DULLSVILLES',\n",
       " 'INDEHISCENT',\n",
       " 'SAGEBRUSHES',\n",
       " 'COMES',\n",
       " 'WITCHERIES',\n",
       " 'HOMES',\n",
       " 'PECK',\n",
       " 'GEEZ']"
      ]
     },
     "execution_count": 5,
     "metadata": {},
     "output_type": "execute_result"
    }
   ],
   "source": [
    "list(DICTIONARY)[:10]"
   ]
  },
  {
   "cell_type": "code",
   "execution_count": 6,
   "metadata": {
    "collapsed": false
   },
   "outputs": [
    {
     "data": {
      "text/plain": [
       "True"
      ]
     },
     "execution_count": 6,
     "metadata": {},
     "output_type": "execute_result"
    }
   ],
   "source": [
    "'WORD' in DICTIONARY"
   ]
  },
  {
   "cell_type": "markdown",
   "metadata": {},
   "source": [
    "# Tiles, Blanks, and Racks\n",
    "\n",
    "We'll represent a tile as a one-character string, like `'W'`.  We'll represent a rack as a string of tiles, usually of length 7, such as `'EELRTTS'`. (I also considered a `collections.Counter` to represent a rack, but felt that `str` was simpler, and with the rack size limited to 7, efficiency was not a major issue.)\n",
    "\n",
    "The blank tile causes some complications. We'll represent a blank in a player's rack as the underscore character, `'_'`.  But once the blank is played on the board, it must be used as if it was a specific letter. However, it doesn't score the points of the letter. I chose to use the lowercase version of the letter to represent this.  That way, we know what letter the blank is standing for, and we can distingush between scoring and non-scoring tiles.  For example, `'EELRTT_'` is a rack that contains a blank; and `'LETTERs'` is a word played on the board that uses the blank to stand for the letter `S`. \n",
    "\n",
    "We'll define `letters` to give all the distinct letters that can be made by a rack, and `remove` to remove letters from a rack (after they have been played)."
   ]
  },
  {
   "cell_type": "code",
   "execution_count": 7,
   "metadata": {
    "collapsed": false
   },
   "outputs": [],
   "source": [
    "BLANK    = '_'     # The blank tile (as it appears in the rack)\n",
    "cat      = ''.join # Function to concatenate strings\n",
    "\n",
    "def letters(rack) -> str:\n",
    "    \"All the distinct letters in a rack (including lowercase if there is a blank).\"\n",
    "    if BLANK in rack:\n",
    "        return cat(set(rack.replace(BLANK, ''))) + 'abcdefghijklmnopqrstuvwxyz'\n",
    "    else:\n",
    "        return cat(set(rack))\n",
    "    \n",
    "def remove(tiles, rack) -> str:\n",
    "    \"Return a copy of rack with the given tile(s) removed.\"\n",
    "    for tile in tiles:\n",
    "        if tile.islower(): tile = BLANK\n",
    "        rack = rack.replace(tile, '', 1)\n",
    "    return rack"
   ]
  },
  {
   "cell_type": "code",
   "execution_count": 8,
   "metadata": {
    "collapsed": false
   },
   "outputs": [
    {
     "data": {
      "text/plain": [
       "True"
      ]
     },
     "execution_count": 8,
     "metadata": {},
     "output_type": "execute_result"
    }
   ],
   "source": [
    "is_word('LETTERs')"
   ]
  },
  {
   "cell_type": "code",
   "execution_count": 9,
   "metadata": {
    "collapsed": false
   },
   "outputs": [
    {
     "data": {
      "text/plain": [
       "'TLRSE'"
      ]
     },
     "execution_count": 9,
     "metadata": {},
     "output_type": "execute_result"
    }
   ],
   "source": [
    "letters('LETTERS')"
   ]
  },
  {
   "cell_type": "code",
   "execution_count": 10,
   "metadata": {
    "collapsed": false
   },
   "outputs": [
    {
     "data": {
      "text/plain": [
       "'TLREabcdefghijklmnopqrstuvwxyz'"
      ]
     },
     "execution_count": 10,
     "metadata": {},
     "output_type": "execute_result"
    }
   ],
   "source": [
    "letters('EELRTT_')"
   ]
  },
  {
   "cell_type": "code",
   "execution_count": 11,
   "metadata": {
    "collapsed": false
   },
   "outputs": [
    {
     "data": {
      "text/plain": [
       "'LTER'"
      ]
     },
     "execution_count": 11,
     "metadata": {},
     "output_type": "execute_result"
    }
   ],
   "source": [
    "remove('SET', 'LETTERS')"
   ]
  },
  {
   "cell_type": "code",
   "execution_count": 12,
   "metadata": {
    "collapsed": false
   },
   "outputs": [
    {
     "data": {
      "text/plain": [
       "'LE'"
      ]
     },
     "execution_count": 12,
     "metadata": {},
     "output_type": "execute_result"
    }
   ],
   "source": [
    "remove('TREaT', 'LETTER_') "
   ]
  },
  {
   "cell_type": "markdown",
   "metadata": {},
   "source": [
    "# The Board, Squares, Directions, and Bonus Squares\n",
    "\n",
    "In the [previous version](https://www.udacity.com/course/viewer#!/c-cs212/l-48634860) of this program, the board was a two-dimensional matrix, and a square on the board was denoted by a `(row, col)` pair of indexes. There's nothing wrong with that representation, but for this version we will choose a different representation that is simpler in most ways:\n",
    "\n",
    "* The board is represented as a one-dimensional list of squares.\n",
    "* The default board is 15&times;15 squares, but\n",
    "we will include a *border* around the outside, making the board  of size 17&times;17. \n",
    "* Squares are denoted by integer indexes, from 0 to 288.\n",
    "* To move in the `ACROSS` direction from one square to the next, increment the square index by 1.\n",
    "* To move in the `DOWN` direction from one square to the next, increment the square index by 17.\n",
    "* The border squares are filled with a symbol, `OFF`, indicating that they are off the board.\n",
    "The advantage of the border is that the code never has to check if it is at the edge of the board; it can always\n",
    "look at the neighboring square without fear of indexing off the end of the board.\n",
    "* Each square on the board is initially filled by a symbol indicating the bonus value of the square. When a tile is placed on a square,\n",
    "the tile replaces the bonus value.\n",
    "\n",
    "How will we implement this? We'll define `Board` as a subclass of `list` and give it two additional attributes: \n",
    "\n",
    "- `down`: the increment to move in the down direction; 17 for a standard board.\n",
    "- `directions`: the four increments to move to any neighboring square; `(1, 17, -1, -17)` in a standard board.\n",
    "\n",
    "Jupyter/Ipython notebooks have a special convention for displaying objects in HTML. We will adopt it as a method of `Board`:\n",
    "\n",
    "- `_repr_html_`: return a string of HTML that displays the board as a table."
   ]
  },
  {
   "cell_type": "code",
   "execution_count": 13,
   "metadata": {
    "collapsed": false
   },
   "outputs": [],
   "source": [
    "ACROSS = 1   # The 'across' direction; 'down' depends on the size of the board\n",
    "OFF    = '#' # A square that is off the board\n",
    "SL, DL, TL, STAR, DW, TW = EMPTY = '.:;*-=' # Single/double/triple letter; star, double/triple word bonuses\n",
    "\n",
    "Square    = int # Squares are implemented as integer indexes.\n",
    "Direction = int # Directions are implemented as integer increments\n",
    "\n",
    "class Board(list):\n",
    "    \"\"\"A Board is a (linear) list of squares, each a single character.\n",
    "    Note that board[s + down] is directly below board[s].\"\"\"\n",
    "\n",
    "    def __init__(self, squares):\n",
    "        list.__init__(self, squares)\n",
    "        down = int(len(squares)**0.5)\n",
    "        self.down = down\n",
    "        self.directions = (ACROSS, down, -ACROSS, -down)\n",
    "        \n",
    "    def _repr_html_(self) -> str: return board_html(self)"
   ]
  },
  {
   "cell_type": "markdown",
   "metadata": {},
   "source": [
    "We'll define `WWF` as the standard board for Words with Friends&reg;."
   ]
  },
  {
   "cell_type": "code",
   "execution_count": 14,
   "metadata": {
    "collapsed": true
   },
   "outputs": [],
   "source": [
    "WWF = Board(\"\"\"\n",
    "# # # # # # # # # # # # # # # # #\n",
    "# . . . = . . ; . ; . . = . . . #\n",
    "# . . : . . - . . . - . . : . . #\n",
    "# . : . . : . . . . . : . . : . #\n",
    "# = . . ; . . . - . . . ; . . = #\n",
    "# . . : . . . : . : . . . : . . #\n",
    "# . - . . . ; . . . ; . . . - . #\n",
    "# ; . . . : . . . . . : . . . ; #\n",
    "# . . . - . . . * . . . - . . . #\n",
    "# ; . . . : . . . . . : . . . ; #\n",
    "# . - . . . ; . . . ; . . . - . #\n",
    "# . . : . . . : . : . . . : . . #\n",
    "# = . . ; . . . - . . . ; . . = #\n",
    "# . : . . : . . . . . : . . : . #\n",
    "# . . : . . - . . . - . . : . . #\n",
    "# . . . = . . ; . ; . . = . . . #\n",
    "# # # # # # # # # # # # # # # # #\n",
    "\"\"\".split())"
   ]
  },
  {
   "cell_type": "code",
   "execution_count": 15,
   "metadata": {
    "collapsed": true
   },
   "outputs": [],
   "source": [
    "assert len(WWF) == 17 * 17"
   ]
  },
  {
   "cell_type": "markdown",
   "metadata": {},
   "source": [
    "# Displaying the Board in HTML\n",
    "\n",
    "I want to diaplay the board in HTML, as a table with different background colors for the bonus squares; and gold-colored letter tiles. I also want to display the point values for each letter on the tiles; I'll use a `defaultdict` of `{letter: int}` named `POINTS` for that."
   ]
  },
  {
   "cell_type": "code",
   "execution_count": 60,
   "metadata": {
    "collapsed": false
   },
   "outputs": [],
   "source": [
    "def board_html(board) -> str:\n",
    "    \"An HTML representation of the board.\"\n",
    "    size = board.down - 2\n",
    "    squares = [square_html(sq) for sq in board if sq != OFF]\n",
    "    row = ('<tr>' + '{}' * size)\n",
    "    return ('<table>' +  row * size + '</table>').format(*squares)\n",
    "    \n",
    "board_colors = {\n",
    "     DL: ('lightblue',  66, 'DL'),\n",
    "     TL: ('lightgreen', 66, 'TL'),\n",
    "     DW: ('lightcoral', 66, 'DW'),\n",
    "     TW: ('orange',     66, 'TW'),\n",
    "     SL: ('whitesmoke', 66, ''),\n",
    "     STAR: ('violet',  100, '&#10029;')}\n",
    "\n",
    "def square_html(sq) -> str:\n",
    "    \"An HTML representation of a square.\"\n",
    "    color, size, text = board_colors.get(sq, ('gold', 120, sq))\n",
    "    if text.isupper(): \n",
    "        text = '<b>{}</b><sup style=\"font-size: 60%\">{}</sup>'.format(text, POINTS.get(text, ''))\n",
    "    style = \"background-color:{}; font-size:{}%; width:25px; height:25px; text-align:center; padding:0px\"\n",
    "    return ('<td style=\"' + style + '\">{}').format(color, size, text)\n",
    "\n",
    "POINTS = defaultdict(int, \n",
    "         A=1, B=3, C=3, D=2,  E=1, F=4, G=2, H=4, I=1, J=8, K=5, L=1, M=3, \n",
    "         N=1, O=1, P=3, Q=10, R=1, S=1, T=1, U=1, V=4, W=4, X=8, Y=4, Z=10)"
   ]
  },
  {
   "cell_type": "code",
   "execution_count": 61,
   "metadata": {
    "collapsed": false
   },
   "outputs": [
    {
     "data": {
      "text/html": [
       "<table><tr><td style=\"background-color:whitesmoke; font-size:66%; width:25px; height:25px; text-align:center; padding:0px\"><td style=\"background-color:whitesmoke; font-size:66%; width:25px; height:25px; text-align:center; padding:0px\"><td style=\"background-color:whitesmoke; font-size:66%; width:25px; height:25px; text-align:center; padding:0px\"><td style=\"background-color:orange; font-size:66%; width:25px; height:25px; text-align:center; padding:0px\"><b>TW</b><sup style=\"font-size: 60%\"></sup><td style=\"background-color:whitesmoke; font-size:66%; width:25px; height:25px; text-align:center; padding:0px\"><td style=\"background-color:whitesmoke; font-size:66%; width:25px; height:25px; text-align:center; padding:0px\"><td style=\"background-color:lightgreen; font-size:66%; width:25px; height:25px; text-align:center; padding:0px\"><b>TL</b><sup style=\"font-size: 60%\"></sup><td style=\"background-color:whitesmoke; font-size:66%; width:25px; height:25px; text-align:center; padding:0px\"><td style=\"background-color:lightgreen; font-size:66%; width:25px; height:25px; text-align:center; padding:0px\"><b>TL</b><sup style=\"font-size: 60%\"></sup><td style=\"background-color:whitesmoke; font-size:66%; width:25px; height:25px; text-align:center; padding:0px\"><td style=\"background-color:whitesmoke; font-size:66%; width:25px; height:25px; text-align:center; padding:0px\"><td style=\"background-color:orange; font-size:66%; width:25px; height:25px; text-align:center; padding:0px\"><b>TW</b><sup style=\"font-size: 60%\"></sup><td style=\"background-color:whitesmoke; font-size:66%; width:25px; height:25px; text-align:center; padding:0px\"><td style=\"background-color:whitesmoke; font-size:66%; width:25px; height:25px; text-align:center; padding:0px\"><td style=\"background-color:whitesmoke; font-size:66%; width:25px; height:25px; text-align:center; padding:0px\"><tr><td style=\"background-color:whitesmoke; font-size:66%; width:25px; height:25px; text-align:center; padding:0px\"><td style=\"background-color:whitesmoke; font-size:66%; width:25px; height:25px; text-align:center; padding:0px\"><td style=\"background-color:lightblue; font-size:66%; width:25px; height:25px; text-align:center; padding:0px\"><b>DL</b><sup style=\"font-size: 60%\"></sup><td style=\"background-color:whitesmoke; font-size:66%; width:25px; height:25px; text-align:center; padding:0px\"><td style=\"background-color:whitesmoke; font-size:66%; width:25px; height:25px; text-align:center; padding:0px\"><td style=\"background-color:lightcoral; font-size:66%; width:25px; height:25px; text-align:center; padding:0px\"><b>DW</b><sup style=\"font-size: 60%\"></sup><td style=\"background-color:whitesmoke; font-size:66%; width:25px; height:25px; text-align:center; padding:0px\"><td style=\"background-color:whitesmoke; font-size:66%; width:25px; height:25px; text-align:center; padding:0px\"><td style=\"background-color:whitesmoke; font-size:66%; width:25px; height:25px; text-align:center; padding:0px\"><td style=\"background-color:lightcoral; font-size:66%; width:25px; height:25px; text-align:center; padding:0px\"><b>DW</b><sup style=\"font-size: 60%\"></sup><td style=\"background-color:whitesmoke; font-size:66%; width:25px; height:25px; text-align:center; padding:0px\"><td style=\"background-color:whitesmoke; font-size:66%; width:25px; height:25px; text-align:center; padding:0px\"><td style=\"background-color:lightblue; font-size:66%; width:25px; height:25px; text-align:center; padding:0px\"><b>DL</b><sup style=\"font-size: 60%\"></sup><td style=\"background-color:whitesmoke; font-size:66%; width:25px; height:25px; text-align:center; padding:0px\"><td style=\"background-color:whitesmoke; font-size:66%; width:25px; height:25px; text-align:center; padding:0px\"><tr><td style=\"background-color:whitesmoke; font-size:66%; width:25px; height:25px; text-align:center; padding:0px\"><td style=\"background-color:lightblue; font-size:66%; width:25px; height:25px; text-align:center; padding:0px\"><b>DL</b><sup style=\"font-size: 60%\"></sup><td style=\"background-color:whitesmoke; font-size:66%; width:25px; height:25px; text-align:center; padding:0px\"><td style=\"background-color:whitesmoke; font-size:66%; width:25px; height:25px; text-align:center; padding:0px\"><td style=\"background-color:lightblue; font-size:66%; width:25px; height:25px; text-align:center; padding:0px\"><b>DL</b><sup style=\"font-size: 60%\"></sup><td style=\"background-color:whitesmoke; font-size:66%; width:25px; height:25px; text-align:center; padding:0px\"><td style=\"background-color:whitesmoke; font-size:66%; width:25px; height:25px; text-align:center; padding:0px\"><td style=\"background-color:whitesmoke; font-size:66%; width:25px; height:25px; text-align:center; padding:0px\"><td style=\"background-color:whitesmoke; font-size:66%; width:25px; height:25px; text-align:center; padding:0px\"><td style=\"background-color:whitesmoke; font-size:66%; width:25px; height:25px; text-align:center; padding:0px\"><td style=\"background-color:lightblue; font-size:66%; width:25px; height:25px; text-align:center; padding:0px\"><b>DL</b><sup style=\"font-size: 60%\"></sup><td style=\"background-color:whitesmoke; font-size:66%; width:25px; height:25px; text-align:center; padding:0px\"><td style=\"background-color:whitesmoke; font-size:66%; width:25px; height:25px; text-align:center; padding:0px\"><td style=\"background-color:lightblue; font-size:66%; width:25px; height:25px; text-align:center; padding:0px\"><b>DL</b><sup style=\"font-size: 60%\"></sup><td style=\"background-color:whitesmoke; font-size:66%; width:25px; height:25px; text-align:center; padding:0px\"><tr><td style=\"background-color:orange; font-size:66%; width:25px; height:25px; text-align:center; padding:0px\"><b>TW</b><sup style=\"font-size: 60%\"></sup><td style=\"background-color:whitesmoke; font-size:66%; width:25px; height:25px; text-align:center; padding:0px\"><td style=\"background-color:whitesmoke; font-size:66%; width:25px; height:25px; text-align:center; padding:0px\"><td style=\"background-color:lightgreen; font-size:66%; width:25px; height:25px; text-align:center; padding:0px\"><b>TL</b><sup style=\"font-size: 60%\"></sup><td style=\"background-color:whitesmoke; font-size:66%; width:25px; height:25px; text-align:center; padding:0px\"><td style=\"ba