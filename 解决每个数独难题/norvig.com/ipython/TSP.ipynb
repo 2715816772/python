{
 "cells": [
  {
   "cell_type": "markdown",
   "metadata": {},
   "source": [
    "# The Traveling Salesperson Problem"
   ]
  },
  {
   "cell_type": "markdown",
   "metadata": {},
   "source": [
    "Consider the [*Traveling Salesperson Problem*](http://en.wikipedia.org/wiki/Traveling_salesman_problem): \n",
    "\n",
    "> *Given a set of cities and the distances between each pair of cities, what is the shortest possible tour that visits each city exactly once, and returns to the starting city?*\n",
    "\n",
    "In this notebook we will develop some solutions to the problem, and more generally show *how to think about* solving a problem like this. [Elsewhere](https://research.googleblog.com/2016/09/the-280-year-old-algorithm-inside.html) you can read about how the algorithms developed here are used in serious applications that millions of people rely on every day.\n",
    "\n",
    "<a href=\"http://www.math.uwaterloo.ca/tsp/history/pictorial/dfj.html\"><img src=\"http://www.math.uwaterloo.ca/tsp/history/img/dantzig.gif\"></a>\n",
    "<center>An example tour.</center>\n",
    "                                     \n",
    "# Understanding What We're Talking About (Vocabulary)\n",
    "\n",
    "Do we understand precisely what the problem is asking? Do we understand all the concepts that the problem talks about?  Do we understand them well enough to implement them in a programming language? Let's take a first pass:\n",
    "\n",
    "- **A set of cities**: We will need to represent a set of cities; Python's `set` datatype might be appropriate.\n",
    "- **Distance between each pair of cities**: If `A` and `B` are cities, this could be a function, `distance(A, B),` or a table lookup, `distance[A][B]`.  The resulting distance will be a real number.\n",
    "- **City**: All we have to know about an individual city is how far it is from other cities. We don't have to know its name, population, best restaurants, or anything else. So a city could be just an integer (0, 1, 2, ...) used as an index into a distance table, or a city could be a pair of (x, y) coordinates, if we are using straight-line distance on a plane.\n",
    "- **Tour**: A tour is a specified order in which to visit the cities; Python's `list` or `tuple` datatypes would work. For example, given the set of cities `{A, B, C, D}`, a tour might be the list `[B, D, A, C]`, which means to travel from `B` to `D` to `A` to `C` and finally back to `B`.\n",
    "- **Shortest possible tour**: The shortest tour is the one whose tour length is the minimum of all tours.\n",
    "- **Tour length**: The sum of the distances between adjacent cities in the tour (including the last city back to the first city).   Probably  a function, `tour_length(tour)`.\n",
    "- **What is ...**: We can define a function to answer the question *what is the shortest possible tour?*  The function takes a set of cities as input and returns a tour as output. I will use the convention that any such function will have a name ending in the letters \"`tsp`\", the traditional abbreviation for Traveling Salesperson Problem.\n",
    "\n",
    "At this stage I have a rough sketch of how to attack the problem.  I don't have all the answers, and I haven't committed to specific representations for all the concepts, but I know what all the pieces are, and I don't see anything that stops me from proceeding."
   ]
  },
  {
   "cell_type": "markdown",
   "metadata": {},
   "source": [
    "Here are the imports used throughout this notebook. I'm assuming Python 3."
   ]
  },
  {
   "cell_type": "code",
   "execution_count": 1,
   "metadata": {
    "collapsed": false
   },
   "outputs": [],
   "source": [
    "%matplotlib inline\n",
    "import matplotlib.pyplot as plt\n",
    "import random\n",
    "import time\n",
    "import itertools\n",
    "import urllib\n",
    "import csv\n",
    "import functools\n",
    "from statistics import mean, stdev"
   ]
  },
  {
   "cell_type": "markdown",
   "metadata": {},
   "source": [
    "# All Tours Algorithm: `alltours_tsp`"
   ]
  },
  {
   "cell_type": "markdown",
   "metadata": {},
   "source": [
    "Let's start with an algorithm that is guaranteed to solve the problem, although it is inefficient for large sets of cities:\n",
    "\n",
    "> **All Tours Algorithm**: *Generate all possible tours of the cities, and choose the shortest tour (the one with minimum tour length).*\n",
    "\n",
    "My design philosophy is to first write an English description of the algorithm, then write Python code that closely mirrors the English description. This will probably require some auxilliary functions and data structures; just assume they exist; put them on a TO DO list, and eventually define them with the same design philosophy.\n",
    "\n",
    "Here is the start of the implementation:"
   ]
  },
  {
   "cell_type": "code",
   "execution_count": 2,
   "metadata": {
    "collapsed": false
   },
   "outputs": [],
   "source": [
    "def alltours_tsp(cities):\n",
    "    \"Generate all possible tours of the cities and choose the shortest tour.\"\n",
    "    return shortest_tour(alltours(cities))\n",
    "\n",
    "def shortest_tour(tours): \n",
    "    \"Choose the tour with the minimum tour length.\"\n",
    "    return min(tours, key=tour_length)\n",
    "\n",
    "# TO DO: Data types: cities, tours, Functions: alltours, tour_length"
   ]
  },
  {
   "cell_type": "markdown",
   "metadata": {},
   "source": [
    "**Note**: In Python `min(`*collection*`,key=`*function*`)` means to find the element *x* that is a member of *collection* such that *function(x)* is minimized. So `shortest` finds the tour whose `tour_length` in the minimal among the tours. \n",
    "\n",
    "This gives us a good start; the Python code closely matches the English description.  And we know what we need to do next: represent cities and tours, and implement the functions `alltours` and `tour_length`. Let's start with tours.\n",
    "\n",
    "\n",
    "Representing Tours\n",
    "------------------\n",
    "\n",
    "A tour starts in one city, and then visits each of the other cities in order, before returning to the start city.  A natural representation of a tour is a sequence of cities. For example `(1, 2, 3)` could represent a tour that starts in city 1, moves to 2, then 3, and finally returns to 1.  \n",
    "\n",
    "**Note**: I considered using `(1, 2, 3, 1)` as the representation of this tour. I also considered an ordered list of **edges** between cities: \n",
    "`((1, 2), (2, 3), (3, 1))`. In the end, I decided `(1, 2, 3)` was simplest.\n",
    "    \n",
    "\n",
    "Now for the `alltours` function.  If a tour is a sequence of cities, then all the tours are *permutations* of the set of all cities. A function to generate all permutations of a set is already provided in Python's standard `itertools` library module; we can use it as our implementation of `alltours`:"
   ]
  },
  {
   "cell_type": "code",
   "execution_count": 3,
   "metadata": {
    "collapsed": false
   },
   "outputs": [],
   "source": [
    "alltours = itertools.permutations "
   ]
  },
  {
   "cell_type": "markdown",
   "metadata": {},
   "source": [
    "For *n* cities there are *n*! (that is, the factorial of *n*) permutations.\n",
    "Here's are all 3! = 6 tours of 3 cities:"
   ]
  },
  {
   "cell_type": "code",
   "execution_count": 4,
   "metadata": {
    "collapsed": false
   },
   "outputs": [
    {
     "data": {
      "text/plain": [
       "[(1, 2, 3), (1, 3, 2), (2, 1, 3), (2, 3, 1), (3, 1, 2), (3, 2, 1)]"
      ]
     },
     "execution_count": 4,
     "metadata": {},
     "output_type": "execute_result"
    }
   ],
   "source": [
    "cities = {1, 2, 3}\n",
    "\n",
    "list(alltours(cities))"
   ]
  },
  {
   "cell_type": "markdown",
   "metadata": {},
   "source": [
    "The length of a tour is the sum of the lengths of each edge in the tour; in other words, the sum of the distances between consecutive cities in the tour, including the distance form the last city back to the first:"
   ]
  },
  {
   "cell_type": "code",
   "execution_count": 5,
   "metadata": {
    "collapsed": false
   },
   "outputs": [],
   "source": [
    "def tour_length(tour):\n",
    "    \"The total of distances between each pair of consecutive cities in the tour.\"\n",
    "    return sum(distance(tour[i], tour[i-1]) \n",
    "               for i in range(len(tour)))\n",
    "\n",
    "# TO DO: Functions: distance, Data types: cities"
   ]
  },
  {
   "cell_type": "markdown",
   "metadata": {},
   "source": [
    "**Note**: I use one Python-specific trick: when `i` is 0, then `distance(tour[0], tour[-1])` gives us the wrap-around distance between the first and last cities, because `tour[-1]` is the last element of `tour`. \n",
    "\n",
    "Representing Cities\n",
    "--------------------------------\n",
    "\n",
    "We determined that the only thing that matters about cities is the distance between them. But before we can decide about how to represent cities, and before we can define `distance(A, B)`,  we have to make a choice. In the fully general version of the TSP, the \"distance\" between two cities could be anything: it could factor in the amount of time it takes to travel between cities, the twistiness of the road, or anything else. The `distance(A, B)` might be different from `distance(B, A)`. So the distances could be represented by a matrix `distance[A][B]`, where any entry in the matrix could be any (non-negative) numeric value.\n",
    "    \n",
    "But we will ignore the fully general TSP and concentrate on an important special case, the **Euclidean TSP**, where the distance between any two cities is the [Euclidean distance](http://en.wikipedia.org/wiki/Euclidean_distance), the straight-line distance between points in a two-dimensional plane. So a city can be represented by a two-dimensional point: a pair of *x* and *y* coordinates. We will use the constructor function `City`, so that `City(300, 0)` creates a city with x-coordinate of 300 and y coordinate of 0.  Then `distance(A, B)` will be a function that uses the *x* and *y* coordinates to compute the distance between `A` and `B`.\n",
    "\n",
    "Representing Points and Computing `distance`\n",
    "---\n",
    "        \n",
    "OK, so a city can be represented as just a two-dimensional point. But how will we represent points?  Here are some choices, with their pros and cons:\n",
    "\n",
    "* **tuple:** A point is a two-tuple of (*x*, *y*) coordinates, for example, `(300, 0)`. **Pro:** Very simple. \n",
    "**Con:** doesn't distinguish Points from other two-tuples.  \n",
    "            \n",
    "* **class:** Define a custom `Point` class with *x* and *y* slots. **Pro:** explicit, gives us `p.x` and `p.y` accessors.  **Con:** less efficient.\n",
    "            \n",
    "* **complex:** Python already has the two-dimensional point as a built-in numeric data type, but in a non-obvious way: as `complex` numbers, which inhabit the two-dimensional (real &times; imaginary) plane.  **Pro:** efficient. **Con:** a little confusing; doesn't distinguish Points from other complex numbers.\n",
    "* **subclass of complex:** All the pros of `complex`, and eliminating the major con.\n",
    "\n",
    "\n",
    "Any of these choices would work perfectly well; I decided to use a subclass of `complex`:"
   ]
  },
  {
   "cell_type": "code",
   "execution_count": 6,
   "metadata": {
    "collapsed": false
   },
   "outputs": [],
   "source": [
    "# Cities are represented as Points, which are a subclass of complex numbers\n",
    "\n",
    "class Point(complex):\n",
    "    x = property(lambda p: p.real)\n",
    "    y = property(lambda p: p.imag)\n",
    "    \n",
    "City = Point\n",
    "\n",
    "def distance(A, B): \n",
    "    \"The distance between two points.\"\n",
    "    return abs(A - B)"
   ]
  },
  {
   "cell_type": "markdown",
   "metadata": {},
   "source": [
    "Here's an example of computing the distance between two cities:"
   ]
  },
  {
   "cell_type": "code",
   "execution_count": 7,
   "metadata": {
    "collapsed": false
   },
   "outputs": [
    {
     "data": {
      "text/plain": [
       "5.0"
      ]
     },
     "execution_count": 7,
     "metadata": {},
     "output_type": "execute_result"
    }
   ],
   "source": [
    "A = City(3, 0)\n",
    "B = City(0, 4)\n",
    "distance(A, B)"
   ]
  },
  {
   "cell_type": "markdown",
   "metadata": {},
   "source": [
    "Random Sets of Cities\n",
    "---\n",
    "\n",
    "The input to a TSP algorithm should be a set of cities. I can make a random set of *n* cities by calling `City` *n* times, each with different random *x* and *y* coordinates:"
   ]
  },
  {
   "cell_type": "code",
   "execution_count": 8,
   "metadata": {
    "collapsed": false
   },
   "outputs": [
    {
     "data": {
      "text/plain": [
       "{(193+375j), (427+384j), (497+585j), (179+546j), (224+543j), (245+643j)}"
      ]
     },
     "execution_count": 8,
     "metadata": {},
     "output_type": "execute_result"
    }
   ],
   "source": [
    "{City(random.randrange(1000), random.randrange(1000)) for c in range(6)}"
   ]
  },
  {
   "cell_type": "markdown",
   "metadata": {},
   "source": [
    "The function `Cities` does that (and a bit more):"
   ]
  },
  {
   "cell_type": "code",
   "execution_count": 9,
   "metadata": {
    "collapsed": false
   },
   "outputs": [],
   "source": [
    "def Cities(n, width=900, height=600, seed=42):\n",
    "    \"Make a set of n cities, each with random coordinates within a (width x height) rectangle.\"\n",
    "    random.seed(seed * n)\n",
    "    return frozenset(City(random.randrange(width), random.randrange(height))\n",
    "                     for c in range(n))"
   ]
  },
  {
   "cell_type": "markdown",
   "metadata": {},
   "source": [
    "There are three complications that I decided to tackle in `Cities`:\n",
    "\n",
    "1. IPython's matplotlib plots (by default) in a rectangle that is 1.5 times wider than it is high; that's why I specified a width of 900 and a height of 600. If you want the coordinates of your cities to be bounded by a different size rectangle, you can change width or height.\n",
    "\n",
    "2. Sometimes I want `Cities(n)` to be a true function, returning the same result each time. This is very helpful for getting repeatable results: if I run a test twice, I get the same results twice. \n",
    "But other times I would like to be able to do an experiment, where, for example, I call `Cities(n)` 30 times and get 30 different sets, and I then compute the average tour length produced by my algorithm across these 30 sets. Can I get both behaviors out of one function? *Yes!*  The trick is the additional optional parameter, `seed`.  Two calls to `Cities` with the same `n` and `seed` parameters will always return the same set of cities, and two calls with different values for `seed` will return different sets. This is implemented by calling the function `random.seed`, which resets the random number generator.\n",
    "\n",
    "3. Once I create a set of Cities, I don't want anyone messing with my set. For example, I don't want an algorithm that claims to \"solve\" a problem by deleting half the cities from the input set, then finding a tour of the remaining cities.  Therefore, I make `Cities` return a `frozenset` rather than a `set`.  A `frozenset` is *immutable*; nobody can change it once it is created. (Likewise, each city is immutable.)\n",
    "\n",
    "For example:"
   ]
  },
  {
   "cell_type": "code",
   "execution_count": 10,
   "metadata": {
    "collapsed": false
   },
   "outputs": [
    {
     "data": {
      "text/plain": [
       "frozenset({(172+20j), (234+40j), (696+415j), (393+7j), (671+296j)})"
      ]
     },
     "execution_count": 10,
     "metadata": {},
     "output_type": "execute_result"
    }
   ],
   "source": [
    "# A set of 5 cities\n",
    "Cities(5)"
   ]
  },
  {
   "cell_type": "code",
   "execution_count": 11,
   "metadata": {
    "collapsed": false
   },
   "outputs": [
    {
     "data": {
      "text/plain": [
       "[frozenset({(172+20j), (234+40j), (696+415j), (393+7j), (671+296j)}),\n",
       " frozenset({(172+20j), (234+40j), (696+415j), (393+7j), (671+296j)}),\n",
       " frozenset({(172+20j), (234+40j), (696+415j), (393+7j), (671+296j)})]"
      ]
     },
     "execution_count": 11,
     "metadata": {},
     "output_type": "execute_result"
    }
   ],
   "source": [
    "# The exact same set of 5 cities each time\n",
    "[Cities(5) for i in range(3)]"
   ]
  },
  {
   "cell_type": "code",
   "execution_count": 12,
   "metadata": {
    "collapsed": false
   },
   "outputs": [
    {
     "data": {
      "text/plain": [
       "[frozenset({(414+310j), (776+430j), (41+265j), (864+394j), (523+497j)}),\n",
       " frozenset({(814+542j), (29+476j), (637+261j), (759+367j), (794+255j)}),\n",
       " frozenset({(439+494j), (211+473j), (585+33j), (832+503j), (591+15j)})]"
      ]
     },
     "execution_count": 12,
     "metadata": {},
     "output_type": "execute_result"
    }
   ],
   "source": [
    "# A different set of 5 cities each time\n",
    "[Cities(5, seed=i) for i in range(3)]"
   ]
  },
  {
   "cell_type": "markdown",
   "metadata": {},
   "source": [
    "Now we are ready to apply the `alltours_tsp` function to find the shortest tour:"
   ]
  },
  {
   "cell_type": "code",
   "execution_count": 13,
   "metadata": {
    "collapsed": false
   },
   "outputs": [
    {
     "data": {
      "text/plain": [
       "((6+546j),\n",
       " (199+147j),\n",
       " (350+65j),\n",
       " (737+26j),\n",
       " (847+187j),\n",
       " (891+465j),\n",
       " (554+374j),\n",
       " (505+548j))"
      ]
     },
     "execution_count": 13,
     "metadata": {},
     "output_type": "execute_result"
    }
   ],
   "source": [
    "alltours_tsp(Cities(8))"
   ]
  },
  {
   "cell_type": "code",
   "execution_count": 14,
   "metadata": {
    "collapsed": false
   },
   "outputs": [
    {
     "data": {
      "text/plain": [
       "2509.307587720301"
      ]
     },
     "execution_count": 14,
     "metadata": {},
     "output_type": "execute_result"
    }
   ],
   "source": [
    "tour_length(alltours_tsp(Cities(8)))"
   ]
  },
  {
   "cell_type": "markdown",
   "metadata": {},
   "source": [
    "Quick, is that the right answer?  I have no idea, and you probably can't tell either. But if we could *plot* the tour we'd understand it better and might be able to see at a glance if the tour is optimal.\n",
    "\n",
    "Plotting Tours\n",
    "---\n",
    "\n",
    "I define `plot_tour(tour)` to plot the cities (as circles) and the tour (as lines):"
   ]
  },
  {
   "cell_type": "code",
   "execution_count": 15,
   "metadata": {
    "collapsed": false
   },
   "outputs": [],
   "source": [
    "def plot_tour(tour): \n",
    "    \"Plot the cities as circles and the tour as lines between them.\"\n",
    "    plot_lines(list(tour) + [tour[0]])\n",
    "    \n",
    "def plot_lines(points, style='bo-'):\n",
    "    \"Plot lines to connect a series of points.\"\n",
    "    plt.plot([p.x for p in points], [p.y for p in points], style)\n",
    "    plt.axis('scaled'); plt.axis('off')"
   ]
  },
  {
   "cell_type": "code",
   "execution_count": 16,
   "metadata": {
    "collapsed": false
   },
   "outputs": [
    {
     "data": {
      "image/png": "iVBORw0KGgoAAAANSUhEUgAAAX0AAAEACAYAAABfxaZOAAAABHNCSVQICAgIfAhkiAAAAAlwSFlz\nAAALEgAACxIB0t1+/AAAGtFJREFUeJzt3Xm0nfO9x/H3FzFFj0QNyakhBEk0hjaoGIsordsbpW6p\nVqnSWG2Vqik5bteqhBp6W+USZSlKlVvjLdWYFTWPx9yQq5yEGA/HzPf+8Xt298l4pv3s77P383mt\ndVZWstq9P5Hk8/zOb/8Gc3dERKQclogOICIi9aPSFxEpEZW+iEiJqPRFREpEpS8iUiIqfRGRElHp\ni4iUiEpfRKREVPoiIiWi0hcRKRGVvohIiaj0RURKRKUvIlIiKn0RkRJR6YuIlIhKX0SkRFT6IiIl\notIXESkRlb6ISImo9EVESkSlLyJSIip9EZESUemLiJSISl9EpERU+iIiJaLSFxEpEZW+iEiJLBUd\nQKSZmbWMgLFTYXgrzO6A9jb3zlnRuaS8QkvfrGVrGHsBDBsCc96A9n3dO2+PzCRSK6nwJ94A00fC\nYKALmLSFWcsEFb9EMXePeWNr2Rom3gTTB3X7B/EhXLVDoxS/GQahX0sEv79yLfZr0q7wyzHp73dF\nF7DTRe53fguRAIEj/bEXVAsf0o/TB0HnjWbMJL4geiqL7jzHr09yfv1GzhOVZVHvO9+vLzFo3sKH\n9PNhrYgECSz9YUMW/g9i0HvAnjRAmbjjtfvvIc3G7KGNoWvdBUf6czqiMokElv6cN6Br6IL/IDpe\ndeexqFQitdPeBpO2mG9Of2b6dZEYmtMXyVF19c4GG0PLUDhna32IK5HCSh/otnqn9dPw8WB4Ymf3\nJ28MCySSEzOGAv8HrOrOe9F5pLxCl2xmI/p1AMz4E7AhoNKXpuPO62Y8CmwDXB+dR8qrSDtypwFH\nmLFsdBCRnFwH7BIdQsqtMKXvzoPAg8B+wVFE8qLSl3Chc/rzM2M8cDGwnjsfRucRqSUzlgBeAsa5\n83x0Himnwoz0Adz5OzAT2Cc6i0itufMJMAPYOTqLlFehSj8zFTjGjCWjg4jkQFM8EqqIpX8L8Arw\n9eAcInmYAexoxqDoIFJOhSv97GiDqUBbNgcq0jTceYk0hTk+OouUU1FL9TrgA+Cr0UFEcvAXNMUj\nQQpZ+tlofxpptD//iZYijU7z+hKmkKWfuRJYHvhSdBCRGrsLWNuMYdFBpHwKW/rZ8rZpwJToLCK1\n5M5HpONGNKCRuits6WcuBYabsW10EJEa0xSPhCjUjtyFMeO7wF7uGhVJ8zBjDdKxI6u583F0HimP\noo/0AS4ERpnxheggIrXizj+BOcC46CxSLoUvfXc+AE5Cc/vSfDTFI3VX+NLPnAtsasbG0UFEakil\nL3VX+Dn9CjMOBzZ35xvRWURqIbs74mVghDuvReeRcmiUkT7AWcD2ZoyODiJSC9m1ibcBO0VnkfJo\nmNJ3523gVOCY6CwiNaQjGaSuGmZ6B8CMIcA/SNM8z0bnERkoM0YCtwOt2fEjIrlqmJE+gDtvANOB\no6KziNSCOzOBt4GNorNIOTRU6Wd+DexpxurRQURqRKt4pG4arvTdeYW0hPOn0VlEakSlLwtl1jLC\nbMsLzfa4Kf3YMmLAr9lIc/oVZgwHHgPGZJdSiDQsMwaTdue2uvNWdB4phlTwE2+A6SNhMNAFTJoJ\nV01w75zV39dtuJE+gDuzgT8Ah