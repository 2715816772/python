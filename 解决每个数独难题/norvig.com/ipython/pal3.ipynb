{
 "cells": [
  {
   "cell_type": "markdown",
   "metadata": {},
   "source": [
    "# Palindromic Panama Sentences\n",
    "\n",
    "I [previously](http://norvig.com/palindrome.html) wrote a program to find long palindromic sentences. Starting with the sentence:\n",
    "\n",
    "    A man, a plan, a canal, Panama\n",
    "    \n",
    "the program added words to the middle, one comma-separated phrase at a time, backtracking when a choice didn't work out. The program is able to find palindromes of over 15,000 words that look like:\n",
    "\n",
    "    A man, a plan, a caddy, Ore, Lee, ..., Steele, Roydd, a canal, Panama.\n",
    "\n",
    "In this notebook I revisit the problem, but this time progressing one *letter* at a time rather than one phrase. That should allow me, at each choice point, to pick the letter that is most likely to lead to a complete phrase,\n",
    "perhaps leading to longer palindromes.\n",
    "\n",
    "# Phrase Dictionary\n",
    "\n",
    "First, I will build a dictionary of phrases. I start with a file, [npdict.txt](npdict.txt), which lists noun phrases &mdash;proper nouns like `'Panama'`, plural nouns like `'dogs'`, and two-word noun phrases like `'a plan'`. Capitalization, whitespace and punctuation don't count in palindromes, just letters, so I use the function `letters` to extract just the letters of each phrase and create a dict of entries like  `{'donaldeknuth': 'Donald E. Knuth'}`. In addition, to decide what letter to choose next, I will want to know if a given sequence of letters forms a *prefix* or *suffix* of other words. For example, if I have formed the partial phrase `'am'`, then adding `'a'` gives us `'ama'`, which is a prefix of over 1000 phrases in the dictionary, but adding `'d'` gives us `'amd'`, which is not a prefix of any phrase, and thus can be rejected.\n",
    "\n"
   ]
  },
  {
   "cell_type": "code",
   "execution_count": 1,
   "metadata": {
    "collapsed": true
   },
   "outputs": [],
   "source": [
    "! [ -e npdict.txt ] || curl -O http://norvig.com/npdict.txt"
   ]
  },
  {
   "cell_type": "code",
   "execution_count": 1,
   "metadata": {
    "collapsed": false
   },
   "outputs": [
    {
     "name": "stdout",
     "output_type": "stream",
     "text": [
      "CPU times: user 1.88 s, sys: 92.8 ms, total: 1.97 s\n",
      "Wall time: 2.04 s\n"
     ]
    },
    {
     "data": {
      "text/plain": [
       "'ok'"
      ]
     },
     "execution_count": 1,
     "metadata": {},
     "output_type": "execute_result"
    }
   ],
   "source": [
    "from collections import Counter, deque\n",
    "import re\n",
    "\n",
    "class PhraseDict(dict):\n",
    "    \"\"\"A dictionary of {letters: phrase}, such as {'donaldeknuth': 'Donald E. Knuth'}, with:\n",
    "    .prefixes: Counter of {'pre': n} where n is the number of keys that start with 'pre'\n",
    "    .suffixes: Counter of {'xes': n} where n is the number of keys that end with 'xes'\"\"\"\n",
    "    def __init__(self, phrases):\n",
    "        for phrase in phrases:\n",
    "            phrase = phrase.strip()\n",
    "            self[letters(phrase)] = phrase\n",
    "        self.prefixes = Counter(x for p in self for x in prefixes(p))\n",
    "        self.suffixes = Counter(x for p in self for x in suffixes(p))\n",
    "        \n",
    "def prefixes(phrase): return [phrase[:i] for i in range(1, len(phrase) + 1)]\n",
    "\n",
    "def suffixes(phrase): return [phrase[-i:] for i in range(1, len(phrase) + 1)]\n",
    "\n",
    "def letters(phrase, sub=re.compile(r'[\\W]+').sub):\n",
    "    \"Remove all the non-letters from phrase; return lowercase version.\"\n",
    "    return sub('', phrase).lower()\n",
    "\n",
    "def test1():\n",
    "    assert prefixes('hello') == ['h', 'he', 'hel', 'hell', 'hello']\n",
    "    assert suffixes('hello') == ['o', 'lo', 'llo', 'ello', 'hello']\n",
    "    assert letters('a man') == 'aman'\n",
    "    assert letters('an elk') == 'anelk'\n",
    "    assert letters('Mr. T') == 'mrt'\n",
    "    assert letters('Donald E. Knuth') == 'donaldeknuth'\n",
    "    assert len(DICT) == 125512\n",
    "    assert 'panama' in DICT\n",
    "    assert 'aman' in DICT\n",
    "    assert 'threemen' not in DICT\n",
    "    assert DICT['acanal'] == 'a canal'\n",
    "    return 'ok'\n",
    "\n",
    "%time DICT = PhraseDict(open('npdict.txt'))\n",
    "test1()"
   ]
  },
  {
   "cell_type": "markdown",
   "metadata": {},
   "source": [
    "# Search for Panama Palindromes\n",
    "\n",
    "Now the `Panama` class will search for a palindrome.  I'll show the code first, then explain it."
   ]
  },
  {
   "cell_type": "code",
   "execution_count": 2,
   "metadata": {
    "collapsed": false
   },
   "outputs": [
    {
     "data": {
      "text/plain": [
       "'ok'"
      ]
     },
     "execution_count": 2,
     "metadata": {},
     "output_type": "execute_result"
    }
   ],
   "source": [
    "import time\n",
    "\n",
    "class Panama:\n",
    "    \"\"\"Panama represents a palindrome, or a state in searching for one.\n",
    "    It has .left and .right to hold the phrases that are chosen,\n",
    "    and .L and .R to hold the current partial phrases in the middle (still working on these).\n",
    "    Also, a .set of all complete phrases, and the .dict of allowable phrases to choose from.\"\"\"\n",
    "    \n",
    "    def __init__(self, left=['aman', 'aplan'], L='aca', R='', right=['acanal', 'panama'], dict=DICT):\n",
    "        assert cat(left + [L]) == cat([R] + right)[::-1]\n",
    "        self.left   = list(left)        # list of complete phrases on left\n",
    "        self.L      = L                 # an incomplete phrase on left\n",
    "        self.R      = R                 # an incomplete phrase on right\n",
    "        self.right  = deque(right)      # deque of complete phrases on right\n",
    "        self.dict   = dict              # a {letters: actual_phrase} mapping\n",
    "        self.set    = set(left + right) # a set of all complete phrases in palindrome\n",
    "        self.best   = []                # list of phrases in longest palindrome found\n",
    "        self.Nshown = 0                 # the number of phrases shown in the previous printout\n",
    "        self.i      = 0                 # the number of steps taken in the search\n",
    "        self.check()\n",
    "\n",
    "    def __str__(self): return self.original_phrases(self.best)\n",
    "    \n",
    "    def original_phrases(self, phrases): return ', '.join(self.dict[phrase] for phrase in phrases)\n",
    "\n",
    "    def search(self, steps=10**5):\n",
    "        \"\"\"Depth-first search for palindromes. From the current state, find all applicable actions.\n",
    "        Do the first one, and put on the stack reminders to undo it and try the others,\n",
    "        but first search deeper from the result of the first action.\"\"\"\n",
    "        self.t0 = time.time()\n",
    "        stack = [self.applicable_actions()]\n",
    "        for self.i in range(steps):\n",
    "            if not stack: \n",
    "                return\n",
    "            command = stack.pop()\n",
    "            if isinstance(command, UndoCommand):\n",
    "                self.undo(command)\n",
    "            elif command:\n",
    "                act = command.pop()\n",
    "                self.do(act)\n",
    "                self.check()\n",
    "                stack.extend([command, UndoCommand(act), self.applicable_actions()])\n",
    "                \n",
    "    def do(self, act):\n",
    "        \"Modify the current state by adding a letter, or finishing a phrase.\"\n",
    "        if act == ',': # finish phrase on left\n",
    "            self.set.add(self.L)\n",
    "            self.left.append(self.L)\n",
    "            self.L = ''\n",
    "        elif act == ';': # finish phrase on right\n",
    "            self.set.add(self.R)\n",
    "            self.right.appendleft(self.R)\n",
    "            self.R = ''\n",
    "        else: # add a letter\n",
    "            self.L = self.L + act \n",
    "            self.R = act + self.R\n",
    "    \n",
    "    def undo(self, act):\n",
    "        \"Modify the current state by undoing an action that was previously done.\"\n",
    "        if act == ',': # unfinish phrase on left\n",
    "            assert self.L == ''\n",
    "            self.L = self.left.pop()\n",
    "            self.set.remove(self.L)\n",
    "        elif act == ';': # unfinish phrase on right\n",
    "            assert self.R == ''\n",
    "            self.R = self.right.popleft()\n",
    "            self.set.remove(self.R)\n",
    "        else: # remove a letter\n",
    "            self.L = self.L[:-1]\n",
    "            self.R = self.R[1:]\n",
    "            \n",
    "    def check(self):\n",
    "        \"Check to see if current state is a palindrome, and if so, record it and maybe print.\"\n",
    "        if not self.is_palindrome(): return\n",
    "        N = len(self.left) + len(self.right) \n",
    "        if N > len(self.best):\n",
    "            self.best = self.left + list(self.right)\n",
    "            if N - self.Nshown > 1000 or N > 16000:\n",
    "                self.Nshown = N\n",
    "                print(self.report())\n",
    "            \n",
    "    def report(self):\n",
    "        N = len(self.best)\n",
    "        nwords = N + sum(self.dict[p].count(' ') for p in self.best)\n",
    "        nletters = sum(len(p) for p in self.best)\n",
    "        return ('Pal: {:6,d} phrases, {:6,d} words, {:6,d} letters ({:,d} steps, {} seconds)'\n",
    "                .format(N, nwords, nletters, self.i+1, round(time.time() - self.t0)))\n",
    "        \n",
    "    def applicable_actions(self):\n",
    "        L, R, D = self.L, self.R, self.dict\n",
    "        actions = []\n",
    "        def score(A): return D.prefixes[L+A] * D.suffixes[A+R]\n",
    "        if self.is_allowed(L):\n",
    "            actions.append(',')\n",
    "        if self.is_allowed(R):\n",
    "            actions.append(';')\n",
    "        for A in sorted(alphabet, key=score):\n",
    "            if score(A) > 0:\n",
    "                actions.append(A)    \n",
    "        return actions\n",
    " \n",
    "    def is_allowed(self, phrase): return phrase in self.dict and phrase not in self.set\n",
    "        \n",
    "    def is_palindrome(self): \n",
    "        \"Is this a palindrome? (Does any extra .L or .R match the other side?)\"\n",
    "        return ((self.L == '' and self.left[-1].endswith(self.R)) or \n",
    "                (self.R == '' and self.right[0].startswith(self.L)))\n",
    "\n",
    "alphabet    = 'abcdefghijklmnopqrstuvwxyz'\n",
    "cat         = ''.join\n",
    "UndoCommand = str\n",
    "DoCommand   = list\n",
    "                      \n",
    "def test2():\n",
    "    p1 = Panama()\n",
    "    assert p1.is_palindrome()\n",
    "    assert str(p1) == 'a man, a plan, a canal, Panama'\n",
    "    p2 = Panama(['aman','aplan'], 'acadd','dd', ['acanal', 'panama'])\n",
    "    assert not p2.is_palindrome()\n",
    "    p3 = Panama(['maya'], '', '', ['ayam'])\n",
    "    assert p3.is_palindrome()\n",
    "    assert str(p3) == 'Maya, a yam'\n",
    "    return 'ok'\n",
    "\n",
    "test2()"
   ]
  },
  {
   "cell_type": "markdown",
   "metadata": {},
   "source": [
    "The main point of the `Panama` class is to allow the `.search()` method to search for a long palindrome. The [overall strategy](http://norvig.com/pal-alg.html#v3) is explained elsewhere. The search\n",
    "adds a lett1er at a time to both left and right side, backtracking when necessary. The state of the search is represented by the four fields `.left, .L, .R, .right`, for example:\n",
    " \n",
    "    A man, a plan, a cam, a yak, a yam, a canal, Panama\n",
    "    \n",
    "gets encoded into the four fields like this:\n",
    "    \n",
    "    .left: ['aman', 'aplan', 'acam', 'ayak']\n",
    "    .L:                                 ''\n",
    "    .R:                                 'k'\n",
    "    .right:                                 ['ayam', 'acanal', 'panama']\n",
    "    \n",
    "We always maintain the invariant:\n",
    "\n",
    "    cat(left + [L]) == cat([R] + right)[::-1]\n",
    "    \n",
    "The `search` method would be more straightforward if we could write it is a recursive function. But Python does not perform well when recursing to 100 million levels deep. So instead I manually manage a *stack* of *commands* that tell the search what to do and to undo. A command can be a `DoCommand`, which consists of a list of letters describing all the possible actions we could take at this point. Actions include letters that could be added (only the letters that make a legitimate prefix of a known phrase in `.L` and a legitimate suffix of a known phrase in `.R`). Actions can also include the character `','`, which is used to dignal that `.L` is a complete word and should be moved ontot he `.left` list, or `';'` to signal the same for `.R/.right`. A command can also be a `UndoCommand`, which consists of a single character; one that was previously chosen to be done. So the list of characters in a `DoCommand` constitutes a choice point; we first choose one, and continue deeper from there, but we put on the command stack an `UndoCommand` to reverse the effects of the action, and put back the remaining characters to try instead, if the first character doesn't work out. Note that we pop characters off the end of a `DoCommand`, so the last character is the first one tried.\n",
    "\n",
    "Let's see how it works:"
   ]
  },
  {
   "cell_type": "code",
   "execution_count": 3,
   "metadata": {
    "collapsed": false
   },
   "outputs": [
    {
     "name": "stdout",
     "output_type": "stream",
     "text": [
      "Pal:  1,001 phrases,  1,395 words,  6,246 letters (30,023 steps, 1 seconds)\n",
      "Pal:  2,003 phrases,  2,802 words, 12,375 letters (112,614 steps, 3 seconds)\n",
      "CPU times: user 5.61 s, sys: 17.4 ms, total: 5.63 s\n",
      "Wall time: 5.65 s\n"
     ]
    }
   ],
   "source": [
    "p = Panama()\n",
    "%time p.search(200000)"
   ]
  },
  {
   "cell_type": "code",
   "execution_count": 5,
   "metadata": {
    "collapsed": false
   },
   "outputs": [
    {
     "data": {
      "text/plain": [
       "'Pal:  2,791 phrases,  3,876 words, 17,101 letters (200,000 steps, 4 seconds)'"
      ]
     },
     "execution_count": 5,
     "metadata": {},
     "output_type": "execute_result"
    }
   ],
   "source": [
    "p.report()"
   ]
  },
  {
   "cell_type": "markdown",
   "metadata": {},
   "source": [
    "That seemed to go ok; let's try a longer search (100 million steps):"
   ]
  },
  {
   "cell_type": "code",
   "execution_count": 6,
   "metadata": {
    "collapsed": false
   },
   "outputs": [
    {
     "name": "stdout",
     "output_type": "stream",
     "text": [
      "Pal:  1,001 phrases,  1,395 words,  6,246 letters (30,023 steps, 1 seconds)\n",
      "Pal:  2,003 phrases,  2,802 words, 12,375 letters (112,614 steps, 2 seconds)\n",
      "Pal:  3,004 phrases,  4,162 words, 18,341 letters (227,472 steps, 5 seconds)\n",
      "Pal:  4,005 phrases,  5,507 words, 24,199 letters (386,226 steps, 8 seconds)\n",
      "Pal:  5,019 phrases,  6,890 words, 30,137 letters (619,790 steps, 12 seconds)\n",
      "Pal:  6,021 phrases,  8,235 words, 35,931 letters (877,024 steps, 17 seconds)\n",
      "Pal:  7,023 phrases,  9,568 words, 41,593 letters (1,183,926 steps, 23 seconds)\n",
      "Pal:  8,024 phrases, 10,878 words, 47,259 letters (1,561,761 steps, 30 seconds)\n",
      "Pal:  9,026 phrases, 12,183 words, 52,965 letters (1,947,540 steps, 38 seconds)\n",
      "Pal: 10,028 phrases, 13,467 words, 58,583 letters (2,480,848 steps, 48 seconds)\n",
      "Pal: 11,029 phrases, 14,730 words, 64,117 letters (3,206,870 steps, 61 seconds)\n",
      "Pal: 12,030 phrases, 16,018 words, 69,588 letters (4,044,269 steps, 77 seconds)\n",
      "Pal: 13,031 phrases, 17,293 words, 74,967 letters (5,272,674 steps, 99 seconds)\n",
      "Pal: 14,033 phrases, 18,519 words, 80,203 letters (7,091,166 steps, 133 seconds)\n",
      "Pal: 15,034 phrases, 19,753 words, 85,307 letters (10,753,057 steps, 201 seconds)\n",
      "Pal: 16,003 phrases, 20,886 words, 90,015 letters (27,084,693 steps, 506 seconds)\n",
      "Pal: 16,004 phrases, 20,886 words, 90,015 letters (27,149,605 steps, 508 seconds)\n",
      "Pal: 16,005 phrases, 20,890 words, 90,017 letters (27,316,698 steps, 511 seconds)\n",
      "Pal: 16,009 phrases, 20,896 words, 90,039 letters (27,350,925 steps, 511 seconds)\n",
      "Pal: 16,010 phrases, 20,896 words, 90,039 letters (27,412,633 steps, 513 seconds)\n",
      "Pal: 16,011 phrases, 20,897 words, 90,045 letters (27,427,058 steps, 513 seconds)\n",
      "Pal: 16,013 phrases, 20,898 words, 90,049 letters (27,567,249 steps, 516 seconds)\n",
      "Pal: 16,014 phrases, 20,898 words, 90,046 letters (27,592,882 steps, 516 seconds)\n",
      "Pal: 16,016 phrases, 20,900 words, 90,055 letters (27,595,464 steps, 516 seconds)\n",
      "Pal: 16,019 phrases, 20,903 words, 90,070 letters (27,616,478 steps, 517 seconds)\n",
      "Pal: 16,020 phrases, 20,904 words, 90,073 letters (27,670,352 steps, 518 seconds)\n",
      "Pal: 16,022 phrases, 20,908 words, 90,081 letters (27,690,556 steps, 518 seconds)\n",
      "Pal: 16,024 phrases, 20,908 words, 90,096 letters (27,750,047 steps, 519 seconds)\n",
      "Pal: 16,025 phrases, 20,911 words, 90,097 letters (27,902,094 steps, 522 seconds)\n",
      "Pal: 16,028 phrases, 20,916 words, 90,113 letters (27,913,484 steps, 523 seconds)\n",
      "Pal: 16,029 phrases, 20,916 words, 90,119 letters (28,000,410 steps, 524 seconds)\n",
      "Pal: 16,030 phrases, 20,916 words, 90,115 letters (28,199,063 steps, 528 seconds)\n",
      "Pal: 16,033 phrases, 20,920 words, 90,131 letters (28,207,363 steps, 528 seconds)\n",
      "Pal: 16,035 phrases, 20,924 words, 90,143 letters (28,222,377 steps, 529 seconds)\n",
      "Pal: 16,036 phrases, 20,924 words, 90,145 letters (28,245,911 steps, 529 seconds)\n",
      "Pal: 16,038 phrases, 20,928 words, 90,155 letters (28,319,574 steps, 530 seconds)\n",
      "Pal: 16,039 phrases, 20,927 words, 90,165 letters (28,357,649 steps, 531 seconds)\n",
      "Pal: 16,044 phrases, 20,933 words, 90,179 letters (28,398,480 steps, 532 seconds)\n",
      "Pal: 16,045 phrases, 20,936 words, 90,187 letters (28,669,877 steps, 537 seconds)\n",
      "Pal: 16,046 phrases, 20,936 words, 90,193 letters (28,756,803 steps, 538 seconds)\n",
      "Pal: 16,047 phrases, 20,937 words, 90,195 letters (28,951,247 steps, 542 seconds)\n",
      "Pal: 16,048 phrases, 20,937 words, 90,195 letters (29,168,799 steps, 546 seconds)\n",
      "Pal: 16,049 phrases, 20,939 words, 90,197 letters (29,304,707 steps, 548 seconds)\n",
      "Pal: 16,050 phrases, 20,940 words, 90,200 letters (29,402,659 steps, 550 seconds)\n",
      "Pal: 16,055 phrases, 20,946 words, 90,223 letters (29,483,409 steps, 552 seconds)\n",
      "Pal: 16,060 phrases, 20,951 words, 90,241 letters (29,703,353 steps, 556 seconds)\n",
      "Pal: 16,062 phrases, 20,951 words, 90,257 letters (29,935,767 steps, 560 seconds)\n",
      "Pal: 16,065 phrases, 20,957 words, 90,261 letters (30,401,372 steps, 568 seconds)\n",
      "Pal: 16,066 phrases, 20,957 words, 90,267 letters (30,488,256 steps, 570 seconds)\n",
      "Pal: 16,067 phrases, 20,961 words, 90,271 letters (30,742,860 steps, 575 seconds)\n",
      "Pal: 16,068 phrases, 20,961 words, 90,277 letters (30,829,744 steps, 576 seconds)\n",
      "Pal: 16,069 phrases, 20,965 words, 90,279 letters (31,091,412 steps, 581 seconds)\n",
      "Pal: 16,070 phrases, 20,965 words, 90,285 letters (31,178,296 steps, 583 seconds)\n",
      "Pal: 16,071 phrases, 20,969 words, 90,287 letters (31,452,702 steps, 588 seconds)\n",
      "Pal: 16,072 phrases, 20,969 words, 90,293 letters (31,539,586 steps, 589 seconds)\n",
      "Pal: 16,075 phrases, 20,973 words, 90,299 letters (31,899,517 steps, 597 seconds)\n",
      "Pal: 16,077 phrases, 20,975 words, 90,305 letters (32,079,651 steps, 600 seconds)\n",
      "Pal: 16,079 phrases, 20,978 words, 90,317 letters (32,418,194 steps, 606 seconds)\n",
      "Pal: 16,080 phrases, 20,977 words, 90,327 letters (32,456,269 steps, 607 seconds)\n",
      "Pal: 16,085 phrases, 20,983 words, 90,341 letters (32,497,076 steps, 608 seconds)\n",
      "Pal: 16,087 phrases, 20,985 words, 90,351 letters (32,651,838 steps, 611 seconds)\n",
      "Pal: 16,090 phrases, 20,986 words, 90,365 letters (32,782,954 steps, 613 seconds)\n",
      "Pal: 16,091 phrases, 20,988 words, 90,363 letters (33,528,985 steps, 627 seconds)\n",
      "Pal: 16,093 phrases, 20,992 words, 90,375 letters (33,696,891 steps, 630 seconds)\n",
      "Pal: 16,094 phrases, 20,992 words, 90,381 letters (33,783,775 steps, 631 seconds)\n",
      "Pal: 16,095 phrases, 20,992 words, 90,379 letters (34,151,848 steps, 638 seconds)\n",
      "Pal: 16,096 phrases, 20,995 words, 90,389 letters (34,283,539 steps, 640 seconds)\n",
      "Pal: 16,098 phrases, 20,996 words, 90,397 letters (34,342,030 steps, 642 seconds)\n",
      "Pal: 16,099 phrases, 20,998 words, 90,397 letters (34,699,703 steps, 648 seconds)\n",
      "Pal: 16,100 phrases, 21,001 words, 90,405 letters (36,050,560 steps, 673 seconds)\n",
      "Pal: 16,102 phrases, 21,002 words, 90,413 letters (36,109,051 steps, 674 seconds)\n",
      "Pal: 16,103 phrases, 21,004 words, 90,413 letters (36,466,496 steps, 680 seconds)\n",
      "Pal: 16,105 phrases, 21,005 words, 90,411 letters (37,036,344 steps, 691 seconds)\n",
      "Pal: 16,106 phrases, 21,004 words, 90,423 letters (76,003,720 steps, 1522 seconds)\n",
      "Pal: 16,107 phrases, 21,006 words, 90,423 letters (76,361,384 steps, 1530 seconds)\n",
      "Pal: 16,108 phrases, 21,009 words, 90,431 letters (77,712,187 steps, 1559 seconds)\n",
      "Pal: 16,110 phrases, 21,010 words, 90,439 letters (77,770,678 steps, 1560 seconds)\n",
      "Pal: 16,111 phrases, 21,012 words, 90,439 letters (78,128,114 steps, 1568 seconds)\n",
      "CPU times: user 33min 11s, sys: 13 s, total: 33min 24s\n",
      "Wall time: 33min 38s\n"
     ]
    }
   ],
   "source": [
    "p = Panama()\n",
    "%time p.search(10**8)"
   ]
  },
  {
   "cell_type": "code",
   "execution_count": 7,
   "metadata": {
    "collapsed": false
   },
   "outputs": [
    {
     "data": {
      "text/plain": [
       "\"a man, a plan, a caretaker, a moksha, Lufkin, a jacinth, Gile, Daniell, Ivanov, an odor, a negativeness, a tsarevna, melanomas, an ire, Gib, Olga, Lata Narayanan, a meld, an elecampane, an evonymus, an anatase, Rachael, an anabasis, an anaesthetics, an anamniote, an ani, DRE, Fredra, Cal, Parette, Serang, Isaacs, a ramark, IHD, a nonacademic, an obstet, Sellers, Sanalda, Erbe, Eba, an ane, Zaneski, Red, Erfurt, Sinai, Sale, Gene Roddenberry, a nonactive, Cenaean, Namangan, a mell, Everes, a nonanimal, a sanitarian, a non-American, Gat, Noman, an arista, Lattimer, a nonemendation, Eberta, Poe, LCT, an anaerobe, Ranita, Marella, an antired, ipsissima verba, a nan, a manille, Tiv, a nonet, an one, Kenney, a caret, Alon, Omar Epps, an analemma, an enami, Barents, Regen, A. H. Taub, a self, Farant, Caresse, RdAc, a nil, a nonrevocation, a melanite, Ranite, Canarese, NEbE, an allanite, Caressa, an all, IJssel, DNA, Carolee Carmello, Sara, Pareto, Oran, a mel, Dissenter, Cesare, Tema, an alt, Evslin, an alienist, anabases, a torpedoman, a meta, Garett, a csk, Cabaeus, an aloneness, Emelita, an alerion, Eleni, a cong, Ilan Adler, a keratoderma, an alg, Roe, generalities, a nonrateability, a hellebore, an anatta, Ranitta, petits, a baresark, unities, an iman, a non-Indian, a non-Israelite, Delano, Ita, Ranit, Ame, a hanaper, Tanah, an alarum, an alpha, Lacedaemonian, a tab, Cenac, an alette, Levona, an airbrasive, Lody, Nnadia Chan, a naira, an airstream, Macedon, an anatexis, an aileron, a nail, arts, UART, San, a nong, a morceau, dice, Delavan, a mete, Parent, Artemas, Esau, an ora, Hsingan, Amero, FAD, Naman, Amery, Bareilly, Hwang, Inanna, an aider, Acre, Vona, an ait, an aisle, a decare, billies, Banares, ARE, Nanakuli, codette, Lemon, a nonmember, a jaconet, an aigrette, Sang, Tanagra, Genet, a portal, an ore, Pip, a non-Uralian, Bohaty, a parent, Sikang, Amorette, Locrian, Cameron, Anna, Carole, Delaware, Temenus, an iterativeness, Enos, an aim, a danaite, Ahrens, Enarete, Mona, Marelda, an ataractic, a noise, lanais, anatexes, a noisette, Long, APS, Enalus, Omari, a natl, Usanis, an attestator, Gean, an oiliness, an oilskin, Numanus, Ari, Hellene, RCAF, a caresser, Pare, Tem, a torsel, a nat, a kokanee, LaSorella, Gipsies, Irby, an aperient, Mareld, an enallage, a decalcomania, an argali, an arbalester, an imagnableness, an arith, a nonsensitiveness, Anam, Kramer, a caress, a parens, Asel, Ujiji, Emelina, PMA, Carena, ELAS, an it's, Estella, Marela, Edana, Melba, Tsana, Mel, Bonar, a nidana, Meri, Fareham, an arum, a receivable, Gene Geter, a grammarian, Alanah, Ana, Hsian, a lenity, an aug, an oil, a decane, an arrest, Ibanez, an acosmist, an absorptance, a noisemaker, a metall, a gasser, an acuteness, Ender, an ossa, Maria, Teria, an acetal, a manilla, Marie, Benilda, Erb, a no-side, an amah, Drava, Lat, Ragan, Amer, O'Fallon, an amasser, Tai, Tini, Nanak, a nine, Leninabad, an enargite, Gilles, a benignancy, Lanam, an ami, Vanessa, LCI, Kikelia, Delamare, Terr, Efahan, a visitor, a nies, a nit, OFris, an amenorrhea, Laramie, Lipsey, an augend, Averell, a carelessness, oogoninia, Lad, a nose, Majel Barrett, an amen, AHSA, Lari, Oka, Hsi, Namara, an enate, Caren, a career, Gena, Jenna von Oy, a material, Lebanon, an abaca, an abalone, an abaser, a nebris, a benison, Aug, an osnaburg, a nosh, Tim, Selle, Baram, an aba, Hellen, a decal, a paretta, Marelya, Teri Polo, a predicate, leva, Warenne, R. Bayer, Fred Astaire, an abr, Unit, a legatee, RFA, Nananne, Kenner, Rawley, a greensand, Ronald, Barea, Benildas, an abb, inamoratas, an abuser, an illegalisation, a mess, a heller, a decapitation, a hello, Helles, Ignatia, Hsia-men, a hcl, a north, Gilda, Edan, a mesa, Barotse, Hts, an ill, a green, OPA, Ewan, a menu, Bret, epithalami, an adder, a nos, an ordainer, an adagio, Marion, a menses, a tsi, Perelman, a taker-in, Ume, Arp, an ord, a ceder, ACS, an oracy, Aneto, O'Kelley, Na-Dene, Lassell, a caramel, a derisiveness, a cudgel, an orang, Farewell, a beek, Sella, Geneva, Dela, Derian, a men, Arcadian, a meg, Rabassa, an adenoma, Gareth, Gilbart, Sandy, a hell, a mix, Elam, a danewort, an emanation, Matsys, a gala, Mario, Marilyn, a tob, an origan, a media, Sello, Cinerama, an asonia, Rania, Redeemer, an oddness, endia, Tsan, a medullation, a colin, a mee, RFD, a raft, a tsarina, Venita, an aulos, a ferret, Edna, Rgen, Alena, Idelle, Baras, an isotach, an oceanography, an orinasal, a bander, a jar, Tepic, a carabin, ANG, a mannan, A Mei, paralipses, ATC, Enola, a goner, a caracal, a spur-rowel, an agron, an oribi, an adenine, Lger, a wet, Agana, an agromania, Lehet, an oca, EdB, USAR, an ell, a veritas, an orca, Marena, Elgan, a morale, a m/s, inamoratos, a rasse, Irene, Csel, a dep, Ohara, a ballade, Paramatman, an agr, Efren, a ramie, Wenona, tubas, an ipm, a caravaner, a decanter, a nitrogen, a morn, Onalaska, a sinapine, LAC, Sellma, Lamas, an agar, Ihab, a rani, Artamas, an aga, Nana Visitor, an agnate, Lev, Lavater, Alli, paramos, a namaste, Lanae, a paretic, an orc, an anagrammatist, Ostap, an acariasis, an enemy, Carey, a let, Al Pacino, Tananarive, Lanark, an amateur, Carew, Arde, Ranie, Torp, Ate, Maren, archenia, Lai, H.P. Korver, an apse, an apery, an anarch, an octameter, Axa, Nanook, Coralie, nonolfactories, Sinatra, parastades, Behan, a mower, Italian, Sans, an orbitale, an evener, a seller, a manatee, Lana Turner, a kerogen, a leat, a monal, Emeline, an eta, Carolle, a nap, POB, Ivar, an aesc, a nip, Opalina, Braca, an aedes, a nim, a sedateness, a metal, a paregoric, a tsardom, a reserve, Freda, Elsi, Maretta, MSAE, an eremite, CAP, Sanfo, Lenin, an enema, a nae, linemen, Arch, an omnivore, Moran, a mowrah, Carola, Janetta, barotraumata, a navelwort, a nave, Tseng, a pareira, Vane, Marat Safin, a nene, Laveran, an orb, a ferule, Carol, an enol, a mane, Jenna, Iranian, an orfe, an aviator, a navarin, a raught, ansae, a negater, a nav, a heliotaxis, a nork, an ortolan, a mow, Seko, PSAT, Angara, a sell, a carapace, Sarette, Ste, Janette, LSS, an amora, laminae, an edema, Rakel, a deg, a predepletion, Rekha, Lala, Heller, Radnor, Ace, Ilse, Lenore, cicale, a metamale, a grisette, Sumerologist, a hgt, a nyala, Arcadia, Mae, Saretta, Harelda, Syr, rabatos, a vanadinite, Cam, Rep, Sarena, Eden, alae, Saree, Tenn, Osanna, Melete, an immune, Dou, Daniel Chan, a kleagle, an afar, an ugsomeness, a cud, Rego, Renita, Lapeer, an azan, a motto, an ayah, a metamer, paras, a carapa, Lamarre, Tanaka, Anaheim, an akala, Arg, Nasser, an ennobler, a notelet, a corban, a mot, a note, Lek, Sarah, Adna, Kenna, IRO, Lenora, Anaxo, Renie, Saragat, a carer, Ansar, Anu, Calan, a mol, Kenny, Lam, Meredi, a ranee, Lavery, Trammel, Asur, E.J. McShane, entea, Hare, Tell, Ibadan, an axe, Renata, Maril, a notable, a gab, a notary, an ektene, Sra, Sara Gilbert, Saipan, a mog, Ardath, Gilli, a tanager, an aortoclasia, an ajiva, an interfacing, an anapaest, Airel, an imagist, a consecrater, Alcaeus, Sinan, a monosyllabism, a rem, Meredith, Savannah, an immortal, a kerosene, MEA, Lattie, Cedarhurst, a hwan, a mara, Tak, Nev, mks units, Uru, Alan-a-dale, a gib, an ottar, an otto, Caro, Tara, Pesaro, Taro, Ball, O'Casey, a helio, Terena, Ebert, Sada, carabaos, a motor, a craniol, an anabasine, a carangid, a no-trumper, a novelese, an ironside, Elata, a metamere, Hsia, Lananna, hsien, Nor, epitra, Maris, Omarr, an ennead, an irenics, a predestitution, a cayman, tupelos, an iris-in, an irregular, an acetate, CAB, USA, an illamon, a cir, Emarie, Harod, an illative, lenos, an ovarium, Anil Kamath, an odium, an anabas, an engager, a weka, Baron, a maniac, an ileus, Sita, a nitramine, Cinelli, Kenn, a susso, an anadem, a nitrate, Let, ALP, an ova, Delisle, a greeter, a wae, Sarad, a nitre, Blane, Marra, Yetac, an italic, Artema, RFC, a net, Norford, a gov, an ovisac, an ital, Paraebius, Anita Mui, Lisa, Venite, Menard, a bene, Lanett, a pareu, a b/l, Freddi, Bred, Nun, a nov, Elena, Anita, Carolynne, Paharis, an octan, Rebeca, Rohn, a marseille, Brogle, a sanies, a car, aparejos, Aires, a ranula, Baroda, a niton, a mar, Ray Allen, a nitromannitol, an isotac, Edette, Lossa, Caravette, Lorene, Tihwa, anis, a moton, Asia, Paran, IHS, an ideal, a spp, Univ, Alfadir, a canaster, Eben, Alano, Italy, Niv, an oleate, an ide, Maregos, a noli-me-tangere, an iter, an idealiser, a bra, Benil, a sanidine, Benita, Lagasse, Nela, Maressa, Leno, T-stop, an olla, Freddy, Renate, an ips, an ignoramus, a tahsil, an acaridan, an omission, Illinoisan, an omicron, a legend, Air, an omen, Marina, Ieda, Lassa, Kenison, Eda, Nanete, a b/s, Ojai, Sarah Smith, Sarazen, a maid, Ninos, a mali, Mariken, Aloysia, Lacedaemon, a nome, a danio, Laney, an ivy, an user, a wassail, Lagash, Tol, CerE, Carolina, Nanna, Merta, Labannah, an omni, Art, Serpasil, a sri, Sell, a helipad, Arafat, a cuda, an ibex, a selectness, a nanako, Lomasi, a nib, a selamlik, a nomad, Ania, Lenox, a selah, an ihp, an ionomer, a wren, Nidaros, a vavasory, AKC, Uball, a caracara, a gems, an adermin, Amal, Caralie, Lanier, an ipr, a helix, Enone, Ugarit, Sarawak, an okay, an engr, Evert, Sass, Enid, a rage, maremme, an izard, a metacarpus, a noma, Leta, an ikan, Amata, Nanni, a trammie, Hort, Selimah, an oyelet, an odd, a barege, a nix, Elatia, Barocius, a yellow, Zenia, Colo, Helle, baronies, a carabid, Asante, Petite, Mimas, a nomarch, Nunes, a helotage, Lorena, Ewart, Serapis, an ode, Motu, an odyl, a carat, AFL, osar, Annamarie, Repeal, Lemal, an iff, Ursula, Selima, Caras, Aimee, Laroy, a dill, a helotry, Maridel, Ade, Vullo, Roca, Aniweta, robalos, a niyama, a mania, Rolanda, wares, a rfb, a rod, a noddle, Ifni, a ninetieth, Gilba, an elemi, an akela, Labors, Selig, Rani, Argo, Likasi, an adsorbate, Lamar, a nametape, an adsorbent, ACP, Italia, Terah, an imager, an anoia, Portage, Baroja, Mareah, Selia, Helli, an acarine, Ohare, an elem, a nod, a lava-lava, Zenobia, Loki, Nellie, SRO, Nanny, Leo, Jenni, Rocker, a greet, Elum, an oos, Sabaean, a helping, Ankara, a manifesto, Mari, a decan, a carafe, a lunacy, a dil, Lohse, Irena, Edessa, CSA, Ranee, Labanna, Meir, an elastin, a decade, Kip, Saros, AEF, Simah, an ideate, Selie, Nellir, Gareri, a peracid, a cranesbill, Abe, Sabatini, Nanji, Rena Komine, Maro, Faro, Tarra, Barak, a decating, a groma, labra, Kenaz, an eliminator, a secretin, an elegit, Serpens, Ian Robison, Amadas, a numen, a nemo, Lifar, an akene, Lesser, a stob, an emirate, Petit, Arany, a greed, a nematocyst, a paramo, Lapsey, a metage, Ledah, an ibid, a senility, BSE, RPO, a carucate, a gree, Tsai, Anna Bruss, Endo, Ogata, Ai Kato, Pedasus, a carder, Angarsk, Ase, Kimmie, Hellas, Salesian, Rabat, a morel, CSE, a lune, a predrawer, AWL, Ema, Nena, an eme, Jenner, Utahan, an emerald, a noon, Udelle, Barimah, an amatol, a basanite, Lemass, Ens, Selda, Oralla, Brett, Ubangi, Sedan, a madrepore, a luce, Fredie, Natalie Maines, Ajaccio, an orphan, Nahshon, a neral, an era, a nitrometer, a noodlehead, Agra, Sapporo, a camellia, Calen, Alo, BSA, Natalee, a lute, Seleucid, Emalee, Harald, an oogamy, an oomiak, an erector, a sea, Cartesian, Alroy, a dir, Fredi, Stu, Ona, an eristic, Ife, Daniele, begats, a nereis, a benne, Ill, AgE, Laver, a secret, a loo, Zaneta, an extent, Ramanujan, a tiptop, a caravan, an o-o, Ramadan, a card, Nassir, a pail, a tannage, an ess, a metabolism, a day, Elna, Tsushima, an estrade, a luge, Teri, an obsidian, Atsuko Okamoto, a cacanapa, Janeta, parodoi, Lehar, a sap, Nedrah, a laniard, an epit, a noddy, OLLA, Laband, YPSCE, Selah, Cimarosa, an earflap, an evader, a wardenry, Tsuda, Renault, a carte, Medell, Ave, RCS, an ugali, Arbela, Daniel, a jaw, Kenedy, Adi, Lohner, Aaron, Aella, Ark, an obs, Ilsedore, Morra, SECAM, a roe, Garey, Aleda, an evasion, Udella, Bac, Tarr, EST, nomas, a mob, a noble, Hell, a volatileness, Eiger, a hanap, a tamarao, Sim, Italianist, Uwton, a jaculator, an obb, Irakis, an eve, Tsuga, Biro, talli, Cavanagh, a yell, Averill, an octal, an oba, Geneina, Mede, Barram, an even, a lunate, Biton, Isaiah, Selry, Martin Amis, an obelus, PAC, a nob, a jailer, a kero, Macy, saris, Sac, Etam, Aranha, BGE, Isai, Sandra Reemer, Ahwaz, Angie, a lugsail, an edacity, Lom, salpas, Anderegg, an anorak, an editor, an opa, Carian, CMTC, a res, Seta, an ethanol, Iwo, a cipolin, a decile, Danie, tsuba, Tania, R. Carnap, an anomia, Selma, delis, a benny, Lenna, Irbil, a magnetron, a masseter, Ucalegon, an opp, interacra, a negatron, Sarid, a gassit, Rucker, a jailbird, an oxidant, a predonor, a belle, a baronetage, Rosene, Mixteco, VanAtta, RPQ, Arissa, Lanie, Tulare, Tepper, Tsui, Lenno, BAS, a cart, Apo, Elche, Paros, Serge, Raney, an oxen, an ogam, Argall, a bacteriolytic, an eelworm, a rgen, Alyda, Lab, a carotid, Artair, a neb, Ito, Martin', Kenya Moore, Delia, Genia, Codi, Lanital, an eel, a kerbaya, Latakia, Paris, Benito, Resa, a needle, a ben, an inalienableness, Egeria, Lihue, Alberti, Maria Laria, LCM, a rollaway, an ivory, Tanis, a sanbenito, Lenny, Rockel, a manit, a loe, Nelli, an etaerio, Mariah Carey, Alanna, Mahan, a tiger, a lac, Sarilda, Erastes, Sari, Apers, Idalia, Ted, an ogre, Rapallo, Ranna, MAA, Nella, Kenya, Merth, an ike, H-steel, Farah, Cananea, Carte, Peti, a warden, Nessie, Wenn, ASU, a lenis, a motet, an estragon, a siper, a llano, Issi, Meraree, Nonna, Caria, LBP, ANTA, Carin, Riksm', a roselle, Parik, a bray, Idell, Enya, Renaud, a neisseria, FFA, an ebonite, Rann, a mem, Ilsa, a help, a tsade, ABM, a sena, Bacau, a nodus, Areta, Mariam, Aney, Harappa, Natal, Liberal, Cartist, a recast, Alfreda, Elatus, Peh, Stahl, a nodule, Rosena, Morell, enigmas, Saharan, YCL, an aced, Odalys Garcia, Letsou, Kenmore, Monotremata, a nef, Ursuline, a lug, Nunu, Arber, Albania, Truc, an ogee, a lur, O'Malley, Ivette, Lahey, an anomite, a lube, Nelly, bissellia, Terrel, Peter Gacs, a robalo, Sapir, an eng, a salary, Terai, Cedar, Asare, Teide, a lub, IFS, a nylghai, a depressor, Parrott, a remainder, a jail, a reb, ILS, anmia, Rattigan, a nogg, a wase, Iraki, a pred, an enroller, Rabah, a nizamate, Lasala, a belly, Peter Clote, Mariolater, Ced, an ogle, an ejido, Lanita, Mehala, a majolica, Lauder, algae, a lulab, Arcady, Olfe, Allix, Amb, Ussuri, an ovalness, Enrika, an oregano, Martine, Gare, Tex, Enyo, Skaw, a seraph, Sarum, an enrollee, a lyre, TPN, a maharani, Ramah, anni, Jenne, Ide, moca, an orfray, a bell, Edam, an ornis, a baronet, Nata, Emalia, Trev, Lisan, a mako, Oza, barracks, a senega, an omer, Cart, a musette, Lian, an off, Ubald, Enugu, an aholt, a manic, Sercq, a rubella, Ebner, radarmen, a tuba, an omasum, a lah, Taney, Odawa, Len, a decimator, a tannate, a ripsaw, a say', Imelda, Ebn, a maestro, Peraea, Lucic, an ohm, a ria, Beniamino, a nomism, ARU, Palla, Mameluke, Ergener, a zany, a deer, Gedaliah, an oast, a rehearser, a leno, TSgt, Canaan, a losel, a dunite, lines, an oak, an o-wave, HCM, Artacia, an olio, a cirri, Barra, Mal, Kra, Marte, Tanner, Benia, Cub, Idalla, Bria, Harar, Egede, an oleaster, a batata, Ems, Redd, an anole, Marino, episedia, Ria, Teheran, Saruk, an obeah, CNO, Carie, Damali, a recitativo, Jenny, wellies, Ramses, a bat, a carol, Averi, Alla, GeV, Rehm, arcae, a rise, Delle, Basilio, Fri, an anoa, Cyler, Alf, an owner, Rad, Sem, a jai, sacra, a ha-Nasi, Trapani, Argades, Benis, a mater, a mutase, Ardys, Pel, Carib, Otaru, a sol, a gem, a now, Reddin, Assassin, a ratter, Aba, Cariocan, a milksop, an otalgia, Rct, a ramekin, an oik, an oiler, Rab, Fla, Hara, an oka, a hetaira, Vano, Isacco, NATSOPA, a nooser, a decibar, Asa, Kamerun, a manipulator, an ameer, Farand, Oberon, Aesir, a barony, a gregale, Arsippe, an ozonide, an oyer, Ambert, Sula, an okapi, HSM, a min, a named, Lahaina, Morelos, a name, Locris, Napaeae, an amowt, a barong, Isaac, an omelet, Sarre, a heth, CIF, an uta, an ultra, Had, Nilsson, a milo, Sera, Cid, Emelia, Ken, a baron, Elenore, an aniline, Dell, Edora, Madaras, Savanna, Hagen, a beretta, Marin, Nebr, Asti, RMA, an upas, a motel, Adm, ijmaa, a nude, Ardy, Helice, Cari, Ali, Heli, HCF, a radar, a spall, Ocala, a tsunami, a sedan, a cranage, Marty, Lenaea, Luci, PSS, a moil, Genie, Serov, Eddy, Ollen, a por, Parry, Tera, MDO, Orban, a mild, Ogallala, Lau, Odell, Edy, Seroka, a numskull, an aketon, Card, Nahshu, LBJ, a nudnik, a nubecula, Lapp, Estelle, Parr, an anise, ranli, Karena, Kibei, Latta, a nub, a tinea, Jenn, a sore, Arbe, Nette, L'Avare, Tali, Danilova, lapins, an amok, Ruthann, a heron, Aileen, a parade, Carrel, Tucson, a nunatak, an upset, an episode, Arbil, Annabelle, Bassein, Annamaria, Harrod, annals, a mock-up, a lovelock, a rayah, Andaman, Natie, Mart, Saba, Lanikai, a samara, an amp, Macedonia, Tanny, Lymann, a manikin, a carotin, a jarrah, Caruso, a recitative, Lahore, Mir, parts, Endres, a bed, an amylose, Arges, a crew, Olatha, Barret, an amyloid, a trend, a rad, Ligetti, Faletti, Welles, Orelee, Tsonga, Helban, an amyl, Lod, an amba, cartes, a mop, Ilene, Leiser, a vaticide, Maraj, anni mirabiles, Ufa, Laverne, Garofalo, Anniken, Arcata, Elbart, Sida, Annice, a sup, Merete, Morea, Natiha, Annorah, a rps, Amoy, MOI, Elene, Lehman, Emelun, Nip, an ambo, RDTE, Lords, a matador, annulli, atria, Harunobu, a belah, Cmdr, an octavo, Lani, Arda, Anny, Lenni, Maroney, a synod, Alec, an amir, remedies, a matelot, an animal, Orpah, Angadreme, RCMP, carli, Maros, a metic, Lacagnia, Latton, Eva, Harim, a dal, veniremen, Tupelo, Hero, Barre, HSH, Anya, Renan, Nereid, a senna, Ileane, Galena, Bab, Maroc, antennae, a recall, a ward, Nazar, a hassock, a raylet, a rank, Emelda, Lanni, Lanny, LFO, a tie, Lenee, Pete, a kerb, a saran, Nessim, a tatter, a grammar, a hanuman, a milliard, an amie, lustra, Harts, Banaras, Suharto, Ipsus, a tepal, Angi, Sarge, Raseta, Rape, Sallie, Nod, Erelia, Maritsa, Noma, Lal, a preta, E.H. Moore, Mohamed Mosbah, Antabuse, Jenilee, Barron, Karelian, an amino, Inuit, a namma, Andee, Madelon, a nymph, Barr, a barolo, Carl, Danila, Anyah, Serra, Bart, Nina Amenta, Ertha, Laina, Delos, Revere, Taran, a mire, Caryl, lenes, Lenard, Isabel, Garamas, a nye, Renado, a tress, Alcatraz, Omaha, Dannie, Lorca, Natika, Anh, a decremeter, Gelasias, ANC, a dirtfarmer, a tamara, Matteo, Parl, Gbari, Augeas, Sofer, a psalm, a senor, Tangier, an amtrac, Avo, Donall, a danny, LGk, a ratepayer, a tarata, Ergane, Mannos, a manioc, an amt, an anaemia, a tart, Salli, BEP, INS, an amuck, a repeller, Oleta, Roi, Lemar, ASM, Isadore, Asben, Arctic, Ernesto, Carrew, a taro, Serg, Ian, a carom, alcaides, Amado, a letter, a gramme, Lassie, a tar, Carrie Dobro, Tang, ERP, Minamoto, a samaj, a kerf, a kermes, a carob, a target, an ego, Mohamed, Aidan, a mir, Rebecca, Nath, Gilberte, Milli, Marabel, a tale, Matta, Geno, Tarah, Cassino, Illimani, a tpm, ARCS, a madame, lanugos, a madre, Tarcy So, a tal, a barat, an anima, Jenica, a tail, Icel, a decree, Petal, Parke, Bubalo, Soren, a coly, Marola, Vania, Massine, Delp, a manage, a meteor, Genna, Idel, an acetyl, carri, MeV, a decl, Udell, Eidson, a colitis, Opa-Locka, a pseud, Aletta, LPS, a macaroni, Artesia, Micaela, colascioni, a tremor, Carbo, Cary, Sally, Sall, a barabara, Teruel, Ossetia, Lepsius, Timi, Ruysdael, a sopor, Parhe, Lansberg, Italic, a taille, Wester, Ava, Laresa, Elaine, Jenifer, a fracas, a macro, Tait, Neto, Pan-African, Gigi Fu, Sert, Neckar, a naker, Afra, Wareing, a baraza, a tabla, nates, an airbill, a hero, Mac, Yser, a flew, an airt, Seal, a paravane, MATS, an aide, Marozas, a manner, Kellie, Broca, a taka, Renelle, a taker, a fanon, amlacra, Marou, qasidas, a pretrace, a tempo, Harte, Peta, Rip, an aide-mmoire, Bassett, Elli, a pretorian, Odab, a r-color, a tat, a yard, nattoria, Homans, Marozik, a saw, Aker, a tanna, Murtha, Laks, a heres, Semela, Carya, Tarazi, Saladin, Argyres, a malaria, Peralta, Zama, Lakeview, an anime, a harem, an animator, Ibada, Erdah, a repp, O'Callaghan, non-Muslims, a mitra, a tag, an anim, a gaseity, Ad Rock, a rissole, a tilery, a sense, Medawar, an aiglet, Silas, a miracidium, Rai, Deluc, a manness, a mib, a carrom, a carrus, a naive, USSCt, a tass, a cariama, a tassel, an acetone, carpalia, TBO, Barbe, Helbona, MMetE, Locrus, Salas, Ananias, Uhde, a belay, a tapa, Zeno, Tyra, Barb, Ansonia, Marga, a naif, Fasano, Ilan, Amida, Fred, Arapahos, an anna, Helbonnah, a rah-rah, Caz, a taw, a yelp, Pan-Arab, a belt, Sacrobosco, Damalus, Nina Brosh, a regale, a tannin, an ann, a kiva, Renell, an arteriole, Attu, Genni, Vedette, Luo, genua, Ebsen, a site, a craps, a mudslinger, autota, Serb, a ferula, a tad, a tay, a kola, Lait, a pretor, a gastronome, a herem, an art, a muser, a daren't, Rap, an arena, Mee, Zenas, Orel, an anion, a gasogene, Mayas, a muesli, a two, Carmena, Mehalek, a tav, a feria, LCL, a sop, Sid, an arcanum, a telesis, Ada, Veda, a tela, a tell, Emera, Dli, Kellia, Coralye, Welty, Lenca, Natta, Margit, a telfer, a dec, an aneroid, a lutanist, a kellet, a cor, Bard, Mocha, Laennec, a raster, Ajani, Alta, Carpaccio, a silesia, Mycah, a rath, Pahari, Massinissa, a metropolis, an arcs, an arroyo, Bel, Bat, Salahi, a saker, a gasp, a lealty, Oberg, Elara, Mada, Lvos, Salangi, Sneed, an alp, Senatobia, Rihana, Tezel, a serai, a snob, a narrater, Emmi, Wsan, Amiens, Amy, Auge, Acis, Even, a caribe, Delcina, Salazar, a loma, a tergum, Manno, ILP, a tercet, a red, Omagh, Carhart, Arakawa, Ley, Barye, TSF, Argyrol, a temper, Panini, lames, ACW, Olli, Pani, ATP, a carrot, an arak, Nassi, a negator, taros, Selassie, Genl, Imamite, a cur, Revell, ECU, Lette, Silesia, Marylyn, a tetanic, Irazu, RCP, a camelopard, Carpo, Cassel, Tamarah, a zero, Matt, a manus, a jane, a cardamom, an arbor, a maturer, Apsaras, Suhail, a rodeo, Hattie, Woking, Estell, a sarape, Hart, Cassatt, a rall, a belga, a teel, Fresnel, Faraday, Adara, Faria, Passover, a vil, Genk, Cornelle, a tee, Mlar, a lokacara, Margi, Menado, Owades, Ulla, Carpet, a recap, a carp, an annal, freemen, an arm, Isac, a carn, Emad, a rajas, a manual, a sis, an argal, a sruti, Artaud, Nihi, Ario, Marykay, a papain, Alansen, a metro, Farika, Fari, Alb, Cirenaica, Petty, Farra, Pass, Engel, Garifalia, Salema, Cassilda, Erse, Maje, a dirt, a pueblo, Carn, Omak, Arkie, Sinaloa, Petras, Lederer, Freehold, Orella, Bary, Danaus, a kat, Settera, a teff, a tanh, a carfax, a nuclein, a tef, an aryballus, a tedium, Major, a map, Utah, a darer, a fanegada, Ernest, Ramsey, a carse, a trap, settos, a metre, Benin, a carhop, Seto, Cassil, BAgSc, a kulak, an akee, Lalu, Erek, a trample, Kareem, Reval, Abakan, Amiel, Kelli, arbota, Marys, Saleme, Mary, markkaa, Lagos, Sabatier, Kellen, a gro, NATO, Pasia, Lavena, BSF, Low, a narwhal, a dBa, Heloise, Irvin, a leone, a dipole, Petra Yared, an arvo, Salita, a trawler, RADA, Lao, Karee, Nevada, Ehud, Nuba, a transudate, a din, Carma, Terti, Marko, Nassau, Qatar, a rate, Logi, Raseda, Terpstra, LCD, a remaker, a ked, an allegro, bagnios, Saber, Airy, Marc, Salim, a tremolo, Sylas, Ahlgren, an allopath, Gilford, Naseby, Gari, Algar, Alamanni, Leverett, a paraffin, Ogaden, Ralli, a spot, an al-Lat, a raj, Ugo, a bel, a saros, Secor, Pasiphae, lazarettos, a recon, Ida Lupino, Romanist, Eraste, Nodab, annates, sabalos, a rigatoni, Marks, Iberia, Mark, a carzey, Adall, OHMS, APSA, a treble, a trehalose, a diol, an alidade, a betatron, eila, Nason, a clover, Azalea, Lunn, a cark, a barred, a trope, Adai, Lehrer, Aorangi, Sven, a mesh, Tegea, Lune, Bahai, Satan, a suslik, Serena, Olaf, a nek, an alameda, Cassie, Renee, Keller, Odelet, Serene, PST, a rattener, Emil, a cargo, Gen, a sorb, Mars, FSR, a tryma, LaF, a meller, impis, SOGAT, a rustle, Marv, crania, Mert, a tinning, Ilario, Manolo, Cassirer, EHFA, Argyra, a tiller, Alameda, Clava, Cassi, a beta, Rima, Nast, a garage, Pasay, a sibyl, a denim, a till, a roc, an alarm, Benet, Erasure, Mihe, a mallee, a mall, Ezekiel, a gash, Tomsk, a senhor, Freeport, sacela, Matadi, a myriad, an ala, Daniala, Atila, a tilth, Gila, a tirade, a mela, Massimo, Olen, a sitar, a laser, Aosta, Cuyab, a sacaton, Eug, UHF, a lipase, Irl, a virelay, Ruelle, Wes, Sufu, Rennold, Arno, Cannae, Sorel, a grey, Alps, Idas, a rec, Onida, Lajoie, camerae, Bene, Legree, Salida, Freer, Gera, EKG, a bema, Garrek, a tire, Geri Halliwell, ECA, Nasho, Benni, Welcy, Cage, Manoah, Camellia, Farro, Cassy, Basseterre, IPA, Laredo, Cass, Eng, Nilla, Garrik, Salomo, Smoke, Amaral, Cann, a sushi, a damsel, a tarok, an alpaca, Leakey, a heriot, Civia, Hopeh, Catalan, Reviel, LaMee, Lareine, Dania, Morel, a tanner, Rawdin, a massivity, Oveta, Ragen, a varec, a ratio, Cadal, a sari, atlases, a barit, Sill, an alcayde, Merari, a fanega, Hynes, a canna, Hojo, Alabama, a label, a rabal, OAPC, a sard, Freeborn, Egadi, a mrem, an alkalimeter, Ossa, Marci, Mano, Iraqi, LaRue, a tiro, Manama, an enc, Orpha, Leela, Leaf, a recce, Lett, Ellerey, Alpert, Nec, an algarroba, a tirl, Atrahasis, a tor, Pasto, O'Reilly, a gremial, Casey, a kelleg, Nashe, Dray, a dotage, Petula, Salop, a time-lag, Nitro, Petua, Pelagias, an alga, Rasure, Mohammedan, EAM, an alba, Free, Shama, a titi, Veneti, LeMay, a pele, a mock, a selenide, a mucro, Tamer, Casie, Rask, a liter, Evette, Lucas, a relater, Eve, Lars, Geri, Albert, Neveda, Cranaus, a yelk, Carcas, Arella, a titter, EbS, a remark, Cuban, a myall, a tip, a canoe, an anniv, a tit, Ramsay, Alper, Evemerus, tamaraos, an alfalfa, Nelides, an alfa, Lea, Kimmi, an etalon, a tub, an acceder, Egide, Casi, Ansermet, Salot, an annotator, Telloh, Cindie, Reno, Harp, Endora, Dot, Nee, Leonardi, Setbal, Abba, Casatus, Aretta, Helot, Saida, a tiderip, a tariff, a kelebe, Dnieper, Ops, Aida, a tidemark, a sister, Rabaul, a bani, Kelis, Sima, a tid, an acc, a lamed, an ergate, Soma, Seidule, a mycetoma, a ticker, Edea, Lug, Illene, a kelep, a sales, self-ironies, a darg, a denial, a tic, a tremie, Helga, Ebro, Past, a fane, meinies, Orelia, Marge, llanos, a melodrama, Gniezno, bassi, Manassas, a tiki, Nels, a better, Alcaids, a reset, a reticule, a glade, Reina, Lema, Leucas, Rabin, a lie, Leto, Canicula, Leibniz, a bettor, a gas, Aramaic, Cotterell, Osage, Karoly, a time, Gerome, Kalbli, Asp, Otero, Farr, a tsk, a sinew, a grebe, Wales, a raker, Opal, a timer, an acarus, Nama, Lemnos, APA, Idaea, Llud, Emery, a fere, Moham, a retake, Helgeson, Kwa, Harv, Seiden, Amye, Gobat, a rumen, Akane Kanazawa, Lassus, Ratha, Lela, Lee, Neri, Alg, an attach, a ransom, a serif, a sera, Ohm, Arman, Amy Smart, Rebel, a ratal, Paske, Erbes, a lord, YHA, a tizzy, Bennu, Den, Erinna, Millar, EMU, Nash, Tamaru, a son, a titania, Modoc, an attar, a tonette, Soraya, Wat, a kelek, a tolan, Amur, Teno, BEd, Albanese, Elea, Reo, Marutani, a retaker, Omsk, a rataplan, Erda, NASD, a nanny, Lessing, Absa, Garm, Octave, a glebe, a gal, Petulah, Tarim, Azeria, Seibold, Orem, Adamsun, Amri, an angiocarp, Udela, G. de Leve, Lash, Taber, Olimbos, an att, Argyll, an anuran, a msl, Edrei, Lebanese, Nidia, Hbert, Itasca, a sin, OSA, Jenei, Danita, Salto, Rasht, a malkin, a luffa, Aharon, impalas, a ravel, Arblay, a ferv, a herd, a parol, Lepp, an anus, a native, Leslee, a girth, a razer, Olav, a last-minute, SDA, Warram, Dacey, Alkmaar, Pas, a ratoon, salts, a top, a salep, a melos, Eiffel, a canary, Patras, Names, Alberoni, Sleep, a canella, a tomato, Aoki, Ronnie, Suh, a tog, Ober, Old, Rowan, Amp, MUP, an ataraxia, Pudsey, an agal, an agamete, Magas, a rice, glassmen, Akela, Atoka, Del, a hwyl, a gaffer, an agama, Alas, an agility, Ohio, an ipecac, a token, a kop, Seiber, Odo, Efrem, a rcd, Arlen, OCTU, an ans, Oban, a mtier, a toe, LCF, Atlas, a rut, Lasko, BSME, Gerti, Lilli, Manala, Gert, Rashi, Held, Dara, a tut, Amelita, Lovash, Taos, Ardis, a tun, a denom, a lassie, Reine, Helsie, a giber, Odele, Cordy, Hanan, Nakada, Mayhew, Orcadian, a tumor, allodia, Suk, Ohl, a tot, an age, noddi, a salade, Manawyddan, Amtorg, a betel, Caniff, a waste, PPI, Tenney, a canner, Benn, a pariah, ESRO, Hanafee, Lila, Gassendi, Canada, Eliga, Levania, Marven, Egin, a lunes, Sejm, Arvada, Elayne, Goss, Idaho, Tetu, Arras, Atul, Avaria, Freida, Lady, a dye, Hanni, Lesya, Helse, Weld, Dawn, AMT, an assentor, rags, arrobas, a herb, Massie, LPG, a rasure, Dubrovnik, an acad, Arvy, Gannon, Aramean, Neper, OCD, Rahab, Arnelle, Bal, Lima, Canova, Seif, FET, Sean, Lunetta, Pet, a renege, Danika, Laski, Lefton, Karol, Yates, a herp, Map, a nagor, CST, a rue, Seabee, Lil, a grex, a wash, turtles, Sevan, Ambur, Gerda, Casavant, Sikata, Molli, Papen, a wasp, a canula, Freia, Marve, Nigel, a parrakeet, a kelt, Sarah Polley, Lesh, Warga, SbE, a gotra, Mah, Tedi, SALT, Bass, Ennis, Arm, Oct, a bai, Danava, Lula, a tug, Ras, Arva, Zena, Maida, Imalda, Elery, Tarsus, Aryn, Ice T, a riv, Elah, a ross, a melee, Perimele, a gunsel, a csc, a manuf, an aeronaut, Namtar, Com, Edrea, Gill, EGO, Adams, a treponema, Rema, Canea, Fano, ironies, OHG, a rpt, Abbasid, Alver, Oceanic, Siple, a letup, Erasme, Edroi, Reisman, a sorrel, a harim, Ida, Lvov, an assai, Marva, a tuy, Savaii, Russel, Ruhl, a colat, a maker, Ong, Isador, Maranh, a henna, elevenses, a rasp, an aedeagus, Tamarra, masses, a rcpt, KKt, a manuka, Leveroni, Lenape, Rif, an aet, Nadeen, Irisa, mukade, Mord, Nasya, Dyal, a turaco, Rea, Narew, a ngaio, an elative, a plaster, Ragg, a tabi, Daniyal, a pie, Lrida, a serum, Attenweiler, otters, Beno, braceros, Debarath, Sissel, Yablon, Gapin, Alma, Herod, a gomerel, Canter, Gerdie, denims, a jass, Erde, Raynor, castelli, Welsh, Warfore, Tarkany, Leonard, Nadabas, Alabamian, Natalie, Baranov, Eddie, Neale, a faradiser, Cant, East, Aesop, a canework, a soken, a wartime, a plucker, EGmc, Castra, Dani, Allayne, Elamite, LCVP, Minako Masumizu, a gager, Obe, Koh, Casta, Evey, a canso, Seaford, Nuri, Adim, an ass, a henry, Beng, a terbia, Bruno, Irbid, Algeria, ZANU, a fanion, OLG, an abohm, a haem, adenoids, a labarum, Ikeda, cans, a ye'se, a bet, Ariz, Ivanna, Mli, USSB, an assam, Attila, Attah, a thematic, ulta, Rus, an abo, Rosanna, MHE, Leilah, a tlo, Valaree, Hanno, Hiss, a lama, Denie, Heron, Salba, Nadab, a hallan, Ambie, Leila, Rolan, a hav, an abele, a pupa, Leda, a tchr, Heros, YMHA, Lienhard, Estel, a par, a liker, Obadias, a rim, a serving, a last, Rapp, a beret, Salbu, Patsis, Sabah, a ros, a menial, an ablator, Episc, Keli, Bomarc, sorgos, Satsuma, a tpd, an emagram, an abba, Rayna, tilak, a hen, a jam, a doit, a mgr, Alia, Benue, Jelena, Meyer, Obel, a barih, a navel, a resister, Rajab, a pret, Alsatia, Wallache, POA, Iliad, a menopause, Nada, Emden, AMLS, a lilac, a passe, Nevil, an assagai, Sab, an assorter, Rik, Salk, Dan Aykroyd, a bonehead, aerobia, Buddie, Bonilla, Denney, a merit, Tanaron, Iago, a dene, Lectra, Caetano, Iden, Airliah, Cimah, a hallah, a remake, Bernarr, A. Blass, Erdda, Nadia, Caspar, Tedra, gobos, Sura, Lebna, MEPA, Tamah, a revamp, CanF, a den, Aili, Leid, a retro, Tamaulipas, a loci, Neron, Leslie, Nero, Mag, a salad, narrows, a rev, Lasley, Addi, Manaus, Samalla, Manila, Takeo Kanade, Hazel, a bedel, Gasser, Tia, Wallas, Rett, a tasse, Neu, Gavan, Amhara, Lech, a rotary, Croce, a butter, Balarama, Rimola, Bme, Cash, Tiff, Irgun, a deli, Boma, Lezlie, Callida, Bobseine, Ewen, Ailene, Libau, an ikebana, taws, a locater, Alcaic, a repeal, LeCroy, a many, Lever, Alemanni, Ramsden, an average, Samal, a manway, an aviary, Calliope, Elsass, Erie, Hanny, Seda, Rina Tajima, Rakia, Biddie, DOP, Macareus, an avatar, Patsy, Cod, Incan, a mho, Benu, an assoc, an avenue, Frei, Lebrun, an akebi, gases, Aoede, Mic, Latif, an ahu, Wels, ilia, BBA, a reamer, Ogawa, leis, a delay, Oralia, Rayne, Ewall, a boko, a grade, Kelci, TUC, Anakim, Arela, Vener, Evania, Borel, a verb, Monagan, Samau, Gerd, Nally, tube-eyes, a baryta, Sama, a tret, Alsace, Sawyere, Ben, Aiden, Axe, Hannus, an ake, Patti, a rein, Nobell, Echemus, a lobe, Avonne, MEP, a trellis, an azote, Nome, Aia, Bertila, a renegade, Anax, a fell, Evalyn, a tahr, an emery, Beria, Zelle, Bamako, Oralie, Kelcy, Canossa, Wesermde, a refit, Orabel, Udele, Baraca, a wart, Samul, an assuror, Alcazar, Marja, Vanier, Evanne, Hegel, a kaross, Essa, Nadine, a proc, Sams, Ines, bistros, Llano, Icaria, Danella, Mitran, karos, Sucre, Patt, Argyle, a refer, Oken, a yds, Allenby, Ortegal, a code, Pater, Bataan, a dero, Leiria, Berio, Callie, Neille, a reebok, a head, Ehrsam, a handler, a reheat, a rip, Samia, Hebrew, a salal, a hallower, Oebalus, a lemma, Rozi, Marji, Herisau, an unassuredness, a luff, a warb, a sallow, Ester, grampuses, a bear, a pit, Lumen, aedegi, a pressie, Herra, Vanna, Mab, Alaska, Ewell, Eulalia, Kela, Esten, a merc, an assured, a sepal, a citadel, Sami, a lca, a rebirth, Gilletta, Basilian, a mGal, Fania, Canotas, Alber, Oyama, Riha, Loralee, Ray Romano, Iva, Nadiya, a reward, Nola, Calli, Codel, Akel, Aepyornis, a heat, a lea, CEA, NMU, Locke, Erasmo, Teddi, Vaden, Aornis, Sade, a zebrass, a cameo, Haney, Ogren, Argonne, Tamiko, a felon, IPY, Addams, a race, Nerine, Mode, Prot, a rap, Ivor, a misaim, an azine, Moe, Yetah, an embacle, a kimmer, Paten, a jalopy, advenae, Berar, Cannock, a labroid, a raga, intros, an embusqu, SAmer, Peri, a terce, Samp, Patnode, Erato, PHS, Adama, rhinaria, Jeno, Basilan, a mgt, a prodder, a zeta, Lipson, a ledger, Danete, Dustin, Samy, Gaspinsula, Kamet, Alpena, Rob, an empennage, Eddina, Economy, Tedd, Ube, a jalap, Makell, Emory, Admete, MSME, Aarau, Ganiats, an emulator, Ganny, Wallensis, Adelle, Bambie, BLA, Herr, Ottillia, Macario, Marfa, I-beam, Mame, Carboni, Roma, Nador, Minnie, Bello, Ivett, Ella, patia, Weser, an akhara, an eloper, Utu, Sassari, Ucayali, a rum, a sally, Dinan, a mwalimu, Saseno, Jal, a mateyness, Argos, Segal, a cassaba, a raki, a rakee, Lianna, MHA, Reiche, Jen, Ilesha, Lillie, Daneen, a jadedness, Naji, a roke, Cartan, Ammann, a meson, IFF, a rason, a psec, angia, Lorollas, Savage, Kelt, Subak, a leben, Illyria, Danene, EMet, a mil, canli, Kemi, Latia, Galligan, an octad, an assuager, Uno, Cath, Gil, Sasebo, a katydid, an emu, loli, Karoo, Mania, Wagner, Rabiah, Gnossus, Ainus, Massey, Eleen, Daven, a noontide, Marwin, a maya, Lorolla, Heti, Hwu, a serf, fisheyes, a passage, Mani, Albany, Lehi, Aldas, a dimer, UCCA, Miru, Patin, Losse, Iris, a ladanum, Dorena, Rist, Nady, Orth, Giraldo, Jere, Miss, a caser, Eimmart, Rabia, Kassel, a dell', Ewe, Jerome, Kaleva, Rayle, a mesolite, Irita, Rodez, an eld, Dirac, a muse, Carthal, a garote, Lacee, Limenia, Waller, Rafe, Kimmel, Sumer, Upali, a stirps, an emmenia, Wedgie, Wesa, a heme, Argovie, cargos, Okayama, a razee, Calama, Latoye, Nadda, Leif, Ferro, Callery, a dele, Difflugia, Kas, an emf, Lowery, Ted Baker, Tami, a romaji, a we'd, Lake, Calpe, mohalim, a hemmer, a mid, Alveta, Noe, NADH, Hanus, Mahalie, Neill, a tree, Basil, a del, Livenza, patios, Assamese, Napa, Jno, NADP, Panagia, Herb, Mohawk, Cataebates, Sabec, a pass, Erkan, a rupee, Loja, Loren, Ilke, catalos, Oeflein, a tantara, H-beam, Megan, a rozener, Rettig, an elbow, an elm, a hem, a lash, Cassite, Manya, Denna, Erbil, a mossie, Herc, an ilex, a kCi, Paton, Sayres, oraria, Vani, Alben, Ilmen, Ironside, Evang, a messan, Ivah, a ronde, Ercilla, Coe, Tamma, Haimes, a vario, Nereen, Daveta, Ngo, cates, summae, basisidia, 